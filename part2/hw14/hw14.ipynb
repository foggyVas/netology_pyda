{
 "cells": [
  {
   "cell_type": "code",
   "execution_count": 1,
   "metadata": {},
   "outputs": [],
   "source": [
    "import pandas as pd\n",
    "import random as rdm\n",
    "import matplotlib.pyplot as plt\n",
    "import seaborn as sns\n",
    "\n",
    "from pylab import rcParams\n",
    "rcParams['figure.figsize'] = 12,9"
   ]
  },
  {
   "cell_type": "markdown",
   "metadata": {},
   "source": [
    "### График 1-3\n",
    "\n",
    "По просьбе коллег, были собраны данные(данные не парсил, а скопировал вручную из разных источников, ибо сроки диплома поджимают ;) и проанализированы несколько компаний, для выявления их прибыльности за определенный период. Задача не сложная с точки зрения анализа, т.к данных мало, однако для отработки графиков-примитивов, думаю, подойдет."
   ]
  },
  {
   "cell_type": "code",
   "execution_count": 2,
   "metadata": {},
   "outputs": [],
   "source": [
    "company1 = 'ООО \"ТРАНСНЕФТЬ-ЛОГИСТИКА\"'"
   ]
  },
  {
   "cell_type": "code",
   "execution_count": 3,
   "metadata": {},
   "outputs": [
    {
     "data": {
      "text/html": [
       "<div>\n",
       "<style scoped>\n",
       "    .dataframe tbody tr th:only-of-type {\n",
       "        vertical-align: middle;\n",
       "    }\n",
       "\n",
       "    .dataframe tbody tr th {\n",
       "        vertical-align: top;\n",
       "    }\n",
       "\n",
       "    .dataframe thead th {\n",
       "        text-align: right;\n",
       "    }\n",
       "</style>\n",
       "<table border=\"1\" class=\"dataframe\">\n",
       "  <thead>\n",
       "    <tr style=\"text-align: right;\">\n",
       "      <th></th>\n",
       "      <th>тыс.руб.</th>\n",
       "    </tr>\n",
       "    <tr>\n",
       "      <th>год</th>\n",
       "      <th></th>\n",
       "    </tr>\n",
       "  </thead>\n",
       "  <tbody>\n",
       "    <tr>\n",
       "      <th>2012</th>\n",
       "      <td>327478</td>\n",
       "    </tr>\n",
       "    <tr>\n",
       "      <th>2013</th>\n",
       "      <td>591424</td>\n",
       "    </tr>\n",
       "    <tr>\n",
       "      <th>2014</th>\n",
       "      <td>349193</td>\n",
       "    </tr>\n",
       "    <tr>\n",
       "      <th>2015</th>\n",
       "      <td>53954</td>\n",
       "    </tr>\n",
       "    <tr>\n",
       "      <th>2016</th>\n",
       "      <td>80144</td>\n",
       "    </tr>\n",
       "    <tr>\n",
       "      <th>2017</th>\n",
       "      <td>126189</td>\n",
       "    </tr>\n",
       "    <tr>\n",
       "      <th>2018</th>\n",
       "      <td>255059</td>\n",
       "    </tr>\n",
       "  </tbody>\n",
       "</table>\n",
       "</div>"
      ],
      "text/plain": [
       "      тыс.руб.\n",
       "год           \n",
       "2012    327478\n",
       "2013    591424\n",
       "2014    349193\n",
       "2015     53954\n",
       "2016     80144\n",
       "2017    126189\n",
       "2018    255059"
      ]
     },
     "execution_count": 3,
     "metadata": {},
     "output_type": "execute_result"
    }
   ],
   "source": [
    "trans_log = pd.read_csv('transneft`-logistika.txt', index_col=0)\n",
    "trans_log"
   ]
  },
  {
   "cell_type": "code",
   "execution_count": 4,
   "metadata": {},
   "outputs": [],
   "source": [
    "trans_log.columns = ['тыс.руб.']"
   ]
  },
  {
   "cell_type": "code",
   "execution_count": 5,
   "metadata": {},
   "outputs": [
    {
     "data": {
      "text/plain": [
       "год\n",
       "2012    327.0\n",
       "2013    591.0\n",
       "2014    349.0\n",
       "2015     54.0\n",
       "2016     80.0\n",
       "2017    126.0\n",
       "2018    255.0\n",
       "Name: тыс.руб., dtype: float64"
      ]
     },
     "execution_count": 5,
     "metadata": {},
     "output_type": "execute_result"
    }
   ],
   "source": [
    "trans_logk =  trans_log['тыс.руб.']/1000\n",
    "trans_logk.round(0)"
   ]
  },
  {
   "cell_type": "code",
   "execution_count": 114,
   "metadata": {},
   "outputs": [
    {
     "data": {
      "text/plain": [
       "Text(0, 0.5, 'год')"
      ]
     },
     "execution_count": 114,
     "metadata": {},
     "output_type": "execute_result"
    },
    {
     "data": {
      "image/png": "[encoded data removed]",
      "text/plain": [
       "<Figure size 432x288 with 1 Axes>"
      ]
     },
     "metadata": {
      "needs_background": "light"
     },
     "output_type": "display_data"
    }
   ],
   "source": [
    "plt.barh(trans_log.index, trans_log['тыс.руб.']/1000, color='silver')\n",
    "plt.title(f'прибыль {company1}')\n",
    "plt.xlabel('млрд.руб.')\n",
    "plt.ylabel('год')"
   ]
  },
  {
   "cell_type": "code",
   "execution_count": 7,
   "metadata": {},
   "outputs": [],
   "source": [
    "company2 = 'ПАО \"ТРАНСНЕФТЬ\"'"
   ]
  },
  {
   "cell_type": "code",
   "execution_count": 8,
   "metadata": {},
   "outputs": [
    {
     "data": {
      "text/html": [
       "<div>\n",
       "<style scoped>\n",
       "    .dataframe tbody tr th:only-of-type {\n",
       "        vertical-align: middle;\n",
       "    }\n",
       "\n",
       "    .dataframe tbody tr th {\n",
       "        vertical-align: top;\n",
       "    }\n",
       "\n",
       "    .dataframe thead th {\n",
       "        text-align: right;\n",
       "    }\n",
       "</style>\n",
       "<table border=\"1\" class=\"dataframe\">\n",
       "  <thead>\n",
       "    <tr style=\"text-align: right;\">\n",
       "      <th></th>\n",
       "      <th>тыс.руб.</th>\n",
       "    </tr>\n",
       "    <tr>\n",
       "      <th>год</th>\n",
       "      <th></th>\n",
       "    </tr>\n",
       "  </thead>\n",
       "  <tbody>\n",
       "    <tr>\n",
       "      <th>2007</th>\n",
       "      <td>4018463</td>\n",
       "    </tr>\n",
       "    <tr>\n",
       "      <th>2008</th>\n",
       "      <td>3681621</td>\n",
       "    </tr>\n",
       "    <tr>\n",
       "      <th>2009</th>\n",
       "      <td>3893243</td>\n",
       "    </tr>\n",
       "    <tr>\n",
       "      <th>2010</th>\n",
       "      <td>4893532</td>\n",
       "    </tr>\n",
       "    <tr>\n",
       "      <th>2011</th>\n",
       "      <td>11141791</td>\n",
       "    </tr>\n",
       "    <tr>\n",
       "      <th>2012</th>\n",
       "      <td>10652444</td>\n",
       "    </tr>\n",
       "    <tr>\n",
       "      <th>2013</th>\n",
       "      <td>11260439</td>\n",
       "    </tr>\n",
       "    <tr>\n",
       "      <th>2014</th>\n",
       "      <td>11783833</td>\n",
       "    </tr>\n",
       "    <tr>\n",
       "      <th>2015</th>\n",
       "      <td>12801410</td>\n",
       "    </tr>\n",
       "    <tr>\n",
       "      <th>2016</th>\n",
       "      <td>30606531</td>\n",
       "    </tr>\n",
       "    <tr>\n",
       "      <th>2017</th>\n",
       "      <td>58843625</td>\n",
       "    </tr>\n",
       "    <tr>\n",
       "      <th>2018</th>\n",
       "      <td>10110912</td>\n",
       "    </tr>\n",
       "  </tbody>\n",
       "</table>\n",
       "</div>"
      ],
      "text/plain": [
       "      тыс.руб.\n",
       "год           \n",
       "2007   4018463\n",
       "2008   3681621\n",
       "2009   3893243\n",
       "2010   4893532\n",
       "2011  11141791\n",
       "2012  10652444\n",
       "2013  11260439\n",
       "2014  11783833\n",
       "2015  12801410\n",
       "2016  30606531\n",
       "2017  58843625\n",
       "2018  10110912"
      ]
     },
     "execution_count": 8,
     "metadata": {},
     "output_type": "execute_result"
    }
   ],
   "source": [
    "transneft = pd.read_csv('transneft`.txt', index_col=0)\n",
    "transneft"
   ]
  },
  {
   "cell_type": "code",
   "execution_count": 115,
   "metadata": {},
   "outputs": [
    {
     "data": {
      "text/plain": [
       "Text(0.5, 0, 'год')"
      ]
     },
     "execution_count": 115,
     "metadata": {},
     "output_type": "execute_result"
    },
    {
     "data": {
      "image/png": "[encoded data removed]",
      "text/plain": [
       "<Figure size 432x288 with 1 Axes>"
      ]
     },
     "metadata": {
      "needs_background": "light"
     },
     "output_type": "display_data"
    }
   ],
   "source": [
    "all_colors = list(plt.cm.colors.cnames.keys())\n",
    "n = len(transneft.index)\n",
    "c = rdm.choices(all_colors, k=n)\n",
    "plt.bar(transneft.index, transneft['тыс.руб.']/1000000, color=c, width=1)\n",
    "plt.title(f'прибыль {company2}')\n",
    "plt.ylabel('млрд.руб.')\n",
    "plt.xlabel('год')"
   ]
  },
  {
   "cell_type": "code",
   "execution_count": 10,
   "metadata": {},
   "outputs": [],
   "source": [
    "company3 = 'ПАО \"НЕФТЯНАЯ КОМПАНИЯ \"РОСНЕФТЬ\"'"
   ]
  },
  {
   "cell_type": "code",
   "execution_count": 11,
   "metadata": {},
   "outputs": [
    {
     "data": {
      "text/html": [
       "<div>\n",
       "<style scoped>\n",
       "    .dataframe tbody tr th:only-of-type {\n",
       "        vertical-align: middle;\n",
       "    }\n",
       "\n",
       "    .dataframe tbody tr th {\n",
       "        vertical-align: top;\n",
       "    }\n",
       "\n",
       "    .dataframe thead th {\n",
       "        text-align: right;\n",
       "    }\n",
       "</style>\n",
       "<table border=\"1\" class=\"dataframe\">\n",
       "  <thead>\n",
       "    <tr style=\"text-align: right;\">\n",
       "      <th></th>\n",
       "      <th>тыс.руб.</th>\n",
       "    </tr>\n",
       "    <tr>\n",
       "      <th>год</th>\n",
       "      <th></th>\n",
       "    </tr>\n",
       "  </thead>\n",
       "  <tbody>\n",
       "    <tr>\n",
       "      <th>2011</th>\n",
       "      <td>236747308</td>\n",
       "    </tr>\n",
       "    <tr>\n",
       "      <th>2012</th>\n",
       "      <td>297983692</td>\n",
       "    </tr>\n",
       "    <tr>\n",
       "      <th>2013</th>\n",
       "      <td>137305207</td>\n",
       "    </tr>\n",
       "    <tr>\n",
       "      <th>2014</th>\n",
       "      <td>501676298</td>\n",
       "    </tr>\n",
       "    <tr>\n",
       "      <th>2015</th>\n",
       "      <td>239413255</td>\n",
       "    </tr>\n",
       "    <tr>\n",
       "      <th>2016</th>\n",
       "      <td>99236214</td>\n",
       "    </tr>\n",
       "    <tr>\n",
       "      <th>2017</th>\n",
       "      <td>138968980</td>\n",
       "    </tr>\n",
       "    <tr>\n",
       "      <th>2018</th>\n",
       "      <td>460784009</td>\n",
       "    </tr>\n",
       "  </tbody>\n",
       "</table>\n",
       "</div>"
      ],
      "text/plain": [
       "       тыс.руб.\n",
       "год            \n",
       "2011  236747308\n",
       "2012  297983692\n",
       "2013  137305207\n",
       "2014  501676298\n",
       "2015  239413255\n",
       "2016   99236214\n",
       "2017  138968980\n",
       "2018  460784009"
      ]
     },
     "execution_count": 11,
     "metadata": {},
     "output_type": "execute_result"
    }
   ],
   "source": [
    "rosneft = pd.read_csv('rosneft`.txt', index_col=0)\n",
    "rosneft"
   ]
  },
  {
   "cell_type": "code",
   "execution_count": 12,
   "metadata": {},
   "outputs": [
    {
     "data": {
      "text/html": [
       "<div>\n",
       "<style scoped>\n",
       "    .dataframe tbody tr th:only-of-type {\n",
       "        vertical-align: middle;\n",
       "    }\n",
       "\n",
       "    .dataframe tbody tr th {\n",
       "        vertical-align: top;\n",
       "    }\n",
       "\n",
       "    .dataframe thead th {\n",
       "        text-align: right;\n",
       "    }\n",
       "</style>\n",
       "<table border=\"1\" class=\"dataframe\">\n",
       "  <thead>\n",
       "    <tr style=\"text-align: right;\">\n",
       "      <th></th>\n",
       "      <th>тыс.руб._x</th>\n",
       "      <th>тыс.руб._y</th>\n",
       "      <th>тыс.руб.</th>\n",
       "    </tr>\n",
       "    <tr>\n",
       "      <th>год</th>\n",
       "      <th></th>\n",
       "      <th></th>\n",
       "      <th></th>\n",
       "    </tr>\n",
       "  </thead>\n",
       "  <tbody>\n",
       "    <tr>\n",
       "      <th>2007</th>\n",
       "      <td>4.018463</td>\n",
       "      <td>NaN</td>\n",
       "      <td>NaN</td>\n",
       "    </tr>\n",
       "    <tr>\n",
       "      <th>2008</th>\n",
       "      <td>3.681621</td>\n",
       "      <td>NaN</td>\n",
       "      <td>NaN</td>\n",
       "    </tr>\n",
       "    <tr>\n",
       "      <th>2009</th>\n",
       "      <td>3.893243</td>\n",
       "      <td>NaN</td>\n",
       "      <td>NaN</td>\n",
       "    </tr>\n",
       "    <tr>\n",
       "      <th>2010</th>\n",
       "      <td>4.893532</td>\n",
       "      <td>NaN</td>\n",
       "      <td>NaN</td>\n",
       "    </tr>\n",
       "    <tr>\n",
       "      <th>2011</th>\n",
       "      <td>11.141791</td>\n",
       "      <td>236.747308</td>\n",
       "      <td>NaN</td>\n",
       "    </tr>\n",
       "    <tr>\n",
       "      <th>2012</th>\n",
       "      <td>10.652444</td>\n",
       "      <td>297.983692</td>\n",
       "      <td>0.327478</td>\n",
       "    </tr>\n",
       "    <tr>\n",
       "      <th>2013</th>\n",
       "      <td>11.260439</td>\n",
       "      <td>137.305207</td>\n",
       "      <td>0.591424</td>\n",
       "    </tr>\n",
       "    <tr>\n",
       "      <th>2014</th>\n",
       "      <td>11.783833</td>\n",
       "      <td>501.676298</td>\n",
       "      <td>0.349193</td>\n",
       "    </tr>\n",
       "    <tr>\n",
       "      <th>2015</th>\n",
       "      <td>12.801410</td>\n",
       "      <td>239.413255</td>\n",
       "      <td>0.053954</td>\n",
       "    </tr>\n",
       "    <tr>\n",
       "      <th>2016</th>\n",
       "      <td>30.606531</td>\n",
       "      <td>99.236214</td>\n",
       "      <td>0.080144</td>\n",
       "    </tr>\n",
       "    <tr>\n",
       "      <th>2017</th>\n",
       "      <td>58.843625</td>\n",
       "      <td>138.968980</td>\n",
       "      <td>0.126189</td>\n",
       "    </tr>\n",
       "    <tr>\n",
       "      <th>2018</th>\n",
       "      <td>10.110912</td>\n",
       "      <td>460.784009</td>\n",
       "      <td>0.255059</td>\n",
       "    </tr>\n",
       "  </tbody>\n",
       "</table>\n",
       "</div>"
      ],
      "text/plain": [
       "      тыс.руб._x  тыс.руб._y  тыс.руб.\n",
       "год                                   \n",
       "2007    4.018463         NaN       NaN\n",
       "2008    3.681621         NaN       NaN\n",
       "2009    3.893243         NaN       NaN\n",
       "2010    4.893532         NaN       NaN\n",
       "2011   11.141791  236.747308       NaN\n",
       "2012   10.652444  297.983692  0.327478\n",
       "2013   11.260439  137.305207  0.591424\n",
       "2014   11.783833  501.676298  0.349193\n",
       "2015   12.801410  239.413255  0.053954\n",
       "2016   30.606531   99.236214  0.080144\n",
       "2017   58.843625  138.968980  0.126189\n",
       "2018   10.110912  460.784009  0.255059"
      ]
     },
     "execution_count": 12,
     "metadata": {},
     "output_type": "execute_result"
    }
   ],
   "source": [
    "all_company = transneft.merge(rosneft, on = 'год', how = 'outer').merge(trans_log, on = 'год', how = 'outer')/1000000\n",
    "all_company"
   ]
  },
  {
   "cell_type": "code",
   "execution_count": 13,
   "metadata": {},
   "outputs": [
    {
     "data": {
      "text/html": [
       "<div>\n",
       "<style scoped>\n",
       "    .dataframe tbody tr th:only-of-type {\n",
       "        vertical-align: middle;\n",
       "    }\n",
       "\n",
       "    .dataframe tbody tr th {\n",
       "        vertical-align: top;\n",
       "    }\n",
       "\n",
       "    .dataframe thead th {\n",
       "        text-align: right;\n",
       "    }\n",
       "</style>\n",
       "<table border=\"1\" class=\"dataframe\">\n",
       "  <thead>\n",
       "    <tr style=\"text-align: right;\">\n",
       "      <th></th>\n",
       "      <th>ПАО \"ТРАНСНЕФТЬ\"</th>\n",
       "      <th>ПАО \"НЕФТЯНАЯ КОМПАНИЯ \"РОСНЕФТЬ\"</th>\n",
       "      <th>ООО \"ТРАНСНЕФТЬ-ЛОГИСТИКА\"</th>\n",
       "    </tr>\n",
       "    <tr>\n",
       "      <th>год</th>\n",
       "      <th></th>\n",
       "      <th></th>\n",
       "      <th></th>\n",
       "    </tr>\n",
       "  </thead>\n",
       "  <tbody>\n",
       "    <tr>\n",
       "      <th>2007</th>\n",
       "      <td>4.018463</td>\n",
       "      <td>NaN</td>\n",
       "      <td>NaN</td>\n",
       "    </tr>\n",
       "    <tr>\n",
       "      <th>2008</th>\n",
       "      <td>3.681621</td>\n",
       "      <td>NaN</td>\n",
       "      <td>NaN</td>\n",
       "    </tr>\n",
       "    <tr>\n",
       "      <th>2009</th>\n",
       "      <td>3.893243</td>\n",
       "      <td>NaN</td>\n",
       "      <td>NaN</td>\n",
       "    </tr>\n",
       "    <tr>\n",
       "      <th>2010</th>\n",
       "      <td>4.893532</td>\n",
       "      <td>NaN</td>\n",
       "      <td>NaN</td>\n",
       "    </tr>\n",
       "    <tr>\n",
       "      <th>2011</th>\n",
       "      <td>11.141791</td>\n",
       "      <td>236.747308</td>\n",
       "      <td>NaN</td>\n",
       "    </tr>\n",
       "    <tr>\n",
       "      <th>2012</th>\n",
       "      <td>10.652444</td>\n",
       "      <td>297.983692</td>\n",
       "      <td>0.327478</td>\n",
       "    </tr>\n",
       "    <tr>\n",
       "      <th>2013</th>\n",
       "      <td>11.260439</td>\n",
       "      <td>137.305207</td>\n",
       "      <td>0.591424</td>\n",
       "    </tr>\n",
       "    <tr>\n",
       "      <th>2014</th>\n",
       "      <td>11.783833</td>\n",
       "      <td>501.676298</td>\n",
       "      <td>0.349193</td>\n",
       "    </tr>\n",
       "    <tr>\n",
       "      <th>2015</th>\n",
       "      <td>12.801410</td>\n",
       "      <td>239.413255</td>\n",
       "      <td>0.053954</td>\n",
       "    </tr>\n",
       "    <tr>\n",
       "      <th>2016</th>\n",
       "      <td>30.606531</td>\n",
       "      <td>99.236214</td>\n",
       "      <td>0.080144</td>\n",
       "    </tr>\n",
       "    <tr>\n",
       "      <th>2017</th>\n",
       "      <td>58.843625</td>\n",
       "      <td>138.968980</td>\n",
       "      <td>0.126189</td>\n",
       "    </tr>\n",
       "    <tr>\n",
       "      <th>2018</th>\n",
       "      <td>10.110912</td>\n",
       "      <td>460.784009</td>\n",
       "      <td>0.255059</td>\n",
       "    </tr>\n",
       "  </tbody>\n",
       "</table>\n",
       "</div>"
      ],
      "text/plain": [
       "      ПАО \"ТРАНСНЕФТЬ\"  ПАО \"НЕФТЯНАЯ КОМПАНИЯ \"РОСНЕФТЬ\"  \\\n",
       "год                                                         \n",
       "2007          4.018463                                NaN   \n",
       "2008          3.681621                                NaN   \n",
       "2009          3.893243                                NaN   \n",
       "2010          4.893532                                NaN   \n",
       "2011         11.141791                         236.747308   \n",
       "2012         10.652444                         297.983692   \n",
       "2013         11.260439                         137.305207   \n",
       "2014         11.783833                         501.676298   \n",
       "2015         12.801410                         239.413255   \n",
       "2016         30.606531                          99.236214   \n",
       "2017         58.843625                         138.968980   \n",
       "2018         10.110912                         460.784009   \n",
       "\n",
       "      ООО \"ТРАНСНЕФТЬ-ЛОГИСТИКА\"  \n",
       "год                               \n",
       "2007                         NaN  \n",
       "2008                         NaN  \n",
       "2009                         NaN  \n",
       "2010                         NaN  \n",
       "2011                         NaN  \n",
       "2012                    0.327478  \n",
       "2013                    0.591424  \n",
       "2014                    0.349193  \n",
       "2015                    0.053954  \n",
       "2016                    0.080144  \n",
       "2017                    0.126189  \n",
       "2018                    0.255059  "
      ]
     },
     "execution_count": 13,
     "metadata": {},
     "output_type": "execute_result"
    }
   ],
   "source": [
    "all_company.columns = company2, company3, company1\n",
    "all_company"
   ]
  },
  {
   "cell_type": "code",
   "execution_count": 109,
   "metadata": {},
   "outputs": [
    {
     "data": {
      "text/plain": [
       "Text(0, 0.5, 'млрд.руб.')"
      ]
     },
     "execution_count": 109,
     "metadata": {},
     "output_type": "execute_result"
    },
    {
     "data": {
      "image/png": "[encoded data removed]",
      "text/plain": [
       "<Figure size 432x288 with 1 Axes>"
      ]
     },
     "metadata": {
      "needs_background": "light"
     },
     "output_type": "display_data"
    }
   ],
   "source": [
    "all_company.plot(kind='bar', width=1.47)\n",
    "plt.title('Прибыль компаний')\n",
    "plt.ylabel('млрд.руб.')"
   ]
  },
  {
   "cell_type": "markdown",
   "metadata": {},
   "source": [
    "#### Выводы\n",
    "\n",
    "Динамика чистой прибыли всех компаний исключительно положительная.\n",
    "Уровень прибыли логистической компании абсолютно не соразмерен с нефтеными"
   ]
  },
  {
   "cell_type": "markdown",
   "metadata": {},
   "source": [
    "### График 4,5 \n",
    "\n",
    "Проанализировать подборку своих фильмом с кинопоиска с БД 280000 пользователей https://grouplens.org/datasets/movielens/latest/).\n",
    "\n",
    "Выявить свои самые популярные жанры и сравнить с популярными жанрами БД.\n",
    "Определить процент русских фильмов\n",
    "\n",
    "##### Основные предположение до построение: \n",
    "- Cамый популярный жанр(и мой в том числе) - Драма, Комедия\n",
    "- Популярные жанры пользователей отлиются от моих, за исключением Драма, Комедии"
   ]
  },
  {
   "cell_type": "code",
   "execution_count": 15,
   "metadata": {
    "scrolled": true
   },
   "outputs": [
    {
     "data": {
      "text/html": [
       "<div>\n",
       "<style scoped>\n",
       "    .dataframe tbody tr th:only-of-type {\n",
       "        vertical-align: middle;\n",
       "    }\n",
       "\n",
       "    .dataframe tbody tr th {\n",
       "        vertical-align: top;\n",
       "    }\n",
       "\n",
       "    .dataframe thead th {\n",
       "        text-align: right;\n",
       "    }\n",
       "</style>\n",
       "<table border=\"1\" class=\"dataframe\">\n",
       "  <thead>\n",
       "    <tr style=\"text-align: right;\">\n",
       "      <th></th>\n",
       "      <th>0</th>\n",
       "      <th>1</th>\n",
       "      <th>2</th>\n",
       "      <th>3</th>\n",
       "      <th>4</th>\n",
       "    </tr>\n",
       "  </thead>\n",
       "  <tbody>\n",
       "    <tr>\n",
       "      <th>0</th>\n",
       "      <td>русскоязычное название</td>\n",
       "      <td>оригинальное название</td>\n",
       "      <td>год</td>\n",
       "      <td>моя оценка</td>\n",
       "      <td>дата и время</td>\n",
       "    </tr>\n",
       "    <tr>\n",
       "      <th>1</th>\n",
       "      <td>Милая Фрэнсис</td>\n",
       "      <td>Frances Ha</td>\n",
       "      <td>2012</td>\n",
       "      <td>-</td>\n",
       "      <td>00:48:13 21.01.2020</td>\n",
       "    </tr>\n",
       "    <tr>\n",
       "      <th>2</th>\n",
       "      <td>Леди Бёрд</td>\n",
       "      <td>Lady Bird</td>\n",
       "      <td>2017</td>\n",
       "      <td>-</td>\n",
       "      <td>11:53:03 19.01.2020</td>\n",
       "    </tr>\n",
       "    <tr>\n",
       "      <th>3</th>\n",
       "      <td>Тело</td>\n",
       "      <td>El cuerpo</td>\n",
       "      <td>2012</td>\n",
       "      <td>-</td>\n",
       "      <td>01:48:35 02.01.2020</td>\n",
       "    </tr>\n",
       "    <tr>\n",
       "      <th>4</th>\n",
       "      <td>Супер 30</td>\n",
       "      <td>Super 30</td>\n",
       "      <td>2019</td>\n",
       "      <td>-</td>\n",
       "      <td>00:11:48 30.12.2019</td>\n",
       "    </tr>\n",
       "  </tbody>\n",
       "</table>\n",
       "</div>"
      ],
      "text/plain": [
       "                        0                      1     2           3  \\\n",
       "0  русскоязычное название  оригинальное название   год  моя оценка   \n",
       "1           Милая Фрэнсис             Frances Ha  2012           -   \n",
       "2               Леди Бёрд              Lady Bird  2017           -   \n",
       "3                    Тело              El cuerpo  2012           -   \n",
       "4                Супер 30               Super 30  2019           -   \n",
       "\n",
       "                     4  \n",
       "0         дата и время  \n",
       "1  00:48:13 21.01.2020  \n",
       "2  11:53:03 19.01.2020  \n",
       "3  01:48:35 02.01.2020  \n",
       "4  00:11:48 30.12.2019  "
      ]
     },
     "execution_count": 15,
     "metadata": {},
     "output_type": "execute_result"
    }
   ],
   "source": [
    "# foggy = pd.read_html('foggy_test.xls', sep='\\t', encoding='utf-8', quotechar='\"', delimiter=',')\n",
    "foggy = pd.read_html('foggy_test.xls')[0]\n",
    "foggy.head()"
   ]
  },
  {
   "cell_type": "code",
   "execution_count": 16,
   "metadata": {
    "scrolled": true
   },
   "outputs": [],
   "source": [
    "foggy.columns = foggy.iloc[0]"
   ]
  },
  {
   "cell_type": "code",
   "execution_count": 17,
   "metadata": {},
   "outputs": [
    {
     "data": {
      "text/html": [
       "<div>\n",
       "<style scoped>\n",
       "    .dataframe tbody tr th:only-of-type {\n",
       "        vertical-align: middle;\n",
       "    }\n",
       "\n",
       "    .dataframe tbody tr th {\n",
       "        vertical-align: top;\n",
       "    }\n",
       "\n",
       "    .dataframe thead th {\n",
       "        text-align: right;\n",
       "    }\n",
       "</style>\n",
       "<table border=\"1\" class=\"dataframe\">\n",
       "  <thead>\n",
       "    <tr style=\"text-align: right;\">\n",
       "      <th></th>\n",
       "      <th>русскоязычное название</th>\n",
       "      <th>оригинальное название</th>\n",
       "      <th>год</th>\n",
       "      <th>моя оценка</th>\n",
       "      <th>дата и время</th>\n",
       "    </tr>\n",
       "  </thead>\n",
       "  <tbody>\n",
       "    <tr>\n",
       "      <th>0</th>\n",
       "      <td>русскоязычное название</td>\n",
       "      <td>оригинальное название</td>\n",
       "      <td>год</td>\n",
       "      <td>моя оценка</td>\n",
       "      <td>дата и время</td>\n",
       "    </tr>\n",
       "    <tr>\n",
       "      <th>1</th>\n",
       "      <td>Милая Фрэнсис</td>\n",
       "      <td>Frances Ha</td>\n",
       "      <td>2012</td>\n",
       "      <td>-</td>\n",
       "      <td>00:48:13 21.01.2020</td>\n",
       "    </tr>\n",
       "    <tr>\n",
       "      <th>2</th>\n",
       "      <td>Леди Бёрд</td>\n",
       "      <td>Lady Bird</td>\n",
       "      <td>2017</td>\n",
       "      <td>-</td>\n",
       "      <td>11:53:03 19.01.2020</td>\n",
       "    </tr>\n",
       "    <tr>\n",
       "      <th>3</th>\n",
       "      <td>Тело</td>\n",
       "      <td>El cuerpo</td>\n",
       "      <td>2012</td>\n",
       "      <td>-</td>\n",
       "      <td>01:48:35 02.01.2020</td>\n",
       "    </tr>\n",
       "    <tr>\n",
       "      <th>4</th>\n",
       "      <td>Супер 30</td>\n",
       "      <td>Super 30</td>\n",
       "      <td>2019</td>\n",
       "      <td>-</td>\n",
       "      <td>00:11:48 30.12.2019</td>\n",
       "    </tr>\n",
       "  </tbody>\n",
       "</table>\n",
       "</div>"
      ],
      "text/plain": [
       "0  русскоязычное название  оригинальное название   год  моя оценка  \\\n",
       "0  русскоязычное название  оригинальное название   год  моя оценка   \n",
       "1           Милая Фрэнсис             Frances Ha  2012           -   \n",
       "2               Леди Бёрд              Lady Bird  2017           -   \n",
       "3                    Тело              El cuerpo  2012           -   \n",
       "4                Супер 30               Super 30  2019           -   \n",
       "\n",
       "0         дата и время  \n",
       "0         дата и время  \n",
       "1  00:48:13 21.01.2020  \n",
       "2  11:53:03 19.01.2020  \n",
       "3  01:48:35 02.01.2020  \n",
       "4  00:11:48 30.12.2019  "
      ]
     },
     "execution_count": 17,
     "metadata": {},
     "output_type": "execute_result"
    }
   ],
   "source": [
    "foggy.head()"
   ]
  },
  {
   "cell_type": "code",
   "execution_count": 18,
   "metadata": {},
   "outputs": [
    {
     "data": {
      "text/html": [
       "<div>\n",
       "<style scoped>\n",
       "    .dataframe tbody tr th:only-of-type {\n",
       "        vertical-align: middle;\n",
       "    }\n",
       "\n",
       "    .dataframe tbody tr th {\n",
       "        vertical-align: top;\n",
       "    }\n",
       "\n",
       "    .dataframe thead th {\n",
       "        text-align: right;\n",
       "    }\n",
       "</style>\n",
       "<table border=\"1\" class=\"dataframe\">\n",
       "  <thead>\n",
       "    <tr style=\"text-align: right;\">\n",
       "      <th></th>\n",
       "      <th>русскоязычное название</th>\n",
       "      <th>оригинальное название</th>\n",
       "      <th>год</th>\n",
       "      <th>моя оценка</th>\n",
       "      <th>дата и время</th>\n",
       "    </tr>\n",
       "  </thead>\n",
       "  <tbody>\n",
       "    <tr>\n",
       "      <th>1</th>\n",
       "      <td>Милая Фрэнсис</td>\n",
       "      <td>Frances Ha</td>\n",
       "      <td>2012</td>\n",
       "      <td>-</td>\n",
       "      <td>00:48:13 21.01.2020</td>\n",
       "    </tr>\n",
       "    <tr>\n",
       "      <th>2</th>\n",
       "      <td>Леди Бёрд</td>\n",
       "      <td>Lady Bird</td>\n",
       "      <td>2017</td>\n",
       "      <td>-</td>\n",
       "      <td>11:53:03 19.01.2020</td>\n",
       "    </tr>\n",
       "    <tr>\n",
       "      <th>3</th>\n",
       "      <td>Тело</td>\n",
       "      <td>El cuerpo</td>\n",
       "      <td>2012</td>\n",
       "      <td>-</td>\n",
       "      <td>01:48:35 02.01.2020</td>\n",
       "    </tr>\n",
       "    <tr>\n",
       "      <th>4</th>\n",
       "      <td>Супер 30</td>\n",
       "      <td>Super 30</td>\n",
       "      <td>2019</td>\n",
       "      <td>-</td>\n",
       "      <td>00:11:48 30.12.2019</td>\n",
       "    </tr>\n",
       "    <tr>\n",
       "      <th>5</th>\n",
       "      <td>Достать ножи</td>\n",
       "      <td>Knives Out</td>\n",
       "      <td>2019</td>\n",
       "      <td>-</td>\n",
       "      <td>19:48:23 29.12.2019</td>\n",
       "    </tr>\n",
       "    <tr>\n",
       "      <th>6</th>\n",
       "      <td>2001 год: Космическая одиссея</td>\n",
       "      <td>2001: A Space Odyssey</td>\n",
       "      <td>1968</td>\n",
       "      <td>-</td>\n",
       "      <td>08:57:29 14.12.2019</td>\n",
       "    </tr>\n",
       "    <tr>\n",
       "      <th>7</th>\n",
       "      <td>Джой</td>\n",
       "      <td>Joy</td>\n",
       "      <td>2015</td>\n",
       "      <td>-</td>\n",
       "      <td>08:56:56 14.12.2019</td>\n",
       "    </tr>\n",
       "    <tr>\n",
       "      <th>8</th>\n",
       "      <td>Адаптация</td>\n",
       "      <td>Adaptation.</td>\n",
       "      <td>2002</td>\n",
       "      <td>-</td>\n",
       "      <td>04:55:11 11.12.2019</td>\n",
       "    </tr>\n",
       "    <tr>\n",
       "      <th>9</th>\n",
       "      <td>Ford против Ferrari</td>\n",
       "      <td>Ford v Ferrari</td>\n",
       "      <td>2019</td>\n",
       "      <td>-</td>\n",
       "      <td>15:29:04 01.12.2019</td>\n",
       "    </tr>\n",
       "    <tr>\n",
       "      <th>10</th>\n",
       "      <td>Клаус</td>\n",
       "      <td>Klaus</td>\n",
       "      <td>2019</td>\n",
       "      <td>-</td>\n",
       "      <td>19:49:29 21.11.2019</td>\n",
       "    </tr>\n",
       "    <tr>\n",
       "      <th>11</th>\n",
       "      <td>Злой дух Ямбуя</td>\n",
       "      <td>NaN</td>\n",
       "      <td>1977</td>\n",
       "      <td>-</td>\n",
       "      <td>21:27:57 19.11.2019</td>\n",
       "    </tr>\n",
       "    <tr>\n",
       "      <th>12</th>\n",
       "      <td>Вкусы молодости</td>\n",
       "      <td>Si shi qing chun</td>\n",
       "      <td>2018</td>\n",
       "      <td>-</td>\n",
       "      <td>18:51:45 19.11.2019</td>\n",
       "    </tr>\n",
       "    <tr>\n",
       "      <th>13</th>\n",
       "      <td>Тайна Келлс</td>\n",
       "      <td>The Secret of Kells</td>\n",
       "      <td>2008</td>\n",
       "      <td>-</td>\n",
       "      <td>15:31:39 19.11.2019</td>\n",
       "    </tr>\n",
       "    <tr>\n",
       "      <th>14</th>\n",
       "      <td>Под покровом ночи</td>\n",
       "      <td>Nocturna</td>\n",
       "      <td>2007</td>\n",
       "      <td>-</td>\n",
       "      <td>20:25:25 18.11.2019</td>\n",
       "    </tr>\n",
       "    <tr>\n",
       "      <th>15</th>\n",
       "      <td>Добытчица</td>\n",
       "      <td>The Breadwinner</td>\n",
       "      <td>2017</td>\n",
       "      <td>-</td>\n",
       "      <td>14:10:00 17.11.2019</td>\n",
       "    </tr>\n",
       "    <tr>\n",
       "      <th>16</th>\n",
       "      <td>Любители истории</td>\n",
       "      <td>The History Boys</td>\n",
       "      <td>2006</td>\n",
       "      <td>-</td>\n",
       "      <td>06:32:05 13.11.2019</td>\n",
       "    </tr>\n",
       "    <tr>\n",
       "      <th>17</th>\n",
       "      <td>Выходной день Ферриса Бьюллера</td>\n",
       "      <td>Ferris Bueller's Day Off</td>\n",
       "      <td>1986</td>\n",
       "      <td>-</td>\n",
       "      <td>15:20:38 12.11.2019</td>\n",
       "    </tr>\n",
       "    <tr>\n",
       "      <th>18</th>\n",
       "      <td>Невероятный мир глазами Энцо</td>\n",
       "      <td>The Art of Racing in the Rain</td>\n",
       "      <td>2019</td>\n",
       "      <td>-</td>\n",
       "      <td>10:16:28 12.11.2019</td>\n",
       "    </tr>\n",
       "    <tr>\n",
       "      <th>19</th>\n",
       "      <td>Арахисовый сокол</td>\n",
       "      <td>The Peanut Butter Falcon</td>\n",
       "      <td>2019</td>\n",
       "      <td>-</td>\n",
       "      <td>10:21:06 11.11.2019</td>\n",
       "    </tr>\n",
       "    <tr>\n",
       "      <th>20</th>\n",
       "      <td>Прощание</td>\n",
       "      <td>The Farewell</td>\n",
       "      <td>2019</td>\n",
       "      <td>-</td>\n",
       "      <td>10:16:47 11.11.2019</td>\n",
       "    </tr>\n",
       "    <tr>\n",
       "      <th>21</th>\n",
       "      <td>Всегда</td>\n",
       "      <td>Ojik geudaeman</td>\n",
       "      <td>2011</td>\n",
       "      <td>-</td>\n",
       "      <td>23:40:02 03.11.2019</td>\n",
       "    </tr>\n",
       "    <tr>\n",
       "      <th>22</th>\n",
       "      <td>Чунгкингский экспресс</td>\n",
       "      <td>Chung Hing sam lam</td>\n",
       "      <td>1994</td>\n",
       "      <td>-</td>\n",
       "      <td>04:54:19 30.10.2019</td>\n",
       "    </tr>\n",
       "    <tr>\n",
       "      <th>23</th>\n",
       "      <td>Любовник</td>\n",
       "      <td>L'amant</td>\n",
       "      <td>1991</td>\n",
       "      <td>-</td>\n",
       "      <td>18:54:29 27.10.2019</td>\n",
       "    </tr>\n",
       "    <tr>\n",
       "      <th>24</th>\n",
       "      <td>Союзники</td>\n",
       "      <td>Allied</td>\n",
       "      <td>2016</td>\n",
       "      <td>-</td>\n",
       "      <td>17:11:59 27.10.2019</td>\n",
       "    </tr>\n",
       "    <tr>\n",
       "      <th>25</th>\n",
       "      <td>Крупный план</td>\n",
       "      <td>Nema-ye Nazdik</td>\n",
       "      <td>1990</td>\n",
       "      <td>-</td>\n",
       "      <td>03:44:04 21.10.2019</td>\n",
       "    </tr>\n",
       "    <tr>\n",
       "      <th>26</th>\n",
       "      <td>Клуб любителей книг и пирогов из картофельных ...</td>\n",
       "      <td>The Guernsey Literary and Potato Peel Pie Society</td>\n",
       "      <td>2018</td>\n",
       "      <td>-</td>\n",
       "      <td>02:21:05 15.10.2019</td>\n",
       "    </tr>\n",
       "    <tr>\n",
       "      <th>27</th>\n",
       "      <td>Жизнь не может быть скучной!</td>\n",
       "      <td>Zindagi Na Milegi Dobara</td>\n",
       "      <td>2011</td>\n",
       "      <td>-</td>\n",
       "      <td>15:39:49 14.10.2019</td>\n",
       "    </tr>\n",
       "    <tr>\n",
       "      <th>28</th>\n",
       "      <td>Фаворитка</td>\n",
       "      <td>The Favourite</td>\n",
       "      <td>2018</td>\n",
       "      <td>-</td>\n",
       "      <td>04:33:41 14.10.2019</td>\n",
       "    </tr>\n",
       "    <tr>\n",
       "      <th>29</th>\n",
       "      <td>Макс</td>\n",
       "      <td>Max</td>\n",
       "      <td>2015</td>\n",
       "      <td>-</td>\n",
       "      <td>01:38:59 14.10.2019</td>\n",
       "    </tr>\n",
       "    <tr>\n",
       "      <th>30</th>\n",
       "      <td>Джокер</td>\n",
       "      <td>Joker</td>\n",
       "      <td>2019</td>\n",
       "      <td>-</td>\n",
       "      <td>03:42:09 11.10.2019</td>\n",
       "    </tr>\n",
       "    <tr>\n",
       "      <th>...</th>\n",
       "      <td>...</td>\n",
       "      <td>...</td>\n",
       "      <td>...</td>\n",
       "      <td>...</td>\n",
       "      <td>...</td>\n",
       "    </tr>\n",
       "    <tr>\n",
       "      <th>1478</th>\n",
       "      <td>Стальной гигант</td>\n",
       "      <td>The Iron Giant</td>\n",
       "      <td>1999</td>\n",
       "      <td>-</td>\n",
       "      <td>23:05:19 01.09.2017</td>\n",
       "    </tr>\n",
       "    <tr>\n",
       "      <th>1479</th>\n",
       "      <td>Планета обезьян</td>\n",
       "      <td>Planet of the Apes</td>\n",
       "      <td>1968</td>\n",
       "      <td>-</td>\n",
       "      <td>23:05:14 01.09.2017</td>\n",
       "    </tr>\n",
       "    <tr>\n",
       "      <th>1480</th>\n",
       "      <td>Челюсти</td>\n",
       "      <td>Jaws</td>\n",
       "      <td>1975</td>\n",
       "      <td>-</td>\n",
       "      <td>23:05:09 01.09.2017</td>\n",
       "    </tr>\n",
       "    <tr>\n",
       "      <th>1481</th>\n",
       "      <td>Пираты Карибского моря: Проклятие Черной жемчу...</td>\n",
       "      <td>Pirates of the Caribbean: The Curse of the Bla...</td>\n",
       "      <td>2003</td>\n",
       "      <td>-</td>\n",
       "      <td>23:05:06 01.09.2017</td>\n",
       "    </tr>\n",
       "    <tr>\n",
       "      <th>1482</th>\n",
       "      <td>Барри Линдон</td>\n",
       "      <td>Barry Lyndon</td>\n",
       "      <td>1975</td>\n",
       "      <td>-</td>\n",
       "      <td>23:04:55 01.09.2017</td>\n",
       "    </tr>\n",
       "    <tr>\n",
       "      <th>1483</th>\n",
       "      <td>Бен-Гур</td>\n",
       "      <td>Ben-Hur</td>\n",
       "      <td>1959</td>\n",
       "      <td>-</td>\n",
       "      <td>23:04:48 01.09.2017</td>\n",
       "    </tr>\n",
       "    <tr>\n",
       "      <th>1484</th>\n",
       "      <td>Парк Юрского периода</td>\n",
       "      <td>Jurassic Park</td>\n",
       "      <td>1993</td>\n",
       "      <td>-</td>\n",
       "      <td>23:04:36 01.09.2017</td>\n",
       "    </tr>\n",
       "    <tr>\n",
       "      <th>1485</th>\n",
       "      <td>Фицкарральдо</td>\n",
       "      <td>Fitzcarraldo</td>\n",
       "      <td>1982</td>\n",
       "      <td>-</td>\n",
       "      <td>23:04:32 01.09.2017</td>\n",
       "    </tr>\n",
       "    <tr>\n",
       "      <th>1486</th>\n",
       "      <td>Мост через реку Квай</td>\n",
       "      <td>The Bridge on the River Kwai</td>\n",
       "      <td>1957</td>\n",
       "      <td>-</td>\n",
       "      <td>23:04:21 01.09.2017</td>\n",
       "    </tr>\n",
       "    <tr>\n",
       "      <th>1487</th>\n",
       "      <td>Сокровища Сьерра Мадре</td>\n",
       "      <td>The Treasure of the Sierra Madre</td>\n",
       "      <td>1947</td>\n",
       "      <td>-</td>\n",
       "      <td>23:04:14 01.09.2017</td>\n",
       "    </tr>\n",
       "    <tr>\n",
       "      <th>1488</th>\n",
       "      <td>В джазе только девушки</td>\n",
       "      <td>Some Like It Hot</td>\n",
       "      <td>1959</td>\n",
       "      <td>-</td>\n",
       "      <td>23:04:06 01.09.2017</td>\n",
       "    </tr>\n",
       "    <tr>\n",
       "      <th>1489</th>\n",
       "      <td>Лоуренс Аравийский</td>\n",
       "      <td>Lawrence of Arabia</td>\n",
       "      <td>1962</td>\n",
       "      <td>-</td>\n",
       "      <td>23:04:04 01.09.2017</td>\n",
       "    </tr>\n",
       "    <tr>\n",
       "      <th>1490</th>\n",
       "      <td>История игрушек</td>\n",
       "      <td>Toy Story</td>\n",
       "      <td>1995</td>\n",
       "      <td>-</td>\n",
       "      <td>23:03:59 01.09.2017</td>\n",
       "    </tr>\n",
       "    <tr>\n",
       "      <th>1491</th>\n",
       "      <td>Подводная лодка</td>\n",
       "      <td>Das Boot</td>\n",
       "      <td>1981</td>\n",
       "      <td>-</td>\n",
       "      <td>23:03:57 01.09.2017</td>\n",
       "    </tr>\n",
       "    <tr>\n",
       "      <th>1492</th>\n",
       "      <td>Индиана Джонс: В поисках утраченного ковчега</td>\n",
       "      <td>Raiders of the Lost Ark</td>\n",
       "      <td>1981</td>\n",
       "      <td>-</td>\n",
       "      <td>23:03:51 01.09.2017</td>\n",
       "    </tr>\n",
       "    <tr>\n",
       "      <th>1493</th>\n",
       "      <td>Гладиатор</td>\n",
       "      <td>Gladiator</td>\n",
       "      <td>2000</td>\n",
       "      <td>-</td>\n",
       "      <td>23:03:35 01.09.2017</td>\n",
       "    </tr>\n",
       "    <tr>\n",
       "      <th>1494</th>\n",
       "      <td>Звёздные войны: Эпизод 4 – Новая надежда</td>\n",
       "      <td>Star Wars</td>\n",
       "      <td>1977</td>\n",
       "      <td>-</td>\n",
       "      <td>23:03:32 01.09.2017</td>\n",
       "    </tr>\n",
       "    <tr>\n",
       "      <th>1495</th>\n",
       "      <td>Семь самураев</td>\n",
       "      <td>Shichinin no samurai</td>\n",
       "      <td>1954</td>\n",
       "      <td>-</td>\n",
       "      <td>23:03:29 01.09.2017</td>\n",
       "    </tr>\n",
       "    <tr>\n",
       "      <th>1496</th>\n",
       "      <td>Властелин колец: Братство кольца</td>\n",
       "      <td>The Lord of the Rings: The Fellowship of the Ring</td>\n",
       "      <td>2001</td>\n",
       "      <td>-</td>\n",
       "      <td>23:03:26 01.09.2017</td>\n",
       "    </tr>\n",
       "    <tr>\n",
       "      <th>1497</th>\n",
       "      <td>Караваджо</td>\n",
       "      <td>Caravaggio</td>\n",
       "      <td>1986</td>\n",
       "      <td>-</td>\n",
       "      <td>22:58:02 01.09.2017</td>\n",
       "    </tr>\n",
       "    <tr>\n",
       "      <th>1498</th>\n",
       "      <td>Гонка</td>\n",
       "      <td>Rush</td>\n",
       "      <td>2013</td>\n",
       "      <td>-</td>\n",
       "      <td>22:56:13 01.09.2017</td>\n",
       "    </tr>\n",
       "    <tr>\n",
       "      <th>1499</th>\n",
       "      <td>Префонтейн</td>\n",
       "      <td>Prefontaine</td>\n",
       "      <td>1997</td>\n",
       "      <td>-</td>\n",
       "      <td>22:56:08 01.09.2017</td>\n",
       "    </tr>\n",
       "    <tr>\n",
       "      <th>1500</th>\n",
       "      <td>Однажды в Китае</td>\n",
       "      <td>Wong Fei Hung</td>\n",
       "      <td>1991</td>\n",
       "      <td>-</td>\n",
       "      <td>22:52:46 01.09.2017</td>\n",
       "    </tr>\n",
       "    <tr>\n",
       "      <th>1501</th>\n",
       "      <td>Елизавета</td>\n",
       "      <td>Elizabeth</td>\n",
       "      <td>1998</td>\n",
       "      <td>-</td>\n",
       "      <td>22:46:05 01.09.2017</td>\n",
       "    </tr>\n",
       "    <tr>\n",
       "      <th>1502</th>\n",
       "      <td>Загадочная история Бенджамина Баттона</td>\n",
       "      <td>The Curious Case of Benjamin Button</td>\n",
       "      <td>2008</td>\n",
       "      <td>-</td>\n",
       "      <td>22:41:51 01.09.2017</td>\n",
       "    </tr>\n",
       "    <tr>\n",
       "      <th>1503</th>\n",
       "      <td>Мосты округа Мэдисон</td>\n",
       "      <td>The Bridges of Madison County</td>\n",
       "      <td>1995</td>\n",
       "      <td>-</td>\n",
       "      <td>22:41:24 01.09.2017</td>\n",
       "    </tr>\n",
       "    <tr>\n",
       "      <th>1504</th>\n",
       "      <td>Австралия</td>\n",
       "      <td>Australia</td>\n",
       "      <td>2008</td>\n",
       "      <td>-</td>\n",
       "      <td>22:36:30 01.09.2017</td>\n",
       "    </tr>\n",
       "    <tr>\n",
       "      <th>1505</th>\n",
       "      <td>Из Африки</td>\n",
       "      <td>Out of Africa</td>\n",
       "      <td>1985</td>\n",
       "      <td>-</td>\n",
       "      <td>22:36:06 01.09.2017</td>\n",
       "    </tr>\n",
       "    <tr>\n",
       "      <th>1506</th>\n",
       "      <td>Нигде в Африке</td>\n",
       "      <td>Nirgendwo in Afrika</td>\n",
       "      <td>2001</td>\n",
       "      <td>-</td>\n",
       "      <td>22:35:36 01.09.2017</td>\n",
       "    </tr>\n",
       "    <tr>\n",
       "      <th>1507</th>\n",
       "      <td>Донни Браско</td>\n",
       "      <td>Donnie Brasco</td>\n",
       "      <td>1997</td>\n",
       "      <td>-</td>\n",
       "      <td>22:30:39 01.09.2017</td>\n",
       "    </tr>\n",
       "  </tbody>\n",
       "</table>\n",
       "<p>1507 rows × 5 columns</p>\n",
       "</div>"
      ],
      "text/plain": [
       "0                                русскоязычное название  \\\n",
       "1                                         Милая Фрэнсис   \n",
       "2                                             Леди Бёрд   \n",
       "3                                                  Тело   \n",
       "4                                              Супер 30   \n",
       "5                                          Достать ножи   \n",
       "6                         2001 год: Космическая одиссея   \n",
       "7                                                  Джой   \n",
       "8                                             Адаптация   \n",
       "9                                   Ford против Ferrari   \n",
       "10                                                Клаус   \n",
       "11                                       Злой дух Ямбуя   \n",
       "12                                      Вкусы молодости   \n",
       "13                                          Тайна Келлс   \n",
       "14                                    Под покровом ночи   \n",
       "15                                            Добытчица   \n",
       "16                                     Любители истории   \n",
       "17                       Выходной день Ферриса Бьюллера   \n",
       "18                         Невероятный мир глазами Энцо   \n",
       "19                                     Арахисовый сокол   \n",
       "20                                             Прощание   \n",
       "21                                               Всегда   \n",
       "22                                Чунгкингский экспресс   \n",
       "23                                             Любовник   \n",
       "24                                             Союзники   \n",
       "25                                         Крупный план   \n",
       "26    Клуб любителей книг и пирогов из картофельных ...   \n",
       "27                         Жизнь не может быть скучной!   \n",
       "28                                            Фаворитка   \n",
       "29                                                 Макс   \n",
       "30                                               Джокер   \n",
       "...                                                 ...   \n",
       "1478                                    Стальной гигант   \n",
       "1479                                    Планета обезьян   \n",
       "1480                                            Челюсти   \n",
       "1481  Пираты Карибского моря: Проклятие Черной жемчу...   \n",
       "1482                                       Барри Линдон   \n",
       "1483                                            Бен-Гур   \n",
       "1484                               Парк Юрского периода   \n",
       "1485                                       Фицкарральдо   \n",
       "1486                               Мост через реку Квай   \n",
       "1487                             Сокровища Сьерра Мадре   \n",
       "1488                             В джазе только девушки   \n",
       "1489                                 Лоуренс Аравийский   \n",
       "1490                                    История игрушек   \n",
       "1491                                    Подводная лодка   \n",
       "1492       Индиана Джонс: В поисках утраченного ковчега   \n",
       "1493                                          Гладиатор   \n",
       "1494           Звёздные войны: Эпизод 4 – Новая надежда   \n",
       "1495                                      Семь самураев   \n",
       "1496                   Властелин колец: Братство кольца   \n",
       "1497                                          Караваджо   \n",
       "1498                                              Гонка   \n",
       "1499                                         Префонтейн   \n",
       "1500                                    Однажды в Китае   \n",
       "1501                                          Елизавета   \n",
       "1502              Загадочная история Бенджамина Баттона   \n",
       "1503                               Мосты округа Мэдисон   \n",
       "1504                                          Австралия   \n",
       "1505                                          Из Африки   \n",
       "1506                                     Нигде в Африке   \n",
       "1507                                       Донни Браско   \n",
       "\n",
       "0                                 оригинальное название   год моя оценка  \\\n",
       "1                                            Frances Ha  2012          -   \n",
       "2                                             Lady Bird  2017          -   \n",
       "3                                             El cuerpo  2012          -   \n",
       "4                                              Super 30  2019          -   \n",
       "5                                            Knives Out  2019          -   \n",
       "6                                 2001: A Space Odyssey  1968          -   \n",
       "7                                                   Joy  2015          -   \n",
       "8                                           Adaptation.  2002          -   \n",
       "9                                        Ford v Ferrari  2019          -   \n",
       "10                                                Klaus  2019          -   \n",
       "11                                                  NaN  1977          -   \n",
       "12                                     Si shi qing chun  2018          -   \n",
       "13                                  The Secret of Kells  2008          -   \n",
       "14                                             Nocturna  2007          -   \n",
       "15                                      The Breadwinner  2017          -   \n",
       "16                                     The History Boys  2006          -   \n",
       "17                             Ferris Bueller's Day Off  1986          -   \n",
       "18                        The Art of Racing in the Rain  2019          -   \n",
       "19                             The Peanut Butter Falcon  2019          -   \n",
       "20                                         The Farewell  2019          -   \n",
       "21                                       Ojik geudaeman  2011          -   \n",
       "22                                   Chung Hing sam lam  1994          -   \n",
       "23                                              L'amant  1991          -   \n",
       "24                                               Allied  2016          -   \n",
       "25                                       Nema-ye Nazdik  1990          -   \n",
       "26    The Guernsey Literary and Potato Peel Pie Society  2018          -   \n",
       "27                             Zindagi Na Milegi Dobara  2011          -   \n",
       "28                                        The Favourite  2018          -   \n",
       "29                                                  Max  2015          -   \n",
       "30                                                Joker  2019          -   \n",
       "...                                                 ...   ...        ...   \n",
       "1478                                     The Iron Giant  1999          -   \n",
       "1479                                 Planet of the Apes  1968          -   \n",
       "1480                                               Jaws  1975          -   \n",
       "1481  Pirates of the Caribbean: The Curse of the Bla...  2003          -   \n",
       "1482                                       Barry Lyndon  1975          -   \n",
       "1483                                            Ben-Hur  1959          -   \n",
       "1484                                      Jurassic Park  1993          -   \n",
       "1485                                       Fitzcarraldo  1982          -   \n",
       "1486                       The Bridge on the River Kwai  1957          -   \n",
       "1487                   The Treasure of the Sierra Madre  1947          -   \n",
       "1488                                   Some Like It Hot  1959          -   \n",
       "1489                                 Lawrence of Arabia  1962          -   \n",
       "1490                                          Toy Story  1995          -   \n",
       "1491                                           Das Boot  1981          -   \n",
       "1492                            Raiders of the Lost Ark  1981          -   \n",
       "1493                                          Gladiator  2000          -   \n",
       "1494                                          Star Wars  1977          -   \n",
       "1495                               Shichinin no samurai  1954          -   \n",
       "1496  The Lord of the Rings: The Fellowship of the Ring  2001          -   \n",
       "1497                                         Caravaggio  1986          -   \n",
       "1498                                               Rush  2013          -   \n",
       "1499                                        Prefontaine  1997          -   \n",
       "1500                                      Wong Fei Hung  1991          -   \n",
       "1501                                          Elizabeth  1998          -   \n",
       "1502                The Curious Case of Benjamin Button  2008          -   \n",
       "1503                      The Bridges of Madison County  1995          -   \n",
       "1504                                          Australia  2008          -   \n",
       "1505                                      Out of Africa  1985          -   \n",
       "1506                                Nirgendwo in Afrika  2001          -   \n",
       "1507                                      Donnie Brasco  1997          -   \n",
       "\n",
       "0            дата и время  \n",
       "1     00:48:13 21.01.2020  \n",
       "2     11:53:03 19.01.2020  \n",
       "3     01:48:35 02.01.2020  \n",
       "4     00:11:48 30.12.2019  \n",
       "5     19:48:23 29.12.2019  \n",
       "6     08:57:29 14.12.2019  \n",
       "7     08:56:56 14.12.2019  \n",
       "8     04:55:11 11.12.2019  \n",
       "9     15:29:04 01.12.2019  \n",
       "10    19:49:29 21.11.2019  \n",
       "11    21:27:57 19.11.2019  \n",
       "12    18:51:45 19.11.2019  \n",
       "13    15:31:39 19.11.2019  \n",
       "14    20:25:25 18.11.2019  \n",
       "15    14:10:00 17.11.2019  \n",
       "16    06:32:05 13.11.2019  \n",
       "17    15:20:38 12.11.2019  \n",
       "18    10:16:28 12.11.2019  \n",
       "19    10:21:06 11.11.2019  \n",
       "20    10:16:47 11.11.2019  \n",
       "21    23:40:02 03.11.2019  \n",
       "22    04:54:19 30.10.2019  \n",
       "23    18:54:29 27.10.2019  \n",
       "24    17:11:59 27.10.2019  \n",
       "25    03:44:04 21.10.2019  \n",
       "26    02:21:05 15.10.2019  \n",
       "27    15:39:49 14.10.2019  \n",
       "28    04:33:41 14.10.2019  \n",
       "29    01:38:59 14.10.2019  \n",
       "30    03:42:09 11.10.2019  \n",
       "...                   ...  \n",
       "1478  23:05:19 01.09.2017  \n",
       "1479  23:05:14 01.09.2017  \n",
       "1480  23:05:09 01.09.2017  \n",
       "1481  23:05:06 01.09.2017  \n",
       "1482  23:04:55 01.09.2017  \n",
       "1483  23:04:48 01.09.2017  \n",
       "1484  23:04:36 01.09.2017  \n",
       "1485  23:04:32 01.09.2017  \n",
       "1486  23:04:21 01.09.2017  \n",
       "1487  23:04:14 01.09.2017  \n",
       "1488  23:04:06 01.09.2017  \n",
       "1489  23:04:04 01.09.2017  \n",
       "1490  23:03:59 01.09.2017  \n",
       "1491  23:03:57 01.09.2017  \n",
       "1492  23:03:51 01.09.2017  \n",
       "1493  23:03:35 01.09.2017  \n",
       "1494  23:03:32 01.09.2017  \n",
       "1495  23:03:29 01.09.2017  \n",
       "1496  23:03:26 01.09.2017  \n",
       "1497  22:58:02 01.09.2017  \n",
       "1498  22:56:13 01.09.2017  \n",
       "1499  22:56:08 01.09.2017  \n",
       "1500  22:52:46 01.09.2017  \n",
       "1501  22:46:05 01.09.2017  \n",
       "1502  22:41:51 01.09.2017  \n",
       "1503  22:41:24 01.09.2017  \n",
       "1504  22:36:30 01.09.2017  \n",
       "1505  22:36:06 01.09.2017  \n",
       "1506  22:35:36 01.09.2017  \n",
       "1507  22:30:39 01.09.2017  \n",
       "\n",
       "[1507 rows x 5 columns]"
      ]
     },
     "execution_count": 18,
     "metadata": {},
     "output_type": "execute_result"
    }
   ],
   "source": [
    "foggy.drop([0])"
   ]
  },
  {
   "cell_type": "code",
   "execution_count": 19,
   "metadata": {},
   "outputs": [],
   "source": [
    "foggy.columns = ['русскоязычное название', 'title', 'год', 'моя оценка',\n",
    "       'дата и время']"
   ]
  },
  {
   "cell_type": "code",
   "execution_count": 20,
   "metadata": {},
   "outputs": [
    {
     "data": {
      "text/plain": [
       "Index(['русскоязычное название', 'title', 'год', 'моя оценка', 'дата и время'], dtype='object')"
      ]
     },
     "execution_count": 20,
     "metadata": {},
     "output_type": "execute_result"
    }
   ],
   "source": [
    "foggy.columns"
   ]
  },
  {
   "cell_type": "code",
   "execution_count": 21,
   "metadata": {},
   "outputs": [
    {
     "data": {
      "text/html": [
       "<div>\n",
       "<style scoped>\n",
       "    .dataframe tbody tr th:only-of-type {\n",
       "        vertical-align: middle;\n",
       "    }\n",
       "\n",
       "    .dataframe tbody tr th {\n",
       "        vertical-align: top;\n",
       "    }\n",
       "\n",
       "    .dataframe thead th {\n",
       "        text-align: right;\n",
       "    }\n",
       "</style>\n",
       "<table border=\"1\" class=\"dataframe\">\n",
       "  <thead>\n",
       "    <tr style=\"text-align: right;\">\n",
       "      <th></th>\n",
       "      <th>русскоязычное название</th>\n",
       "      <th>title</th>\n",
       "      <th>год</th>\n",
       "      <th>моя оценка</th>\n",
       "      <th>дата и время</th>\n",
       "    </tr>\n",
       "  </thead>\n",
       "  <tbody>\n",
       "    <tr>\n",
       "      <th>1</th>\n",
       "      <td>Милая Фрэнсис</td>\n",
       "      <td>Frances Ha</td>\n",
       "      <td>2012</td>\n",
       "      <td>-</td>\n",
       "      <td>00:48:13 21.01.2020</td>\n",
       "    </tr>\n",
       "    <tr>\n",
       "      <th>2</th>\n",
       "      <td>Леди Бёрд</td>\n",
       "      <td>Lady Bird</td>\n",
       "      <td>2017</td>\n",
       "      <td>-</td>\n",
       "      <td>11:53:03 19.01.2020</td>\n",
       "    </tr>\n",
       "    <tr>\n",
       "      <th>3</th>\n",
       "      <td>Тело</td>\n",
       "      <td>El cuerpo</td>\n",
       "      <td>2012</td>\n",
       "      <td>-</td>\n",
       "      <td>01:48:35 02.01.2020</td>\n",
       "    </tr>\n",
       "    <tr>\n",
       "      <th>4</th>\n",
       "      <td>Супер 30</td>\n",
       "      <td>Super 30</td>\n",
       "      <td>2019</td>\n",
       "      <td>-</td>\n",
       "      <td>00:11:48 30.12.2019</td>\n",
       "    </tr>\n",
       "    <tr>\n",
       "      <th>5</th>\n",
       "      <td>Достать ножи</td>\n",
       "      <td>Knives Out</td>\n",
       "      <td>2019</td>\n",
       "      <td>-</td>\n",
       "      <td>19:48:23 29.12.2019</td>\n",
       "    </tr>\n",
       "    <tr>\n",
       "      <th>6</th>\n",
       "      <td>2001 год: Космическая одиссея</td>\n",
       "      <td>2001: A Space Odyssey</td>\n",
       "      <td>1968</td>\n",
       "      <td>-</td>\n",
       "      <td>08:57:29 14.12.2019</td>\n",
       "    </tr>\n",
       "    <tr>\n",
       "      <th>7</th>\n",
       "      <td>Джой</td>\n",
       "      <td>Joy</td>\n",
       "      <td>2015</td>\n",
       "      <td>-</td>\n",
       "      <td>08:56:56 14.12.2019</td>\n",
       "    </tr>\n",
       "    <tr>\n",
       "      <th>8</th>\n",
       "      <td>Адаптация</td>\n",
       "      <td>Adaptation.</td>\n",
       "      <td>2002</td>\n",
       "      <td>-</td>\n",
       "      <td>04:55:11 11.12.2019</td>\n",
       "    </tr>\n",
       "    <tr>\n",
       "      <th>9</th>\n",
       "      <td>Ford против Ferrari</td>\n",
       "      <td>Ford v Ferrari</td>\n",
       "      <td>2019</td>\n",
       "      <td>-</td>\n",
       "      <td>15:29:04 01.12.2019</td>\n",
       "    </tr>\n",
       "    <tr>\n",
       "      <th>10</th>\n",
       "      <td>Клаус</td>\n",
       "      <td>Klaus</td>\n",
       "      <td>2019</td>\n",
       "      <td>-</td>\n",
       "      <td>19:49:29 21.11.2019</td>\n",
       "    </tr>\n",
       "    <tr>\n",
       "      <th>12</th>\n",
       "      <td>Вкусы молодости</td>\n",
       "      <td>Si shi qing chun</td>\n",
       "      <td>2018</td>\n",
       "      <td>-</td>\n",
       "      <td>18:51:45 19.11.2019</td>\n",
       "    </tr>\n",
       "    <tr>\n",
       "      <th>13</th>\n",
       "      <td>Тайна Келлс</td>\n",
       "      <td>The Secret of Kells</td>\n",
       "      <td>2008</td>\n",
       "      <td>-</td>\n",
       "      <td>15:31:39 19.11.2019</td>\n",
       "    </tr>\n",
       "    <tr>\n",
       "      <th>14</th>\n",
       "      <td>Под покровом ночи</td>\n",
       "      <td>Nocturna</td>\n",
       "      <td>2007</td>\n",
       "      <td>-</td>\n",
       "      <td>20:25:25 18.11.2019</td>\n",
       "    </tr>\n",
       "    <tr>\n",
       "      <th>15</th>\n",
       "      <td>Добытчица</td>\n",
       "      <td>The Breadwinner</td>\n",
       "      <td>2017</td>\n",
       "      <td>-</td>\n",
       "      <td>14:10:00 17.11.2019</td>\n",
       "    </tr>\n",
       "    <tr>\n",
       "      <th>16</th>\n",
       "      <td>Любители истории</td>\n",
       "      <td>The History Boys</td>\n",
       "      <td>2006</td>\n",
       "      <td>-</td>\n",
       "      <td>06:32:05 13.11.2019</td>\n",
       "    </tr>\n",
       "    <tr>\n",
       "      <th>17</th>\n",
       "      <td>Выходной день Ферриса Бьюллера</td>\n",
       "      <td>Ferris Bueller's Day Off</td>\n",
       "      <td>1986</td>\n",
       "      <td>-</td>\n",
       "      <td>15:20:38 12.11.2019</td>\n",
       "    </tr>\n",
       "    <tr>\n",
       "      <th>18</th>\n",
       "      <td>Невероятный мир глазами Энцо</td>\n",
       "      <td>The Art of Racing in the Rain</td>\n",
       "      <td>2019</td>\n",
       "      <td>-</td>\n",
       "      <td>10:16:28 12.11.2019</td>\n",
       "    </tr>\n",
       "    <tr>\n",
       "      <th>19</th>\n",
       "      <td>Арахисовый сокол</td>\n",
       "      <td>The Peanut Butter Falcon</td>\n",
       "      <td>2019</td>\n",
       "      <td>-</td>\n",
       "      <td>10:21:06 11.11.2019</td>\n",
       "    </tr>\n",
       "    <tr>\n",
       "      <th>20</th>\n",
       "      <td>Прощание</td>\n",
       "      <td>The Farewell</td>\n",
       "      <td>2019</td>\n",
       "      <td>-</td>\n",
       "      <td>10:16:47 11.11.2019</td>\n",
       "    </tr>\n",
       "    <tr>\n",
       "      <th>21</th>\n",
       "      <td>Всегда</td>\n",
       "      <td>Ojik geudaeman</td>\n",
       "      <td>2011</td>\n",
       "      <td>-</td>\n",
       "      <td>23:40:02 03.11.2019</td>\n",
       "    </tr>\n",
       "    <tr>\n",
       "      <th>22</th>\n",
       "      <td>Чунгкингский экспресс</td>\n",
       "      <td>Chung Hing sam lam</td>\n",
       "      <td>1994</td>\n",
       "      <td>-</td>\n",
       "      <td>04:54:19 30.10.2019</td>\n",
       "    </tr>\n",
       "    <tr>\n",
       "      <th>23</th>\n",
       "      <td>Любовник</td>\n",
       "      <td>L'amant</td>\n",
       "      <td>1991</td>\n",
       "      <td>-</td>\n",
       "      <td>18:54:29 27.10.2019</td>\n",
       "    </tr>\n",
       "    <tr>\n",
       "      <th>24</th>\n",
       "      <td>Союзники</td>\n",
       "      <td>Allied</td>\n",
       "      <td>2016</td>\n",
       "      <td>-</td>\n",
       "      <td>17:11:59 27.10.2019</td>\n",
       "    </tr>\n",
       "    <tr>\n",
       "      <th>25</th>\n",
       "      <td>Крупный план</td>\n",
       "      <td>Nema-ye Nazdik</td>\n",
       "      <td>1990</td>\n",
       "      <td>-</td>\n",
       "      <td>03:44:04 21.10.2019</td>\n",
       "    </tr>\n",
       "    <tr>\n",
       "      <th>26</th>\n",
       "      <td>Клуб любителей книг и пирогов из картофельных ...</td>\n",
       "      <td>The Guernsey Literary and Potato Peel Pie Society</td>\n",
       "      <td>2018</td>\n",
       "      <td>-</td>\n",
       "      <td>02:21:05 15.10.2019</td>\n",
       "    </tr>\n",
       "    <tr>\n",
       "      <th>27</th>\n",
       "      <td>Жизнь не может быть скучной!</td>\n",
       "      <td>Zindagi Na Milegi Dobara</td>\n",
       "      <td>2011</td>\n",
       "      <td>-</td>\n",
       "      <td>15:39:49 14.10.2019</td>\n",
       "    </tr>\n",
       "    <tr>\n",
       "      <th>28</th>\n",
       "      <td>Фаворитка</td>\n",
       "      <td>The Favourite</td>\n",
       "      <td>2018</td>\n",
       "      <td>-</td>\n",
       "      <td>04:33:41 14.10.2019</td>\n",
       "    </tr>\n",
       "    <tr>\n",
       "      <th>29</th>\n",
       "      <td>Макс</td>\n",
       "      <td>Max</td>\n",
       "      <td>2015</td>\n",
       "      <td>-</td>\n",
       "      <td>01:38:59 14.10.2019</td>\n",
       "    </tr>\n",
       "    <tr>\n",
       "      <th>30</th>\n",
       "      <td>Джокер</td>\n",
       "      <td>Joker</td>\n",
       "      <td>2019</td>\n",
       "      <td>-</td>\n",
       "      <td>03:42:09 11.10.2019</td>\n",
       "    </tr>\n",
       "    <tr>\n",
       "      <th>31</th>\n",
       "      <td>Дальнобой без тормозов</td>\n",
       "      <td>Freebird</td>\n",
       "      <td>2008</td>\n",
       "      <td>-</td>\n",
       "      <td>17:01:35 06.10.2019</td>\n",
       "    </tr>\n",
       "    <tr>\n",
       "      <th>...</th>\n",
       "      <td>...</td>\n",
       "      <td>...</td>\n",
       "      <td>...</td>\n",
       "      <td>...</td>\n",
       "      <td>...</td>\n",
       "    </tr>\n",
       "    <tr>\n",
       "      <th>1478</th>\n",
       "      <td>Стальной гигант</td>\n",
       "      <td>The Iron Giant</td>\n",
       "      <td>1999</td>\n",
       "      <td>-</td>\n",
       "      <td>23:05:19 01.09.2017</td>\n",
       "    </tr>\n",
       "    <tr>\n",
       "      <th>1479</th>\n",
       "      <td>Планета обезьян</td>\n",
       "      <td>Planet of the Apes</td>\n",
       "      <td>1968</td>\n",
       "      <td>-</td>\n",
       "      <td>23:05:14 01.09.2017</td>\n",
       "    </tr>\n",
       "    <tr>\n",
       "      <th>1480</th>\n",
       "      <td>Челюсти</td>\n",
       "      <td>Jaws</td>\n",
       "      <td>1975</td>\n",
       "      <td>-</td>\n",
       "      <td>23:05:09 01.09.2017</td>\n",
       "    </tr>\n",
       "    <tr>\n",
       "      <th>1481</th>\n",
       "      <td>Пираты Карибского моря: Проклятие Черной жемчу...</td>\n",
       "      <td>Pirates of the Caribbean: The Curse of the Bla...</td>\n",
       "      <td>2003</td>\n",
       "      <td>-</td>\n",
       "      <td>23:05:06 01.09.2017</td>\n",
       "    </tr>\n",
       "    <tr>\n",
       "      <th>1482</th>\n",
       "      <td>Барри Линдон</td>\n",
       "      <td>Barry Lyndon</td>\n",
       "      <td>1975</td>\n",
       "      <td>-</td>\n",
       "      <td>23:04:55 01.09.2017</td>\n",
       "    </tr>\n",
       "    <tr>\n",
       "      <th>1483</th>\n",
       "      <td>Бен-Гур</td>\n",
       "      <td>Ben-Hur</td>\n",
       "      <td>1959</td>\n",
       "      <td>-</td>\n",
       "      <td>23:04:48 01.09.2017</td>\n",
       "    </tr>\n",
       "    <tr>\n",
       "      <th>1484</th>\n",
       "      <td>Парк Юрского периода</td>\n",
       "      <td>Jurassic Park</td>\n",
       "      <td>1993</td>\n",
       "      <td>-</td>\n",
       "      <td>23:04:36 01.09.2017</td>\n",
       "    </tr>\n",
       "    <tr>\n",
       "      <th>1485</th>\n",
       "      <td>Фицкарральдо</td>\n",
       "      <td>Fitzcarraldo</td>\n",
       "      <td>1982</td>\n",
       "      <td>-</td>\n",
       "      <td>23:04:32 01.09.2017</td>\n",
       "    </tr>\n",
       "    <tr>\n",
       "      <th>1486</th>\n",
       "      <td>Мост через реку Квай</td>\n",
       "      <td>The Bridge on the River Kwai</td>\n",
       "      <td>1957</td>\n",
       "      <td>-</td>\n",
       "      <td>23:04:21 01.09.2017</td>\n",
       "    </tr>\n",
       "    <tr>\n",
       "      <th>1487</th>\n",
       "      <td>Сокровища Сьерра Мадре</td>\n",
       "      <td>The Treasure of the Sierra Madre</td>\n",
       "      <td>1947</td>\n",
       "      <td>-</td>\n",
       "      <td>23:04:14 01.09.2017</td>\n",
       "    </tr>\n",
       "    <tr>\n",
       "      <th>1488</th>\n",
       "      <td>В джазе только девушки</td>\n",
       "      <td>Some Like It Hot</td>\n",
       "      <td>1959</td>\n",
       "      <td>-</td>\n",
       "      <td>23:04:06 01.09.2017</td>\n",
       "    </tr>\n",
       "    <tr>\n",
       "      <th>1489</th>\n",
       "      <td>Лоуренс Аравийский</td>\n",
       "      <td>Lawrence of Arabia</td>\n",
       "      <td>1962</td>\n",
       "      <td>-</td>\n",
       "      <td>23:04:04 01.09.2017</td>\n",
       "    </tr>\n",
       "    <tr>\n",
       "      <th>1490</th>\n",
       "      <td>История игрушек</td>\n",
       "      <td>Toy Story</td>\n",
       "      <td>1995</td>\n",
       "      <td>-</td>\n",
       "      <td>23:03:59 01.09.2017</td>\n",
       "    </tr>\n",
       "    <tr>\n",
       "      <th>1491</th>\n",
       "      <td>Подводная лодка</td>\n",
       "      <td>Das Boot</td>\n",
       "      <td>1981</td>\n",
       "      <td>-</td>\n",
       "      <td>23:03:57 01.09.2017</td>\n",
       "    </tr>\n",
       "    <tr>\n",
       "      <th>1492</th>\n",
       "      <td>Индиана Джонс: В поисках утраченного ковчега</td>\n",
       "      <td>Raiders of the Lost Ark</td>\n",
       "      <td>1981</td>\n",
       "      <td>-</td>\n",
       "      <td>23:03:51 01.09.2017</td>\n",
       "    </tr>\n",
       "    <tr>\n",
       "      <th>1493</th>\n",
       "      <td>Гладиатор</td>\n",
       "      <td>Gladiator</td>\n",
       "      <td>2000</td>\n",
       "      <td>-</td>\n",
       "      <td>23:03:35 01.09.2017</td>\n",
       "    </tr>\n",
       "    <tr>\n",
       "      <th>1494</th>\n",
       "      <td>Звёздные войны: Эпизод 4 – Новая надежда</td>\n",
       "      <td>Star Wars</td>\n",
       "      <td>1977</td>\n",
       "      <td>-</td>\n",
       "      <td>23:03:32 01.09.2017</td>\n",
       "    </tr>\n",
       "    <tr>\n",
       "      <th>1495</th>\n",
       "      <td>Семь самураев</td>\n",
       "      <td>Shichinin no samurai</td>\n",
       "      <td>1954</td>\n",
       "      <td>-</td>\n",
       "      <td>23:03:29 01.09.2017</td>\n",
       "    </tr>\n",
       "    <tr>\n",
       "      <th>1496</th>\n",
       "      <td>Властелин колец: Братство кольца</td>\n",
       "      <td>The Lord of the Rings: The Fellowship of the Ring</td>\n",
       "      <td>2001</td>\n",
       "      <td>-</td>\n",
       "      <td>23:03:26 01.09.2017</td>\n",
       "    </tr>\n",
       "    <tr>\n",
       "      <th>1497</th>\n",
       "      <td>Караваджо</td>\n",
       "      <td>Caravaggio</td>\n",
       "      <td>1986</td>\n",
       "      <td>-</td>\n",
       "      <td>22:58:02 01.09.2017</td>\n",
       "    </tr>\n",
       "    <tr>\n",
       "      <th>1498</th>\n",
       "      <td>Гонка</td>\n",
       "      <td>Rush</td>\n",
       "      <td>2013</td>\n",
       "      <td>-</td>\n",
       "      <td>22:56:13 01.09.2017</td>\n",
       "    </tr>\n",
       "    <tr>\n",
       "      <th>1499</th>\n",
       "      <td>Префонтейн</td>\n",
       "      <td>Prefontaine</td>\n",
       "      <td>1997</td>\n",
       "      <td>-</td>\n",
       "      <td>22:56:08 01.09.2017</td>\n",
       "    </tr>\n",
       "    <tr>\n",
       "      <th>1500</th>\n",
       "      <td>Однажды в Китае</td>\n",
       "      <td>Wong Fei Hung</td>\n",
       "      <td>1991</td>\n",
       "      <td>-</td>\n",
       "      <td>22:52:46 01.09.2017</td>\n",
       "    </tr>\n",
       "    <tr>\n",
       "      <th>1501</th>\n",
       "      <td>Елизавета</td>\n",
       "      <td>Elizabeth</td>\n",
       "      <td>1998</td>\n",
       "      <td>-</td>\n",
       "      <td>22:46:05 01.09.2017</td>\n",
       "    </tr>\n",
       "    <tr>\n",
       "      <th>1502</th>\n",
       "      <td>Загадочная история Бенджамина Баттона</td>\n",
       "      <td>The Curious Case of Benjamin Button</td>\n",
       "      <td>2008</td>\n",
       "      <td>-</td>\n",
       "      <td>22:41:51 01.09.2017</td>\n",
       "    </tr>\n",
       "    <tr>\n",
       "      <th>1503</th>\n",
       "      <td>Мосты округа Мэдисон</td>\n",
       "      <td>The Bridges of Madison County</td>\n",
       "      <td>1995</td>\n",
       "      <td>-</td>\n",
       "      <td>22:41:24 01.09.2017</td>\n",
       "    </tr>\n",
       "    <tr>\n",
       "      <th>1504</th>\n",
       "      <td>Австралия</td>\n",
       "      <td>Australia</td>\n",
       "      <td>2008</td>\n",
       "      <td>-</td>\n",
       "      <td>22:36:30 01.09.2017</td>\n",
       "    </tr>\n",
       "    <tr>\n",
       "      <th>1505</th>\n",
       "      <td>Из Африки</td>\n",
       "      <td>Out of Africa</td>\n",
       "      <td>1985</td>\n",
       "      <td>-</td>\n",
       "      <td>22:36:06 01.09.2017</td>\n",
       "    </tr>\n",
       "    <tr>\n",
       "      <th>1506</th>\n",
       "      <td>Нигде в Африке</td>\n",
       "      <td>Nirgendwo in Afrika</td>\n",
       "      <td>2001</td>\n",
       "      <td>-</td>\n",
       "      <td>22:35:36 01.09.2017</td>\n",
       "    </tr>\n",
       "    <tr>\n",
       "      <th>1507</th>\n",
       "      <td>Донни Браско</td>\n",
       "      <td>Donnie Brasco</td>\n",
       "      <td>1997</td>\n",
       "      <td>-</td>\n",
       "      <td>22:30:39 01.09.2017</td>\n",
       "    </tr>\n",
       "  </tbody>\n",
       "</table>\n",
       "<p>1423 rows × 5 columns</p>\n",
       "</div>"
      ],
      "text/plain": [
       "                                 русскоязычное название  \\\n",
       "1                                         Милая Фрэнсис   \n",
       "2                                             Леди Бёрд   \n",
       "3                                                  Тело   \n",
       "4                                              Супер 30   \n",
       "5                                          Достать ножи   \n",
       "6                         2001 год: Космическая одиссея   \n",
       "7                                                  Джой   \n",
       "8                                             Адаптация   \n",
       "9                                   Ford против Ferrari   \n",
       "10                                                Клаус   \n",
       "12                                      Вкусы молодости   \n",
       "13                                          Тайна Келлс   \n",
       "14                                    Под покровом ночи   \n",
       "15                                            Добытчица   \n",
       "16                                     Любители истории   \n",
       "17                       Выходной день Ферриса Бьюллера   \n",
       "18                         Невероятный мир глазами Энцо   \n",
       "19                                     Арахисовый сокол   \n",
       "20                                             Прощание   \n",
       "21                                               Всегда   \n",
       "22                                Чунгкингский экспресс   \n",
       "23                                             Любовник   \n",
       "24                                             Союзники   \n",
       "25                                         Крупный план   \n",
       "26    Клуб любителей книг и пирогов из картофельных ...   \n",
       "27                         Жизнь не может быть скучной!   \n",
       "28                                            Фаворитка   \n",
       "29                                                 Макс   \n",
       "30                                               Джокер   \n",
       "31                               Дальнобой без тормозов   \n",
       "...                                                 ...   \n",
       "1478                                    Стальной гигант   \n",
       "1479                                    Планета обезьян   \n",
       "1480                                            Челюсти   \n",
       "1481  Пираты Карибского моря: Проклятие Черной жемчу...   \n",
       "1482                                       Барри Линдон   \n",
       "1483                                            Бен-Гур   \n",
       "1484                               Парк Юрского периода   \n",
       "1485                                       Фицкарральдо   \n",
       "1486                               Мост через реку Квай   \n",
       "1487                             Сокровища Сьерра Мадре   \n",
       "1488                             В джазе только девушки   \n",
       "1489                                 Лоуренс Аравийский   \n",
       "1490                                    История игрушек   \n",
       "1491                                    Подводная лодка   \n",
       "1492       Индиана Джонс: В поисках утраченного ковчега   \n",
       "1493                                          Гладиатор   \n",
       "1494           Звёздные войны: Эпизод 4 – Новая надежда   \n",
       "1495                                      Семь самураев   \n",
       "1496                   Властелин колец: Братство кольца   \n",
       "1497                                          Караваджо   \n",
       "1498                                              Гонка   \n",
       "1499                                         Префонтейн   \n",
       "1500                                    Однажды в Китае   \n",
       "1501                                          Елизавета   \n",
       "1502              Загадочная история Бенджамина Баттона   \n",
       "1503                               Мосты округа Мэдисон   \n",
       "1504                                          Австралия   \n",
       "1505                                          Из Африки   \n",
       "1506                                     Нигде в Африке   \n",
       "1507                                       Донни Браско   \n",
       "\n",
       "                                                  title   год моя оценка  \\\n",
       "1                                            Frances Ha  2012          -   \n",
       "2                                             Lady Bird  2017          -   \n",
       "3                                             El cuerpo  2012          -   \n",
       "4                                              Super 30  2019          -   \n",
       "5                                            Knives Out  2019          -   \n",
       "6                                 2001: A Space Odyssey  1968          -   \n",
       "7                                                   Joy  2015          -   \n",
       "8                                           Adaptation.  2002          -   \n",
       "9                                        Ford v Ferrari  2019          -   \n",
       "10                                                Klaus  2019          -   \n",
       "12                                     Si shi qing chun  2018          -   \n",
       "13                                  The Secret of Kells  2008          -   \n",
       "14                                             Nocturna  2007          -   \n",
       "15                                      The Breadwinner  2017          -   \n",
       "16                                     The History Boys  2006          -   \n",
       "17                             Ferris Bueller's Day Off  1986          -   \n",
       "18                        The Art of Racing in the Rain  2019          -   \n",
       "19                             The Peanut Butter Falcon  2019          -   \n",
       "20                                         The Farewell  2019          -   \n",
       "21                                       Ojik geudaeman  2011          -   \n",
       "22                                   Chung Hing sam lam  1994          -   \n",
       "23                                              L'amant  1991          -   \n",
       "24                                               Allied  2016          -   \n",
       "25                                       Nema-ye Nazdik  1990          -   \n",
       "26    The Guernsey Literary and Potato Peel Pie Society  2018          -   \n",
       "27                             Zindagi Na Milegi Dobara  2011          -   \n",
       "28                                        The Favourite  2018          -   \n",
       "29                                                  Max  2015          -   \n",
       "30                                                Joker  2019          -   \n",
       "31                                             Freebird  2008          -   \n",
       "...                                                 ...   ...        ...   \n",
       "1478                                     The Iron Giant  1999          -   \n",
       "1479                                 Planet of the Apes  1968          -   \n",
       "1480                                               Jaws  1975          -   \n",
       "1481  Pirates of the Caribbean: The Curse of the Bla...  2003          -   \n",
       "1482                                       Barry Lyndon  1975          -   \n",
       "1483                                            Ben-Hur  1959          -   \n",
       "1484                                      Jurassic Park  1993          -   \n",
       "1485                                       Fitzcarraldo  1982          -   \n",
       "1486                       The Bridge on the River Kwai  1957          -   \n",
       "1487                   The Treasure of the Sierra Madre  1947          -   \n",
       "1488                                   Some Like It Hot  1959          -   \n",
       "1489                                 Lawrence of Arabia  1962          -   \n",
       "1490                                          Toy Story  1995          -   \n",
       "1491                                           Das Boot  1981          -   \n",
       "1492                            Raiders of the Lost Ark  1981          -   \n",
       "1493                                          Gladiator  2000          -   \n",
       "1494                                          Star Wars  1977          -   \n",
       "1495                               Shichinin no samurai  1954          -   \n",
       "1496  The Lord of the Rings: The Fellowship of the Ring  2001          -   \n",
       "1497                                         Caravaggio  1986          -   \n",
       "1498                                               Rush  2013          -   \n",
       "1499                                        Prefontaine  1997          -   \n",
       "1500                                      Wong Fei Hung  1991          -   \n",
       "1501                                          Elizabeth  1998          -   \n",
       "1502                The Curious Case of Benjamin Button  2008          -   \n",
       "1503                      The Bridges of Madison County  1995          -   \n",
       "1504                                          Australia  2008          -   \n",
       "1505                                      Out of Africa  1985          -   \n",
       "1506                                Nirgendwo in Afrika  2001          -   \n",
       "1507                                      Donnie Brasco  1997          -   \n",
       "\n",
       "             дата и время  \n",
       "1     00:48:13 21.01.2020  \n",
       "2     11:53:03 19.01.2020  \n",
       "3     01:48:35 02.01.2020  \n",
       "4     00:11:48 30.12.2019  \n",
       "5     19:48:23 29.12.2019  \n",
       "6     08:57:29 14.12.2019  \n",
       "7     08:56:56 14.12.2019  \n",
       "8     04:55:11 11.12.2019  \n",
       "9     15:29:04 01.12.2019  \n",
       "10    19:49:29 21.11.2019  \n",
       "12    18:51:45 19.11.2019  \n",
       "13    15:31:39 19.11.2019  \n",
       "14    20:25:25 18.11.2019  \n",
       "15    14:10:00 17.11.2019  \n",
       "16    06:32:05 13.11.2019  \n",
       "17    15:20:38 12.11.2019  \n",
       "18    10:16:28 12.11.2019  \n",
       "19    10:21:06 11.11.2019  \n",
       "20    10:16:47 11.11.2019  \n",
       "21    23:40:02 03.11.2019  \n",
       "22    04:54:19 30.10.2019  \n",
       "23    18:54:29 27.10.2019  \n",
       "24    17:11:59 27.10.2019  \n",
       "25    03:44:04 21.10.2019  \n",
       "26    02:21:05 15.10.2019  \n",
       "27    15:39:49 14.10.2019  \n",
       "28    04:33:41 14.10.2019  \n",
       "29    01:38:59 14.10.2019  \n",
       "30    03:42:09 11.10.2019  \n",
       "31    17:01:35 06.10.2019  \n",
       "...                   ...  \n",
       "1478  23:05:19 01.09.2017  \n",
       "1479  23:05:14 01.09.2017  \n",
       "1480  23:05:09 01.09.2017  \n",
       "1481  23:05:06 01.09.2017  \n",
       "1482  23:04:55 01.09.2017  \n",
       "1483  23:04:48 01.09.2017  \n",
       "1484  23:04:36 01.09.2017  \n",
       "1485  23:04:32 01.09.2017  \n",
       "1486  23:04:21 01.09.2017  \n",
       "1487  23:04:14 01.09.2017  \n",
       "1488  23:04:06 01.09.2017  \n",
       "1489  23:04:04 01.09.2017  \n",
       "1490  23:03:59 01.09.2017  \n",
       "1491  23:03:57 01.09.2017  \n",
       "1492  23:03:51 01.09.2017  \n",
       "1493  23:03:35 01.09.2017  \n",
       "1494  23:03:32 01.09.2017  \n",
       "1495  23:03:29 01.09.2017  \n",
       "1496  23:03:26 01.09.2017  \n",
       "1497  22:58:02 01.09.2017  \n",
       "1498  22:56:13 01.09.2017  \n",
       "1499  22:56:08 01.09.2017  \n",
       "1500  22:52:46 01.09.2017  \n",
       "1501  22:46:05 01.09.2017  \n",
       "1502  22:41:51 01.09.2017  \n",
       "1503  22:41:24 01.09.2017  \n",
       "1504  22:36:30 01.09.2017  \n",
       "1505  22:36:06 01.09.2017  \n",
       "1506  22:35:36 01.09.2017  \n",
       "1507  22:30:39 01.09.2017  \n",
       "\n",
       "[1423 rows x 5 columns]"
      ]
     },
     "execution_count": 21,
     "metadata": {},
     "output_type": "execute_result"
    }
   ],
   "source": [
    "foggy.drop([0]).dropna()"
   ]
  },
  {
   "cell_type": "code",
   "execution_count": 22,
   "metadata": {},
   "outputs": [
    {
     "data": {
      "text/plain": [
       "0     оригинальное название\n",
       "1                Frances Ha\n",
       "2                 Lady Bird\n",
       "3                 El cuerpo\n",
       "4                  Super 30\n",
       "5                Knives Out\n",
       "6     2001: A Space Odyssey\n",
       "7                       Joy\n",
       "8               Adaptation.\n",
       "9            Ford v Ferrari\n",
       "10                    Klaus\n",
       "12         Si shi qing chun\n",
       "Name: title, dtype: object"
      ]
     },
     "execution_count": 22,
     "metadata": {},
     "output_type": "execute_result"
    }
   ],
   "source": [
    "foggy_upd = foggy['title'].dropna()\n",
    "foggy_upd.head(12)"
   ]
  },
  {
   "cell_type": "code",
   "execution_count": 23,
   "metadata": {},
   "outputs": [
    {
     "data": {
      "text/plain": [
       "1424"
      ]
     },
     "execution_count": 23,
     "metadata": {},
     "output_type": "execute_result"
    }
   ],
   "source": [
    "len(foggy_upd)\n",
    "# def search_title(row):"
   ]
  },
  {
   "cell_type": "code",
   "execution_count": 24,
   "metadata": {},
   "outputs": [
    {
     "data": {
      "text/html": [
       "<div>\n",
       "<style scoped>\n",
       "    .dataframe tbody tr th:only-of-type {\n",
       "        vertical-align: middle;\n",
       "    }\n",
       "\n",
       "    .dataframe tbody tr th {\n",
       "        vertical-align: top;\n",
       "    }\n",
       "\n",
       "    .dataframe thead th {\n",
       "        text-align: right;\n",
       "    }\n",
       "</style>\n",
       "<table border=\"1\" class=\"dataframe\">\n",
       "  <thead>\n",
       "    <tr style=\"text-align: right;\">\n",
       "      <th></th>\n",
       "      <th>movieId</th>\n",
       "      <th>title</th>\n",
       "      <th>genres</th>\n",
       "    </tr>\n",
       "  </thead>\n",
       "  <tbody>\n",
       "    <tr>\n",
       "      <th>0</th>\n",
       "      <td>1</td>\n",
       "      <td>Toy Story (1995)</td>\n",
       "      <td>Adventure|Animation|Children|Comedy|Fantasy</td>\n",
       "    </tr>\n",
       "    <tr>\n",
       "      <th>1</th>\n",
       "      <td>2</td>\n",
       "      <td>Jumanji (1995)</td>\n",
       "      <td>Adventure|Children|Fantasy</td>\n",
       "    </tr>\n",
       "    <tr>\n",
       "      <th>2</th>\n",
       "      <td>3</td>\n",
       "      <td>Grumpier Old Men (1995)</td>\n",
       "      <td>Comedy|Romance</td>\n",
       "    </tr>\n",
       "    <tr>\n",
       "      <th>3</th>\n",
       "      <td>4</td>\n",
       "      <td>Waiting to Exhale (1995)</td>\n",
       "      <td>Comedy|Drama|Romance</td>\n",
       "    </tr>\n",
       "    <tr>\n",
       "      <th>4</th>\n",
       "      <td>5</td>\n",
       "      <td>Father of the Bride Part II (1995)</td>\n",
       "      <td>Comedy</td>\n",
       "    </tr>\n",
       "  </tbody>\n",
       "</table>\n",
       "</div>"
      ],
      "text/plain": [
       "   movieId                               title  \\\n",
       "0        1                    Toy Story (1995)   \n",
       "1        2                      Jumanji (1995)   \n",
       "2        3             Grumpier Old Men (1995)   \n",
       "3        4            Waiting to Exhale (1995)   \n",
       "4        5  Father of the Bride Part II (1995)   \n",
       "\n",
       "                                        genres  \n",
       "0  Adventure|Animation|Children|Comedy|Fantasy  \n",
       "1                   Adventure|Children|Fantasy  \n",
       "2                               Comedy|Romance  \n",
       "3                         Comedy|Drama|Romance  \n",
       "4                                       Comedy  "
      ]
     },
     "execution_count": 24,
     "metadata": {},
     "output_type": "execute_result"
    }
   ],
   "source": [
    "movies = pd.read_csv('movies.csv')\n",
    "movies.head()"
   ]
  },
  {
   "cell_type": "code",
   "execution_count": 25,
   "metadata": {},
   "outputs": [
    {
     "data": {
      "text/plain": [
       "\"\\n%%time\\nfor i in foggy_upd:\\n    for n in range(len(movies['title'])):\\n        if i in movies['title'][n]:\\n            print('true')\\n            \\nWall time: 14min 54s - очень долго\\n\""
      ]
     },
     "execution_count": 25,
     "metadata": {},
     "output_type": "execute_result"
    }
   ],
   "source": [
    "\"\"\"\n",
    "%%time\n",
    "for i in foggy_upd:\n",
    "    for n in range(len(movies['title'])):\n",
    "        if i in movies['title'][n]:\n",
    "            print('true')\n",
    "            \n",
    "Wall time: 14min 54s - очень долго\n",
    "\"\"\""
   ]
  },
  {
   "cell_type": "code",
   "execution_count": 26,
   "metadata": {},
   "outputs": [],
   "source": [
    "def year_column(row):\n",
    "    return (row.split(' ')[-1])[1:-1]"
   ]
  },
  {
   "cell_type": "code",
   "execution_count": 27,
   "metadata": {},
   "outputs": [
    {
     "data": {
      "text/html": [
       "<div>\n",
       "<style scoped>\n",
       "    .dataframe tbody tr th:only-of-type {\n",
       "        vertical-align: middle;\n",
       "    }\n",
       "\n",
       "    .dataframe tbody tr th {\n",
       "        vertical-align: top;\n",
       "    }\n",
       "\n",
       "    .dataframe thead th {\n",
       "        text-align: right;\n",
       "    }\n",
       "</style>\n",
       "<table border=\"1\" class=\"dataframe\">\n",
       "  <thead>\n",
       "    <tr style=\"text-align: right;\">\n",
       "      <th></th>\n",
       "      <th>movieId</th>\n",
       "      <th>title</th>\n",
       "      <th>genres</th>\n",
       "      <th>year</th>\n",
       "    </tr>\n",
       "  </thead>\n",
       "  <tbody>\n",
       "    <tr>\n",
       "      <th>0</th>\n",
       "      <td>1</td>\n",
       "      <td>Toy Story (1995)</td>\n",
       "      <td>Adventure|Animation|Children|Comedy|Fantasy</td>\n",
       "      <td>1995</td>\n",
       "    </tr>\n",
       "    <tr>\n",
       "      <th>1</th>\n",
       "      <td>2</td>\n",
       "      <td>Jumanji (1995)</td>\n",
       "      <td>Adventure|Children|Fantasy</td>\n",
       "      <td>1995</td>\n",
       "    </tr>\n",
       "    <tr>\n",
       "      <th>2</th>\n",
       "      <td>3</td>\n",
       "      <td>Grumpier Old Men (1995)</td>\n",
       "      <td>Comedy|Romance</td>\n",
       "      <td>1995</td>\n",
       "    </tr>\n",
       "    <tr>\n",
       "      <th>3</th>\n",
       "      <td>4</td>\n",
       "      <td>Waiting to Exhale (1995)</td>\n",
       "      <td>Comedy|Drama|Romance</td>\n",
       "      <td>1995</td>\n",
       "    </tr>\n",
       "    <tr>\n",
       "      <th>4</th>\n",
       "      <td>5</td>\n",
       "      <td>Father of the Bride Part II (1995)</td>\n",
       "      <td>Comedy</td>\n",
       "      <td>1995</td>\n",
       "    </tr>\n",
       "  </tbody>\n",
       "</table>\n",
       "</div>"
      ],
      "text/plain": [
       "   movieId                               title  \\\n",
       "0        1                    Toy Story (1995)   \n",
       "1        2                      Jumanji (1995)   \n",
       "2        3             Grumpier Old Men (1995)   \n",
       "3        4            Waiting to Exhale (1995)   \n",
       "4        5  Father of the Bride Part II (1995)   \n",
       "\n",
       "                                        genres  year  \n",
       "0  Adventure|Animation|Children|Comedy|Fantasy  1995  \n",
       "1                   Adventure|Children|Fantasy  1995  \n",
       "2                               Comedy|Romance  1995  \n",
       "3                         Comedy|Drama|Romance  1995  \n",
       "4                                       Comedy  1995  "
      ]
     },
     "execution_count": 27,
     "metadata": {},
     "output_type": "execute_result"
    }
   ],
   "source": [
    "movies['year'] = movies['title'].apply(year_column)\n",
    "movies.head()"
   ]
  },
  {
   "cell_type": "code",
   "execution_count": 28,
   "metadata": {},
   "outputs": [],
   "source": [
    "def del_year(row):\n",
    "    return (row.replace(row, row.replace(row, row[0:(len(row)-7)])))"
   ]
  },
  {
   "cell_type": "code",
   "execution_count": 29,
   "metadata": {},
   "outputs": [
    {
     "data": {
      "text/html": [
       "<div>\n",
       "<style scoped>\n",
       "    .dataframe tbody tr th:only-of-type {\n",
       "        vertical-align: middle;\n",
       "    }\n",
       "\n",
       "    .dataframe tbody tr th {\n",
       "        vertical-align: top;\n",
       "    }\n",
       "\n",
       "    .dataframe thead th {\n",
       "        text-align: right;\n",
       "    }\n",
       "</style>\n",
       "<table border=\"1\" class=\"dataframe\">\n",
       "  <thead>\n",
       "    <tr style=\"text-align: right;\">\n",
       "      <th></th>\n",
       "      <th>movieId</th>\n",
       "      <th>title</th>\n",
       "      <th>genres</th>\n",
       "      <th>year</th>\n",
       "      <th>Title</th>\n",
       "    </tr>\n",
       "  </thead>\n",
       "  <tbody>\n",
       "    <tr>\n",
       "      <th>0</th>\n",
       "      <td>1</td>\n",
       "      <td>Toy Story (1995)</td>\n",
       "      <td>Adventure|Animation|Children|Comedy|Fantasy</td>\n",
       "      <td>1995</td>\n",
       "      <td>Toy Story</td>\n",
       "    </tr>\n",
       "    <tr>\n",
       "      <th>1</th>\n",
       "      <td>2</td>\n",
       "      <td>Jumanji (1995)</td>\n",
       "      <td>Adventure|Children|Fantasy</td>\n",
       "      <td>1995</td>\n",
       "      <td>Jumanji</td>\n",
       "    </tr>\n",
       "    <tr>\n",
       "      <th>2</th>\n",
       "      <td>3</td>\n",
       "      <td>Grumpier Old Men (1995)</td>\n",
       "      <td>Comedy|Romance</td>\n",
       "      <td>1995</td>\n",
       "      <td>Grumpier Old Men</td>\n",
       "    </tr>\n",
       "    <tr>\n",
       "      <th>3</th>\n",
       "      <td>4</td>\n",
       "      <td>Waiting to Exhale (1995)</td>\n",
       "      <td>Comedy|Drama|Romance</td>\n",
       "      <td>1995</td>\n",
       "      <td>Waiting to Exhale</td>\n",
       "    </tr>\n",
       "    <tr>\n",
       "      <th>4</th>\n",
       "      <td>5</td>\n",
       "      <td>Father of the Bride Part II (1995)</td>\n",
       "      <td>Comedy</td>\n",
       "      <td>1995</td>\n",
       "      <td>Father of the Bride Part II</td>\n",
       "    </tr>\n",
       "  </tbody>\n",
       "</table>\n",
       "</div>"
      ],
      "text/plain": [
       "   movieId                               title  \\\n",
       "0        1                    Toy Story (1995)   \n",
       "1        2                      Jumanji (1995)   \n",
       "2        3             Grumpier Old Men (1995)   \n",
       "3        4            Waiting to Exhale (1995)   \n",
       "4        5  Father of the Bride Part II (1995)   \n",
       "\n",
       "                                        genres  year  \\\n",
       "0  Adventure|Animation|Children|Comedy|Fantasy  1995   \n",
       "1                   Adventure|Children|Fantasy  1995   \n",
       "2                               Comedy|Romance  1995   \n",
       "3                         Comedy|Drama|Romance  1995   \n",
       "4                                       Comedy  1995   \n",
       "\n",
       "                         Title  \n",
       "0                    Toy Story  \n",
       "1                      Jumanji  \n",
       "2             Grumpier Old Men  \n",
       "3            Waiting to Exhale  \n",
       "4  Father of the Bride Part II  "
      ]
     },
     "execution_count": 29,
     "metadata": {},
     "output_type": "execute_result"
    }
   ],
   "source": [
    "movies['Title'] = movies['title'].apply(del_year)\n",
    "movies.head()"
   ]
  },
  {
   "cell_type": "code",
   "execution_count": 30,
   "metadata": {},
   "outputs": [],
   "source": [
    "def search_substring(row):\n",
    "    for i in foggy_upd:\n",
    "        if i.lower() == row.lower():\n",
    "            return i\n",
    "        else:\n",
    "            continue"
   ]
  },
  {
   "cell_type": "code",
   "execution_count": 31,
   "metadata": {},
   "outputs": [
    {
     "name": "stdout",
     "output_type": "stream",
     "text": [
      "Wall time: 28.1 s\n"
     ]
    },
    {
     "data": {
      "text/html": [
       "<div>\n",
       "<style scoped>\n",
       "    .dataframe tbody tr th:only-of-type {\n",
       "        vertical-align: middle;\n",
       "    }\n",
       "\n",
       "    .dataframe tbody tr th {\n",
       "        vertical-align: top;\n",
       "    }\n",
       "\n",
       "    .dataframe thead th {\n",
       "        text-align: right;\n",
       "    }\n",
       "</style>\n",
       "<table border=\"1\" class=\"dataframe\">\n",
       "  <thead>\n",
       "    <tr style=\"text-align: right;\">\n",
       "      <th></th>\n",
       "      <th>movieId</th>\n",
       "      <th>title</th>\n",
       "      <th>genres</th>\n",
       "      <th>year</th>\n",
       "      <th>Title</th>\n",
       "      <th>foggy</th>\n",
       "    </tr>\n",
       "  </thead>\n",
       "  <tbody>\n",
       "    <tr>\n",
       "      <th>0</th>\n",
       "      <td>1</td>\n",
       "      <td>Toy Story (1995)</td>\n",
       "      <td>Adventure|Animation|Children|Comedy|Fantasy</td>\n",
       "      <td>1995</td>\n",
       "      <td>Toy Story</td>\n",
       "      <td>Toy Story</td>\n",
       "    </tr>\n",
       "    <tr>\n",
       "      <th>1</th>\n",
       "      <td>2</td>\n",
       "      <td>Jumanji (1995)</td>\n",
       "      <td>Adventure|Children|Fantasy</td>\n",
       "      <td>1995</td>\n",
       "      <td>Jumanji</td>\n",
       "      <td>Jumanji</td>\n",
       "    </tr>\n",
       "    <tr>\n",
       "      <th>2</th>\n",
       "      <td>3</td>\n",
       "      <td>Grumpier Old Men (1995)</td>\n",
       "      <td>Comedy|Romance</td>\n",
       "      <td>1995</td>\n",
       "      <td>Grumpier Old Men</td>\n",
       "      <td>None</td>\n",
       "    </tr>\n",
       "    <tr>\n",
       "      <th>3</th>\n",
       "      <td>4</td>\n",
       "      <td>Waiting to Exhale (1995)</td>\n",
       "      <td>Comedy|Drama|Romance</td>\n",
       "      <td>1995</td>\n",
       "      <td>Waiting to Exhale</td>\n",
       "      <td>None</td>\n",
       "    </tr>\n",
       "    <tr>\n",
       "      <th>4</th>\n",
       "      <td>5</td>\n",
       "      <td>Father of the Bride Part II (1995)</td>\n",
       "      <td>Comedy</td>\n",
       "      <td>1995</td>\n",
       "      <td>Father of the Bride Part II</td>\n",
       "      <td>None</td>\n",
       "    </tr>\n",
       "  </tbody>\n",
       "</table>\n",
       "</div>"
      ],
      "text/plain": [
       "   movieId                               title  \\\n",
       "0        1                    Toy Story (1995)   \n",
       "1        2                      Jumanji (1995)   \n",
       "2        3             Grumpier Old Men (1995)   \n",
       "3        4            Waiting to Exhale (1995)   \n",
       "4        5  Father of the Bride Part II (1995)   \n",
       "\n",
       "                                        genres  year  \\\n",
       "0  Adventure|Animation|Children|Comedy|Fantasy  1995   \n",
       "1                   Adventure|Children|Fantasy  1995   \n",
       "2                               Comedy|Romance  1995   \n",
       "3                         Comedy|Drama|Romance  1995   \n",
       "4                                       Comedy  1995   \n",
       "\n",
       "                         Title      foggy  \n",
       "0                    Toy Story  Toy Story  \n",
       "1                      Jumanji    Jumanji  \n",
       "2             Grumpier Old Men       None  \n",
       "3            Waiting to Exhale       None  \n",
       "4  Father of the Bride Part II       None  "
      ]
     },
     "execution_count": 31,
     "metadata": {},
     "output_type": "execute_result"
    }
   ],
   "source": [
    "%%time\n",
    "movies['foggy'] = movies['Title'].apply(search_substring)\n",
    "movies.head()"
   ]
  },
  {
   "cell_type": "code",
   "execution_count": 32,
   "metadata": {},
   "outputs": [
    {
     "data": {
      "text/plain": [
       "58098"
      ]
     },
     "execution_count": 32,
     "metadata": {},
     "output_type": "execute_result"
    }
   ],
   "source": [
    "len(movies['foggy'])"
   ]
  },
  {
   "cell_type": "code",
   "execution_count": 33,
   "metadata": {},
   "outputs": [
    {
     "data": {
      "text/html": [
       "<div>\n",
       "<style scoped>\n",
       "    .dataframe tbody tr th:only-of-type {\n",
       "        vertical-align: middle;\n",
       "    }\n",
       "\n",
       "    .dataframe tbody tr th {\n",
       "        vertical-align: top;\n",
       "    }\n",
       "\n",
       "    .dataframe thead th {\n",
       "        text-align: right;\n",
       "    }\n",
       "</style>\n",
       "<table border=\"1\" class=\"dataframe\">\n",
       "  <thead>\n",
       "    <tr style=\"text-align: right;\">\n",
       "      <th></th>\n",
       "      <th>movieId</th>\n",
       "      <th>title</th>\n",
       "      <th>genres</th>\n",
       "      <th>year</th>\n",
       "      <th>Title</th>\n",
       "      <th>foggy</th>\n",
       "    </tr>\n",
       "  </thead>\n",
       "  <tbody>\n",
       "    <tr>\n",
       "      <th>0</th>\n",
       "      <td>1</td>\n",
       "      <td>Toy Story (1995)</td>\n",
       "      <td>Adventure|Animation|Children|Comedy|Fantasy</td>\n",
       "      <td>1995</td>\n",
       "      <td>Toy Story</td>\n",
       "      <td>Toy Story</td>\n",
       "    </tr>\n",
       "    <tr>\n",
       "      <th>1</th>\n",
       "      <td>2</td>\n",
       "      <td>Jumanji (1995)</td>\n",
       "      <td>Adventure|Children|Fantasy</td>\n",
       "      <td>1995</td>\n",
       "      <td>Jumanji</td>\n",
       "      <td>Jumanji</td>\n",
       "    </tr>\n",
       "    <tr>\n",
       "      <th>5</th>\n",
       "      <td>6</td>\n",
       "      <td>Heat (1995)</td>\n",
       "      <td>Action|Crime|Thriller</td>\n",
       "      <td>1995</td>\n",
       "      <td>Heat</td>\n",
       "      <td>Heat</td>\n",
       "    </tr>\n",
       "    <tr>\n",
       "      <th>12</th>\n",
       "      <td>13</td>\n",
       "      <td>Balto (1995)</td>\n",
       "      <td>Adventure|Animation|Children</td>\n",
       "      <td>1995</td>\n",
       "      <td>Balto</td>\n",
       "      <td>Balto</td>\n",
       "    </tr>\n",
       "    <tr>\n",
       "      <th>15</th>\n",
       "      <td>16</td>\n",
       "      <td>Casino (1995)</td>\n",
       "      <td>Crime|Drama</td>\n",
       "      <td>1995</td>\n",
       "      <td>Casino</td>\n",
       "      <td>Casino</td>\n",
       "    </tr>\n",
       "  </tbody>\n",
       "</table>\n",
       "</div>"
      ],
      "text/plain": [
       "    movieId             title                                       genres  \\\n",
       "0         1  Toy Story (1995)  Adventure|Animation|Children|Comedy|Fantasy   \n",
       "1         2    Jumanji (1995)                   Adventure|Children|Fantasy   \n",
       "5         6       Heat (1995)                        Action|Crime|Thriller   \n",
       "12       13      Balto (1995)                 Adventure|Animation|Children   \n",
       "15       16     Casino (1995)                                  Crime|Drama   \n",
       "\n",
       "    year      Title      foggy  \n",
       "0   1995  Toy Story  Toy Story  \n",
       "1   1995    Jumanji    Jumanji  \n",
       "5   1995       Heat       Heat  \n",
       "12  1995      Balto      Balto  \n",
       "15  1995     Casino     Casino  "
      ]
     },
     "execution_count": 33,
     "metadata": {},
     "output_type": "execute_result"
    }
   ],
   "source": [
    "movies_upd = movies.dropna()\n",
    "movies_upd.head()"
   ]
  },
  {
   "cell_type": "code",
   "execution_count": 34,
   "metadata": {},
   "outputs": [],
   "source": [
    "from itertools import chain\n",
    "from collections import Counter\n",
    "import matplotlib.pyplot as plt\n",
    "from sklearn import preprocessing\n",
    "import numpy as np\n",
    "from sklearn.preprocessing import MinMaxScaler"
   ]
  },
  {
   "cell_type": "code",
   "execution_count": 35,
   "metadata": {
    "scrolled": false
   },
   "outputs": [
    {
     "data": {
      "text/plain": [
       "Action          7130\n",
       "Adventure       4067\n",
       "Animation       2663\n",
       "Children        2749\n",
       "Comedy         15956\n",
       "Crime           5105\n",
       "Documentary     5118\n",
       "Drama          24144\n",
       "Fantasy         2637\n",
       "Film-Noir        364\n",
       "Horror          5555\n",
       "IMAX             197\n",
       "Musical         1113\n",
       "Mystery         2773\n",
       "Romance         7412\n",
       "Sci-Fi          3444\n",
       "Thriller        8216\n",
       "War             1820\n",
       "Western         1378\n",
       "dtype: int64"
      ]
     },
     "execution_count": 35,
     "metadata": {},
     "output_type": "execute_result"
    }
   ],
   "source": [
    "genres_of_all = movies['genres'].str.get_dummies().sum()\n",
    "genres_of_all = genres_of_all[1:]\n",
    "genres_of_all"
   ]
  },
  {
   "cell_type": "code",
   "execution_count": 36,
   "metadata": {},
   "outputs": [
    {
     "data": {
      "text/html": [
       "<div>\n",
       "<style scoped>\n",
       "    .dataframe tbody tr th:only-of-type {\n",
       "        vertical-align: middle;\n",
       "    }\n",
       "\n",
       "    .dataframe tbody tr th {\n",
       "        vertical-align: top;\n",
       "    }\n",
       "\n",
       "    .dataframe thead th {\n",
       "        text-align: right;\n",
       "    }\n",
       "</style>\n",
       "<table border=\"1\" class=\"dataframe\">\n",
       "  <thead>\n",
       "    <tr style=\"text-align: right;\">\n",
       "      <th></th>\n",
       "      <th>values</th>\n",
       "    </tr>\n",
       "  </thead>\n",
       "  <tbody>\n",
       "    <tr>\n",
       "      <th>Action</th>\n",
       "      <td>7130</td>\n",
       "    </tr>\n",
       "    <tr>\n",
       "      <th>Adventure</th>\n",
       "      <td>4067</td>\n",
       "    </tr>\n",
       "    <tr>\n",
       "      <th>Animation</th>\n",
       "      <td>2663</td>\n",
       "    </tr>\n",
       "    <tr>\n",
       "      <th>Children</th>\n",
       "      <td>2749</td>\n",
       "    </tr>\n",
       "    <tr>\n",
       "      <th>Comedy</th>\n",
       "      <td>15956</td>\n",
       "    </tr>\n",
       "  </tbody>\n",
       "</table>\n",
       "</div>"
      ],
      "text/plain": [
       "           values\n",
       "Action       7130\n",
       "Adventure    4067\n",
       "Animation    2663\n",
       "Children     2749\n",
       "Comedy      15956"
      ]
     },
     "execution_count": 36,
     "metadata": {},
     "output_type": "execute_result"
    }
   ],
   "source": [
    "frame = {'values': genres_of_all.values}\n",
    "df_all = pd.DataFrame(frame, index=genres_of_all.index)\n",
    "df_all.head()"
   ]
  },
  {
   "cell_type": "code",
   "execution_count": 37,
   "metadata": {},
   "outputs": [
    {
     "data": {
      "text/plain": [
       "5118     0.052632\n",
       "5105     0.052632\n",
       "1378     0.052632\n",
       "4067     0.052632\n",
       "197      0.052632\n",
       "2663     0.052632\n",
       "364      0.052632\n",
       "2637     0.052632\n",
       "24144    0.052632\n",
       "7412     0.052632\n",
       "2749     0.052632\n",
       "5555     0.052632\n",
       "15956    0.052632\n",
       "2773     0.052632\n",
       "8216     0.052632\n",
       "1113     0.052632\n",
       "7130     0.052632\n",
       "1820     0.052632\n",
       "3444     0.052632\n",
       "Name: values, dtype: float64"
      ]
     },
     "execution_count": 37,
     "metadata": {},
     "output_type": "execute_result"
    }
   ],
   "source": [
    "df_all['values'].value_counts(normalize=True)"
   ]
  },
  {
   "cell_type": "markdown",
   "metadata": {},
   "source": [
    "#### ^^^ в некоторых ДЗ пользовался этим методом для нормализации, но тут работает как то не так.\n"
   ]
  },
  {
   "cell_type": "code",
   "execution_count": 38,
   "metadata": {},
   "outputs": [
    {
     "data": {
      "text/plain": [
       "array(['Action', 'Adventure', 'Animation', 'Children', 'Comedy', 'Crime',\n",
       "       'Documentary', 'Drama', 'Fantasy', 'Film-Noir', 'Horror', 'IMAX',\n",
       "       'Musical', 'Mystery', 'Romance', 'Sci-Fi', 'Thriller', 'War',\n",
       "       'Western'], dtype=object)"
      ]
     },
     "execution_count": 38,
     "metadata": {},
     "output_type": "execute_result"
    }
   ],
   "source": [
    "c1 = genres_of_all.index.ravel()\n",
    "c1"
   ]
  },
  {
   "cell_type": "code",
   "execution_count": 39,
   "metadata": {},
   "outputs": [
    {
     "data": {
      "text/plain": [
       "array([0.28951434, 0.16160688, 0.10297741, 0.10656867, 0.65807826,\n",
       "       0.2049526 , 0.20549547, 1.        , 0.10189168, 0.00697373,\n",
       "       0.2237441 , 0.        , 0.03825114, 0.10757089, 0.30129035,\n",
       "       0.1355911 , 0.33486449, 0.06777467, 0.04931724])"
      ]
     },
     "execution_count": 39,
     "metadata": {},
     "output_type": "execute_result"
    }
   ],
   "source": [
    "min_max_scaler = preprocessing.MinMaxScaler(feature_range=(0,1))\n",
    "\n",
    "c2 = np.array(genres_of_all.values)\n",
    "c2 = min_max_scaler.fit_transform(c2.reshape(-1, 1)).ravel()\n",
    "c2"
   ]
  },
  {
   "cell_type": "markdown",
   "metadata": {},
   "source": [
    "#### ^^^ верноли я нормировал в диапазоне (0,1). А то когда reshape(0,1) делаешь, ошибку выдает"
   ]
  },
  {
   "cell_type": "code",
   "execution_count": 40,
   "metadata": {},
   "outputs": [
    {
     "data": {
      "text/html": [
       "<div>\n",
       "<style scoped>\n",
       "    .dataframe tbody tr th:only-of-type {\n",
       "        vertical-align: middle;\n",
       "    }\n",
       "\n",
       "    .dataframe tbody tr th {\n",
       "        vertical-align: top;\n",
       "    }\n",
       "\n",
       "    .dataframe thead th {\n",
       "        text-align: right;\n",
       "    }\n",
       "</style>\n",
       "<table border=\"1\" class=\"dataframe\">\n",
       "  <thead>\n",
       "    <tr style=\"text-align: right;\">\n",
       "      <th></th>\n",
       "      <th>values</th>\n",
       "    </tr>\n",
       "    <tr>\n",
       "      <th>genres</th>\n",
       "      <th></th>\n",
       "    </tr>\n",
       "  </thead>\n",
       "  <tbody>\n",
       "    <tr>\n",
       "      <th>Action</th>\n",
       "      <td>0.289514</td>\n",
       "    </tr>\n",
       "    <tr>\n",
       "      <th>Adventure</th>\n",
       "      <td>0.161607</td>\n",
       "    </tr>\n",
       "    <tr>\n",
       "      <th>Animation</th>\n",
       "      <td>0.102977</td>\n",
       "    </tr>\n",
       "    <tr>\n",
       "      <th>Children</th>\n",
       "      <td>0.106569</td>\n",
       "    </tr>\n",
       "    <tr>\n",
       "      <th>Comedy</th>\n",
       "      <td>0.658078</td>\n",
       "    </tr>\n",
       "    <tr>\n",
       "      <th>Crime</th>\n",
       "      <td>0.204953</td>\n",
       "    </tr>\n",
       "    <tr>\n",
       "      <th>Documentary</th>\n",
       "      <td>0.205495</td>\n",
       "    </tr>\n",
       "    <tr>\n",
       "      <th>Drama</th>\n",
       "      <td>1.000000</td>\n",
       "    </tr>\n",
       "    <tr>\n",
       "      <th>Fantasy</th>\n",
       "      <td>0.101892</td>\n",
       "    </tr>\n",
       "    <tr>\n",
       "      <th>Film-Noir</th>\n",
       "      <td>0.006974</td>\n",
       "    </tr>\n",
       "    <tr>\n",
       "      <th>Horror</th>\n",
       "      <td>0.223744</td>\n",
       "    </tr>\n",
       "    <tr>\n",
       "      <th>IMAX</th>\n",
       "      <td>0.000000</td>\n",
       "    </tr>\n",
       "    <tr>\n",
       "      <th>Musical</th>\n",
       "      <td>0.038251</td>\n",
       "    </tr>\n",
       "    <tr>\n",
       "      <th>Mystery</th>\n",
       "      <td>0.107571</td>\n",
       "    </tr>\n",
       "    <tr>\n",
       "      <th>Romance</th>\n",
       "      <td>0.301290</td>\n",
       "    </tr>\n",
       "    <tr>\n",
       "      <th>Sci-Fi</th>\n",
       "      <td>0.135591</td>\n",
       "    </tr>\n",
       "    <tr>\n",
       "      <th>Thriller</th>\n",
       "      <td>0.334864</td>\n",
       "    </tr>\n",
       "    <tr>\n",
       "      <th>War</th>\n",
       "      <td>0.067775</td>\n",
       "    </tr>\n",
       "    <tr>\n",
       "      <th>Western</th>\n",
       "      <td>0.049317</td>\n",
       "    </tr>\n",
       "  </tbody>\n",
       "</table>\n",
       "</div>"
      ],
      "text/plain": [
       "               values\n",
       "genres               \n",
       "Action       0.289514\n",
       "Adventure    0.161607\n",
       "Animation    0.102977\n",
       "Children     0.106569\n",
       "Comedy       0.658078\n",
       "Crime        0.204953\n",
       "Documentary  0.205495\n",
       "Drama        1.000000\n",
       "Fantasy      0.101892\n",
       "Film-Noir    0.006974\n",
       "Horror       0.223744\n",
       "IMAX         0.000000\n",
       "Musical      0.038251\n",
       "Mystery      0.107571\n",
       "Romance      0.301290\n",
       "Sci-Fi       0.135591\n",
       "Thriller     0.334864\n",
       "War          0.067775\n",
       "Western      0.049317"
      ]
     },
     "execution_count": 40,
     "metadata": {},
     "output_type": "execute_result"
    }
   ],
   "source": [
    "frame = {'genres': c1, 'values': c2}\n",
    "df_all = pd.DataFrame(frame)\n",
    "df_all = df_all.set_index('genres')\n",
    "df_all"
   ]
  },
  {
   "cell_type": "code",
   "execution_count": 41,
   "metadata": {},
   "outputs": [
    {
     "data": {
      "text/plain": [
       "Action       308\n",
       "Adventure    248\n",
       "Animation     64\n",
       "Children      85\n",
       "Comedy       374\n",
       "dtype: int64"
      ]
     },
     "execution_count": 41,
     "metadata": {},
     "output_type": "execute_result"
    }
   ],
   "source": [
    "my_genres = movies_upd['genres'].str.get_dummies().sum()\n",
    "my_genres = my_genres[1:]\n",
    "my_genres.head()"
   ]
  },
  {
   "cell_type": "code",
   "execution_count": 42,
   "metadata": {},
   "outputs": [
    {
     "data": {
      "text/html": [
       "<div>\n",
       "<style scoped>\n",
       "    .dataframe tbody tr th:only-of-type {\n",
       "        vertical-align: middle;\n",
       "    }\n",
       "\n",
       "    .dataframe tbody tr th {\n",
       "        vertical-align: top;\n",
       "    }\n",
       "\n",
       "    .dataframe thead th {\n",
       "        text-align: right;\n",
       "    }\n",
       "</style>\n",
       "<table border=\"1\" class=\"dataframe\">\n",
       "  <thead>\n",
       "    <tr style=\"text-align: right;\">\n",
       "      <th></th>\n",
       "      <th>values</th>\n",
       "    </tr>\n",
       "  </thead>\n",
       "  <tbody>\n",
       "    <tr>\n",
       "      <th>Action</th>\n",
       "      <td>308</td>\n",
       "    </tr>\n",
       "    <tr>\n",
       "      <th>Adventure</th>\n",
       "      <td>248</td>\n",
       "    </tr>\n",
       "    <tr>\n",
       "      <th>Animation</th>\n",
       "      <td>64</td>\n",
       "    </tr>\n",
       "    <tr>\n",
       "      <th>Children</th>\n",
       "      <td>85</td>\n",
       "    </tr>\n",
       "    <tr>\n",
       "      <th>Comedy</th>\n",
       "      <td>374</td>\n",
       "    </tr>\n",
       "  </tbody>\n",
       "</table>\n",
       "</div>"
      ],
      "text/plain": [
       "           values\n",
       "Action        308\n",
       "Adventure     248\n",
       "Animation      64\n",
       "Children       85\n",
       "Comedy        374"
      ]
     },
     "execution_count": 42,
     "metadata": {},
     "output_type": "execute_result"
    }
   ],
   "source": [
    "frame = {'values': my_genres.values}\n",
    "my_df = pd.DataFrame(frame, index=my_genres.index)\n",
    "my_df.head()"
   ]
  },
  {
   "cell_type": "code",
   "execution_count": 43,
   "metadata": {},
   "outputs": [
    {
     "data": {
      "text/plain": [
       "array(['Action', 'Adventure', 'Animation', 'Children', 'Comedy', 'Crime',\n",
       "       'Documentary', 'Drama', 'Fantasy', 'Film-Noir', 'Horror', 'IMAX',\n",
       "       'Musical', 'Mystery', 'Romance', 'Sci-Fi', 'Thriller', 'War',\n",
       "       'Western'], dtype=object)"
      ]
     },
     "execution_count": 43,
     "metadata": {},
     "output_type": "execute_result"
    }
   ],
   "source": [
    "c1 = my_genres.index.ravel()\n",
    "c1"
   ]
  },
  {
   "cell_type": "code",
   "execution_count": 44,
   "metadata": {},
   "outputs": [
    {
     "data": {
      "text/plain": [
       "array([0.48  , 0.384 , 0.0896, 0.1232, 0.5856, 0.2704, 0.0256, 1.    ,\n",
       "       0.1792, 0.    , 0.0816, 0.0816, 0.0256, 0.1104, 0.3408, 0.232 ,\n",
       "       0.3584, 0.0976, 0.024 ])"
      ]
     },
     "execution_count": 44,
     "metadata": {},
     "output_type": "execute_result"
    }
   ],
   "source": [
    "min_max_scaler = preprocessing.MinMaxScaler(feature_range=(0,1))\n",
    "\n",
    "c2 = np.array(my_genres.values)\n",
    "c2 = min_max_scaler.fit_transform(c2.reshape(-1, 1)).ravel()\n",
    "c2"
   ]
  },
  {
   "cell_type": "code",
   "execution_count": 45,
   "metadata": {},
   "outputs": [
    {
     "data": {
      "text/html": [
       "<div>\n",
       "<style scoped>\n",
       "    .dataframe tbody tr th:only-of-type {\n",
       "        vertical-align: middle;\n",
       "    }\n",
       "\n",
       "    .dataframe tbody tr th {\n",
       "        vertical-align: top;\n",
       "    }\n",
       "\n",
       "    .dataframe thead th {\n",
       "        text-align: right;\n",
       "    }\n",
       "</style>\n",
       "<table border=\"1\" class=\"dataframe\">\n",
       "  <thead>\n",
       "    <tr style=\"text-align: right;\">\n",
       "      <th></th>\n",
       "      <th>values</th>\n",
       "    </tr>\n",
       "    <tr>\n",
       "      <th>genres</th>\n",
       "      <th></th>\n",
       "    </tr>\n",
       "  </thead>\n",
       "  <tbody>\n",
       "    <tr>\n",
       "      <th>Action</th>\n",
       "      <td>0.4800</td>\n",
       "    </tr>\n",
       "    <tr>\n",
       "      <th>Adventure</th>\n",
       "      <td>0.3840</td>\n",
       "    </tr>\n",
       "    <tr>\n",
       "      <th>Animation</th>\n",
       "      <td>0.0896</td>\n",
       "    </tr>\n",
       "    <tr>\n",
       "      <th>Children</th>\n",
       "      <td>0.1232</td>\n",
       "    </tr>\n",
       "    <tr>\n",
       "      <th>Comedy</th>\n",
       "      <td>0.5856</td>\n",
       "    </tr>\n",
       "    <tr>\n",
       "      <th>Crime</th>\n",
       "      <td>0.2704</td>\n",
       "    </tr>\n",
       "    <tr>\n",
       "      <th>Documentary</th>\n",
       "      <td>0.0256</td>\n",
       "    </tr>\n",
       "    <tr>\n",
       "      <th>Drama</th>\n",
       "      <td>1.0000</td>\n",
       "    </tr>\n",
       "    <tr>\n",
       "      <th>Fantasy</th>\n",
       "      <td>0.1792</td>\n",
       "    </tr>\n",
       "    <tr>\n",
       "      <th>Film-Noir</th>\n",
       "      <td>0.0000</td>\n",
       "    </tr>\n",
       "    <tr>\n",
       "      <th>Horror</th>\n",
       "      <td>0.0816</td>\n",
       "    </tr>\n",
       "    <tr>\n",
       "      <th>IMAX</th>\n",
       "      <td>0.0816</td>\n",
       "    </tr>\n",
       "    <tr>\n",
       "      <th>Musical</th>\n",
       "      <td>0.0256</td>\n",
       "    </tr>\n",
       "    <tr>\n",
       "      <th>Mystery</th>\n",
       "      <td>0.1104</td>\n",
       "    </tr>\n",
       "    <tr>\n",
       "      <th>Romance</th>\n",
       "      <td>0.3408</td>\n",
       "    </tr>\n",
       "    <tr>\n",
       "      <th>Sci-Fi</th>\n",
       "      <td>0.2320</td>\n",
       "    </tr>\n",
       "    <tr>\n",
       "      <th>Thriller</th>\n",
       "      <td>0.3584</td>\n",
       "    </tr>\n",
       "    <tr>\n",
       "      <th>War</th>\n",
       "      <td>0.0976</td>\n",
       "    </tr>\n",
       "    <tr>\n",
       "      <th>Western</th>\n",
       "      <td>0.0240</td>\n",
       "    </tr>\n",
       "  </tbody>\n",
       "</table>\n",
       "</div>"
      ],
      "text/plain": [
       "             values\n",
       "genres             \n",
       "Action       0.4800\n",
       "Adventure    0.3840\n",
       "Animation    0.0896\n",
       "Children     0.1232\n",
       "Comedy       0.5856\n",
       "Crime        0.2704\n",
       "Documentary  0.0256\n",
       "Drama        1.0000\n",
       "Fantasy      0.1792\n",
       "Film-Noir    0.0000\n",
       "Horror       0.0816\n",
       "IMAX         0.0816\n",
       "Musical      0.0256\n",
       "Mystery      0.1104\n",
       "Romance      0.3408\n",
       "Sci-Fi       0.2320\n",
       "Thriller     0.3584\n",
       "War          0.0976\n",
       "Western      0.0240"
      ]
     },
     "execution_count": 45,
     "metadata": {},
     "output_type": "execute_result"
    }
   ],
   "source": [
    "frame = {'genres': c1, 'values': c2}\n",
    "my_df = pd.DataFrame(frame)\n",
    "my_df = my_df.set_index('genres')\n",
    "my_df"
   ]
  },
  {
   "cell_type": "code",
   "execution_count": 46,
   "metadata": {},
   "outputs": [
    {
     "data": {
      "text/html": [
       "<div>\n",
       "<style scoped>\n",
       "    .dataframe tbody tr th:only-of-type {\n",
       "        vertical-align: middle;\n",
       "    }\n",
       "\n",
       "    .dataframe tbody tr th {\n",
       "        vertical-align: top;\n",
       "    }\n",
       "\n",
       "    .dataframe thead th {\n",
       "        text-align: right;\n",
       "    }\n",
       "</style>\n",
       "<table border=\"1\" class=\"dataframe\">\n",
       "  <thead>\n",
       "    <tr style=\"text-align: right;\">\n",
       "      <th></th>\n",
       "      <th>all</th>\n",
       "      <th>my</th>\n",
       "    </tr>\n",
       "    <tr>\n",
       "      <th>genres</th>\n",
       "      <th></th>\n",
       "      <th></th>\n",
       "    </tr>\n",
       "  </thead>\n",
       "  <tbody>\n",
       "    <tr>\n",
       "      <th>Action</th>\n",
       "      <td>0.289514</td>\n",
       "      <td>0.4800</td>\n",
       "    </tr>\n",
       "    <tr>\n",
       "      <th>Adventure</th>\n",
       "      <td>0.161607</td>\n",
       "      <td>0.3840</td>\n",
       "    </tr>\n",
       "    <tr>\n",
       "      <th>Animation</th>\n",
       "      <td>0.102977</td>\n",
       "      <td>0.0896</td>\n",
       "    </tr>\n",
       "    <tr>\n",
       "      <th>Children</th>\n",
       "      <td>0.106569</td>\n",
       "      <td>0.1232</td>\n",
       "    </tr>\n",
       "    <tr>\n",
       "      <th>Comedy</th>\n",
       "      <td>0.658078</td>\n",
       "      <td>0.5856</td>\n",
       "    </tr>\n",
       "    <tr>\n",
       "      <th>Crime</th>\n",
       "      <td>0.204953</td>\n",
       "      <td>0.2704</td>\n",
       "    </tr>\n",
       "    <tr>\n",
       "      <th>Documentary</th>\n",
       "      <td>0.205495</td>\n",
       "      <td>0.0256</td>\n",
       "    </tr>\n",
       "    <tr>\n",
       "      <th>Drama</th>\n",
       "      <td>1.000000</td>\n",
       "      <td>1.0000</td>\n",
       "    </tr>\n",
       "    <tr>\n",
       "      <th>Fantasy</th>\n",
       "      <td>0.101892</td>\n",
       "      <td>0.1792</td>\n",
       "    </tr>\n",
       "    <tr>\n",
       "      <th>Film-Noir</th>\n",
       "      <td>0.006974</td>\n",
       "      <td>0.0000</td>\n",
       "    </tr>\n",
       "    <tr>\n",
       "      <th>Horror</th>\n",
       "      <td>0.223744</td>\n",
       "      <td>0.0816</td>\n",
       "    </tr>\n",
       "    <tr>\n",
       "      <th>IMAX</th>\n",
       "      <td>0.000000</td>\n",
       "      <td>0.0816</td>\n",
       "    </tr>\n",
       "    <tr>\n",
       "      <th>Musical</th>\n",
       "      <td>0.038251</td>\n",
       "      <td>0.0256</td>\n",
       "    </tr>\n",
       "    <tr>\n",
       "      <th>Mystery</th>\n",
       "      <td>0.107571</td>\n",
       "      <td>0.1104</td>\n",
       "    </tr>\n",
       "    <tr>\n",
       "      <th>Romance</th>\n",
       "      <td>0.301290</td>\n",
       "      <td>0.3408</td>\n",
       "    </tr>\n",
       "    <tr>\n",
       "      <th>Sci-Fi</th>\n",
       "      <td>0.135591</td>\n",
       "      <td>0.2320</td>\n",
       "    </tr>\n",
       "    <tr>\n",
       "      <th>Thriller</th>\n",
       "      <td>0.334864</td>\n",
       "      <td>0.3584</td>\n",
       "    </tr>\n",
       "    <tr>\n",
       "      <th>War</th>\n",
       "      <td>0.067775</td>\n",
       "      <td>0.0976</td>\n",
       "    </tr>\n",
       "    <tr>\n",
       "      <th>Western</th>\n",
       "      <td>0.049317</td>\n",
       "      <td>0.0240</td>\n",
       "    </tr>\n",
       "  </tbody>\n",
       "</table>\n",
       "</div>"
      ],
      "text/plain": [
       "                  all      my\n",
       "genres                       \n",
       "Action       0.289514  0.4800\n",
       "Adventure    0.161607  0.3840\n",
       "Animation    0.102977  0.0896\n",
       "Children     0.106569  0.1232\n",
       "Comedy       0.658078  0.5856\n",
       "Crime        0.204953  0.2704\n",
       "Documentary  0.205495  0.0256\n",
       "Drama        1.000000  1.0000\n",
       "Fantasy      0.101892  0.1792\n",
       "Film-Noir    0.006974  0.0000\n",
       "Horror       0.223744  0.0816\n",
       "IMAX         0.000000  0.0816\n",
       "Musical      0.038251  0.0256\n",
       "Mystery      0.107571  0.1104\n",
       "Romance      0.301290  0.3408\n",
       "Sci-Fi       0.135591  0.2320\n",
       "Thriller     0.334864  0.3584\n",
       "War          0.067775  0.0976\n",
       "Western      0.049317  0.0240"
      ]
     },
     "execution_count": 46,
     "metadata": {},
     "output_type": "execute_result"
    }
   ],
   "source": [
    "df = df_all.merge(my_df, how='outer', on='genres')\n",
    "df.columns = 'all', 'my'\n",
    "# df = df.reset_index()\n",
    "df"
   ]
  },
  {
   "cell_type": "code",
   "execution_count": 130,
   "metadata": {},
   "outputs": [
    {
     "data": {
      "text/plain": [
       "<matplotlib.axes._subplots.AxesSubplot at 0x1a1348469e8>"
      ]
     },
     "execution_count": 130,
     "metadata": {},
     "output_type": "execute_result"
    },
    {
     "data": {
      "image/png": "[encoded data removed]",
      "text/plain": [
       "<Figure size 1440x864 with 1 Axes>"
      ]
     },
     "metadata": {
      "needs_background": "light"
     },
     "output_type": "display_data"
    }
   ],
   "source": [
    "df.plot(kind='bar', title='Сравнение моих жанров с жанрами БД', figsize=(20,12))"
   ]
  },
  {
   "cell_type": "markdown",
   "metadata": {},
   "source": [
    "### Выводы:\n",
    "##### График подтверждает гипотезу самого популярного жанра - Драма, Комедия\n",
    "##### Мои популярные жанры отличающиеся от пользователей БД Action, Adventure, Fantasy, Sci-Fi"
   ]
  },
  {
   "cell_type": "code",
   "execution_count": 129,
   "metadata": {},
   "outputs": [
    {
     "data": {
      "text/html": [
       "<div>\n",
       "<style scoped>\n",
       "    .dataframe tbody tr th:only-of-type {\n",
       "        vertical-align: middle;\n",
       "    }\n",
       "\n",
       "    .dataframe tbody tr th {\n",
       "        vertical-align: top;\n",
       "    }\n",
       "\n",
       "    .dataframe thead th {\n",
       "        text-align: right;\n",
       "    }\n",
       "</style>\n",
       "<table border=\"1\" class=\"dataframe\">\n",
       "  <thead>\n",
       "    <tr style=\"text-align: right;\">\n",
       "      <th></th>\n",
       "      <th>year</th>\n",
       "      <th>movieId</th>\n",
       "    </tr>\n",
       "  </thead>\n",
       "  <tbody>\n",
       "    <tr>\n",
       "      <th>4</th>\n",
       "      <td>1878</td>\n",
       "      <td>1</td>\n",
       "    </tr>\n",
       "    <tr>\n",
       "      <th>5</th>\n",
       "      <td>1883</td>\n",
       "      <td>1</td>\n",
       "    </tr>\n",
       "    <tr>\n",
       "      <th>6</th>\n",
       "      <td>1887</td>\n",
       "      <td>1</td>\n",
       "    </tr>\n",
       "    <tr>\n",
       "      <th>7</th>\n",
       "      <td>1888</td>\n",
       "      <td>4</td>\n",
       "    </tr>\n",
       "    <tr>\n",
       "      <th>8</th>\n",
       "      <td>1890</td>\n",
       "      <td>5</td>\n",
       "    </tr>\n",
       "  </tbody>\n",
       "</table>\n",
       "</div>"
      ],
      "text/plain": [
       "   year  movieId\n",
       "4  1878        1\n",
       "5  1883        1\n",
       "6  1887        1\n",
       "7  1888        4\n",
       "8  1890        5"
      ]
     },
     "execution_count": 129,
     "metadata": {},
     "output_type": "execute_result"
    }
   ],
   "source": [
    "from plotly.offline import download_plotlyjs, init_notebook_mode, plot, iplot\n",
    "import plotly.graph_objs as go\n",
    "count_year = movies.groupby('year', as_index=False).movieId.count()\n",
    "count_year = count_year[count_year['year'].str.isdigit()]\n",
    "count_year = count_year[1:]\n",
    "count_year = count_year[1:-1]\n",
    "count_year.head()"
   ]
  },
  {
   "cell_type": "code",
   "execution_count": 124,
   "metadata": {},
   "outputs": [
    {
     "data": {
      "text/html": [
       "<div>\n",
       "<style scoped>\n",
       "    .dataframe tbody tr th:only-of-type {\n",
       "        vertical-align: middle;\n",
       "    }\n",
       "\n",
       "    .dataframe tbody tr th {\n",
       "        vertical-align: top;\n",
       "    }\n",
       "\n",
       "    .dataframe thead th {\n",
       "        text-align: right;\n",
       "    }\n",
       "</style>\n",
       "<table border=\"1\" class=\"dataframe\">\n",
       "  <thead>\n",
       "    <tr style=\"text-align: right;\">\n",
       "      <th></th>\n",
       "      <th>year</th>\n",
       "      <th>movieId</th>\n",
       "    </tr>\n",
       "  </thead>\n",
       "  <tbody>\n",
       "    <tr>\n",
       "      <th>2</th>\n",
       "      <td>1916</td>\n",
       "      <td>1</td>\n",
       "    </tr>\n",
       "    <tr>\n",
       "      <th>3</th>\n",
       "      <td>1920</td>\n",
       "      <td>1</td>\n",
       "    </tr>\n",
       "    <tr>\n",
       "      <th>4</th>\n",
       "      <td>1922</td>\n",
       "      <td>1</td>\n",
       "    </tr>\n",
       "    <tr>\n",
       "      <th>5</th>\n",
       "      <td>1924</td>\n",
       "      <td>1</td>\n",
       "    </tr>\n",
       "    <tr>\n",
       "      <th>6</th>\n",
       "      <td>1926</td>\n",
       "      <td>2</td>\n",
       "    </tr>\n",
       "  </tbody>\n",
       "</table>\n",
       "</div>"
      ],
      "text/plain": [
       "   year  movieId\n",
       "2  1916        1\n",
       "3  1920        1\n",
       "4  1922        1\n",
       "5  1924        1\n",
       "6  1926        2"
      ]
     },
     "execution_count": 124,
     "metadata": {},
     "output_type": "execute_result"
    }
   ],
   "source": [
    "from plotly.offline import download_plotlyjs, init_notebook_mode, plot, iplot\n",
    "import plotly.graph_objs as go\n",
    "count_year_my = movies_upd.groupby('year', as_index=False).movieId.count()\n",
    "count_year_my = count_year_my[count_year_my['year'].str.isdigit()]\n",
    "count_year_my = count_year_my[1:]\n",
    "count_year_my = count_year_my[1:-1]\n",
    "count_year_my.head()"
   ]
  },
  {
   "cell_type": "code",
   "execution_count": 128,
   "metadata": {},
   "outputs": [
    {
     "data": {
      "application/vnd.plotly.v1+json": {
       "config": {
        "linkText": "Export to plot.ly",
        "plotlyServerURL": "https://plot.ly",
        "showLink": false
       },
       "data": [
        {
         "type": "bar",
         "x": [
          "1878",
          "1883",
          "1887",
          "1888",
          "1890",
          "1891",
          "1892",
          "1893",
          "1894",
          "1895",
          "1896",
          "1897",
          "1898",
          "1899",
          "1900",
          "1901",
          "1902",
          "1903",
          "1904",
          "1905",
          "1906",
          "1907",
          "1908",
          "1909",
          "1910",
          "1911",
          "1912",
          "1913",
          "1914",
          "1915",
          "1916",
          "1917",
          "1918",
          "1919",
          "1920",
          "1921",
          "1922",
          "1923",
          "1924",
          "1925",
          "1926",
          "1927",
          "1928",
          "1929",
          "1930",
          "1931",
          "1932",
          "1933",
          "1934",
          "1935",
          "1936",
          "1937",
          "1938",
          "1939",
          "1940",
          "1941",
          "1942",
          "1943",
          "1944",
          "1945",
          "1946",
          "1947",
          "1948",
          "1949",
          "1950",
          "1951",
          "1952",
          "1953",
          "1954",
          "1955",
          "1956",
          "1957",
          "1958",
          "1959",
          "1960",
          "1961",
          "1962",
          "1963",
          "1964",
          "1965",
          "1966",
          "1967",
          "1968",
          "1969",
          "1970",
          "1971",
          "1972",
          "1973",
          "1974",
          "1975",
          "1976",
          "1977",
          "1978",
          "1979",
          "1980",
          "1981",
          "1982",
          "1983",
          "1984",
          "1985",
          "1986",
          "1987",
          "1988",
          "1989",
          "1990",
          "1991",
          "1992",
          "1993",
          "1994",
          "1995",
          "1996",
          "1997",
          "1998",
          "1999",
          "2000",
          "2001",
          "2002",
          "2003",
          "2004",
          "2005",
          "2006",
          "2007",
          "2008",
          "2009",
          "2010",
          "2011",
          "2012",
          "2013",
          "2014",
          "2015",
          "2016",
          "2017",
          "2018"
         ],
         "y": [
          1,
          1,
          1,
          4,
          5,
          6,
          3,
          1,
          22,
          8,
          19,
          11,
          13,
          6,
          17,
          13,
          4,
          23,
          8,
          8,
          15,
          15,
          15,
          15,
          12,
          10,
          20,
          14,
          40,
          29,
          34,
          24,
          18,
          29,
          30,
          40,
          43,
          28,
          42,
          47,
          58,
          55,
          69,
          103,
          123,
          156,
          196,
          199,
          198,
          211,
          225,
          226,
          198,
          209,
          212,
          220,
          239,
          208,
          199,
          197,
          192,
          216,
          217,
          244,
          260,
          252,
          274,
          295,
          267,
          298,
          276,
          319,
          282,
          293,
          263,
          271,
          279,
          295,
          347,
          337,
          378,
          366,
          440,
          414,
          465,
          503,
          526,
          486,
          490,
          453,
          465,
          445,
          428,
          473,
          455,
          444,
          440,
          434,
          432,
          478,
          471,
          559,
          575,
          556,
          527,
          523,
          558,
          564,
          653,
          692,
          714,
          791,
          809,
          809,
          930,
          963,
          1017,
          1023,
          1155,
          1240,
          1451,
          1493,
          1641,
          1813,
          1721,
          1873,
          1993,
          2173,
          2294,
          2312,
          2219,
          1891,
          861
         ]
        }
       ],
       "layout": {
        "template": {
         "data": {
          "bar": [
           {
            "error_x": {
             "color": "#2a3f5f"
            },
            "error_y": {
             "color": "#2a3f5f"
            },
            "marker": {
             "line": {
              "color": "#E5ECF6",
              "width": 0.5
             }
            },
            "type": "bar"
           }
          ],
          "barpolar": [
           {
            "marker": {
             "line": {
              "color": "#E5ECF6",
              "width": 0.5
             }
            },
            "type": "barpolar"
           }
          ],
          "carpet": [
           {
            "aaxis": {
             "endlinecolor": "#2a3f5f",
             "gridcolor": "white",
             "linecolor": "white",
             "minorgridcolor": "white",
             "startlinecolor": "#2a3f5f"
            },
            "baxis": {
             "endlinecolor": "#2a3f5f",
             "gridcolor": "white",
             "linecolor": "white",
             "minorgridcolor": "white",
             "startlinecolor": "#2a3f5f"
            },
            "type": "carpet"
           }
          ],
          "choropleth": [
           {
            "colorbar": {
             "outlinewidth": 0,
             "ticks": ""
            },
            "type": "choropleth"
           }
          ],
          "contour": [
           {
            "colorbar": {
             "outlinewidth": 0,
             "ticks": ""
            },
            "colorscale": [
             [
              0,
              "#0d0887"
             ],
             [
              0.1111111111111111,
              "#46039f"
             ],
             [
              0.2222222222222222,
              "#7201a8"
             ],
             [
              0.3333333333333333,
              "#9c179e"
             ],
             [
              0.4444444444444444,
              "#bd3786"
             ],
             [
              0.5555555555555556,
              "#d8576b"
             ],
             [
              0.6666666666666666,
              "#ed7953"
             ],
             [
              0.7777777777777778,
              "#fb9f3a"
             ],
             [
              0.8888888888888888,
              "#fdca26"
             ],
             [
              1,
              "#f0f921"
             ]
            ],
            "type": "contour"
           }
          ],
          "contourcarpet": [
           {
            "colorbar": {
             "outlinewidth": 0,
             "ticks": ""
            },
            "type": "contourcarpet"
           }
          ],
          "heatmap": [
           {
            "colorbar": {
             "outlinewidth": 0,
             "ticks": ""
            },
            "colorscale": [
             [
              0,
              "#0d0887"
             ],
             [
              0.1111111111111111,
              "#46039f"
             ],
             [
              0.2222222222222222,
              "#7201a8"
             ],
             [
              0.3333333333333333,
              "#9c179e"
             ],
             [
              0.4444444444444444,
              "#bd3786"
             ],
             [
              0.5555555555555556,
              "#d8576b"
             ],
             [
              0.6666666666666666,
              "#ed7953"
             ],
             [
              0.7777777777777778,
              "#fb9f3a"
             ],
             [
              0.8888888888888888,
              "#fdca26"
             ],
             [
              1,
              "#f0f921"
             ]
            ],
            "type": "heatmap"
           }
          ],
          "heatmapgl": [
           {
            "colorbar": {
             "outlinewidth": 0,
             "ticks": ""
            },
            "colorscale": [
             [
              0,
              "#0d0887"
             ],
             [
              0.1111111111111111,
              "#46039f"
             ],
             [
              0.2222222222222222,
              "#7201a8"
             ],
             [
              0.3333333333333333,
              "#9c179e"
             ],
             [
              0.4444444444444444,
              "#bd3786"
             ],
             [
              0.5555555555555556,
              "#d8576b"
             ],
             [
              0.6666666666666666,
              "#ed7953"
             ],
             [
              0.7777777777777778,
              "#fb9f3a"
             ],
             [
              0.8888888888888888,
              "#fdca26"
             ],
             [
              1,
              "#f0f921"
             ]
            ],
            "type": "heatmapgl"
           }
          ],
          "histogram": [
           {
            "marker": {
             "colorbar": {
              "outlinewidth": 0,
              "ticks": ""
             }
            },
            "type": "histogram"
           }
          ],
          "histogram2d": [
           {
            "colorbar": {
             "outlinewidth": 0,
             "ticks": ""
            },
            "colorscale": [
             [
              0,
              "#0d0887"
             ],
             [
              0.1111111111111111,
              "#46039f"
             ],
             [
              0.2222222222222222,
              "#7201a8"
             ],
             [
              0.3333333333333333,
              "#9c179e"
             ],
             [
              0.4444444444444444,
              "#bd3786"
             ],
             [
              0.5555555555555556,
              "#d8576b"
             ],
             [
              0.6666666666666666,
              "#ed7953"
             ],
             [
              0.7777777777777778,
              "#fb9f3a"
             ],
             [
              0.8888888888888888,
              "#fdca26"
             ],
             [
              1,
              "#f0f921"
             ]
            ],
            "type": "histogram2d"
           }
          ],
          "histogram2dcontour": [
           {
            "colorbar": {
             "outlinewidth": 0,
             "ticks": ""
            },
            "colorscale": [
             [
              0,
              "#0d0887"
             ],
             [
              0.1111111111111111,
              "#46039f"
             ],
             [
              0.2222222222222222,
              "#7201a8"
             ],
             [
              0.3333333333333333,
              "#9c179e"
             ],
             [
              0.4444444444444444,
              "#bd3786"
             ],
             [
              0.5555555555555556,
              "#d8576b"
             ],
             [
              0.6666666666666666,
              "#ed7953"
             ],
             [
              0.7777777777777778,
              "#fb9f3a"
             ],
             [
              0.8888888888888888,
              "#fdca26"
             ],
             [
              1,
              "#f0f921"
             ]
            ],
            "type": "histogram2dcontour"
           }
          ],
          "mesh3d": [
           {
            "colorbar": {
             "outlinewidth": 0,
             "ticks": ""
            },
            "type": "mesh3d"
           }
          ],
          "parcoords": [
           {
            "line": {
             "colorbar": {
              "outlinewidth": 0,
              "ticks": ""
             }
            },
            "type": "parcoords"
           }
          ],
          "pie": [
           {
            "automargin": true,
            "type": "pie"
           }
          ],
          "scatter": [
           {
            "marker": {
             "colorbar": {
              "outlinewidth": 0,
              "ticks": ""
             }
            },
            "type": "scatter"
           }
          ],
          "scatter3d": [
           {
            "line": {
             "colorbar": {
              "outlinewidth": 0,
              "ticks": ""
             }
            },
            "marker": {
             "colorbar": {
              "outlinewidth": 0,
              "ticks": ""
             }
            },
            "type": "scatter3d"
           }
          ],
          "scattercarpet": [
           {
            "marker": {
             "colorbar": {
              "outlinewidth": 0,
              "ticks": ""
             }
            },
            "type": "scattercarpet"
           }
          ],
          "scattergeo": [
           {
            "marker": {
             "colorbar": {
              "outlinewidth": 0,
              "ticks": ""
             }
            },
            "type": "scattergeo"
           }
          ],
          "scattergl": [
           {
            "marker": {
             "colorbar": {
              "outlinewidth": 0,
              "ticks": ""
             }
            },
            "type": "scattergl"
           }
          ],
          "scattermapbox": [
           {
            "marker": {
             "colorbar": {
              "outlinewidth": 0,
              "ticks": ""
             }
            },
            "type": "scattermapbox"
           }
          ],
          "scatterpolar": [
           {
            "marker": {
             "colorbar": {
              "outlinewidth": 0,
              "ticks": ""
             }
            },
            "type": "scatterpolar"
           }
          ],
          "scatterpolargl": [
           {
            "marker": {
             "colorbar": {
              "outlinewidth": 0,
              "ticks": ""
             }
            },
            "type": "scatterpolargl"
           }
          ],
          "scatterternary": [
           {
            "marker": {
             "colorbar": {
              "outlinewidth": 0,
              "ticks": ""
             }
            },
            "type": "scatterternary"
           }
          ],
          "surface": [
           {
            "colorbar": {
             "outlinewidth": 0,
             "ticks": ""
            },
            "colorscale": [
             [
              0,
              "#0d0887"
             ],
             [
              0.1111111111111111,
              "#46039f"
             ],
             [
              0.2222222222222222,
              "#7201a8"
             ],
             [
              0.3333333333333333,
              "#9c179e"
             ],
             [
              0.4444444444444444,
              "#bd3786"
             ],
             [
              0.5555555555555556,
              "#d8576b"
             ],
             [
              0.6666666666666666,
              "#ed7953"
             ],
             [
              0.7777777777777778,
              "#fb9f3a"
             ],
             [
              0.8888888888888888,
              "#fdca26"
             ],
             [
              1,
              "#f0f921"
             ]
            ],
            "type": "surface"
           }
          ],
          "table": [
           {
            "cells": {
             "fill": {
              "color": "#EBF0F8"
             },
             "line": {
              "color": "white"
             }
            },
            "header": {
             "fill": {
              "color": "#C8D4E3"
             },
             "line": {
              "color": "white"
             }
            },
            "type": "table"
           }
          ]
         },
         "layout": {
          "annotationdefaults": {
           "arrowcolor": "#2a3f5f",
           "arrowhead": 0,
           "arrowwidth": 1
          },
          "coloraxis": {
           "colorbar": {
            "outlinewidth": 0,
            "ticks": ""
           }
          },
          "colorscale": {
           "diverging": [
            [
             0,
             "#8e0152"
            ],
            [
             0.1,
             "#c51b7d"
            ],
            [
             0.2,
             "#de77ae"
            ],
            [
             0.3,
             "#f1b6da"
            ],
            [
             0.4,
             "#fde0ef"
            ],
            [
             0.5,
             "#f7f7f7"
            ],
            [
             0.6,
             "#e6f5d0"
            ],
            [
             0.7,
             "#b8e186"
            ],
            [
             0.8,
             "#7fbc41"
            ],
            [
             0.9,
             "#4d9221"
            ],
            [
             1,
             "#276419"
            ]
           ],
           "sequential": [
            [
             0,
             "#0d0887"
            ],
            [
             0.1111111111111111,
             "#46039f"
            ],
            [
             0.2222222222222222,
             "#7201a8"
            ],
            [
             0.3333333333333333,
             "#9c179e"
            ],
            [
             0.4444444444444444,
             "#bd3786"
            ],
            [
             0.5555555555555556,
             "#d8576b"
            ],
            [
             0.6666666666666666,
             "#ed7953"
            ],
            [
             0.7777777777777778,
             "#fb9f3a"
            ],
            [
             0.8888888888888888,
             "#fdca26"
            ],
            [
             1,
             "#f0f921"
            ]
           ],
           "sequentialminus": [
            [
             0,
             "#0d0887"
            ],
            [
             0.1111111111111111,
             "#46039f"
            ],
            [
             0.2222222222222222,
             "#7201a8"
            ],
            [
             0.3333333333333333,
             "#9c179e"
            ],
            [
             0.4444444444444444,
             "#bd3786"
            ],
            [
             0.5555555555555556,
             "#d8576b"
            ],
            [
             0.6666666666666666,
             "#ed7953"
            ],
            [
             0.7777777777777778,
             "#fb9f3a"
            ],
            [
             0.8888888888888888,
             "#fdca26"
            ],
            [
             1,
             "#f0f921"
            ]
           ]
          },
          "colorway": [
           "#636efa",
           "#EF553B",
           "#00cc96",
           "#ab63fa",
           "#FFA15A",
           "#19d3f3",
           "#FF6692",
           "#B6E880",
           "#FF97FF",
           "#FECB52"
          ],
          "font": {
           "color": "#2a3f5f"
          },
          "geo": {
           "bgcolor": "white",
           "lakecolor": "white",
           "landcolor": "#E5ECF6",
           "showlakes": true,
           "showland": true,
           "subunitcolor": "white"
          },
          "hoverlabel": {
           "align": "left"
          },
          "hovermode": "closest",
          "mapbox": {
           "style": "light"
          },
          "paper_bgcolor": "white",
          "plot_bgcolor": "#E5ECF6",
          "polar": {
           "angularaxis": {
            "gridcolor": "white",
            "linecolor": "white",
            "ticks": ""
           },
           "bgcolor": "#E5ECF6",
           "radialaxis": {
            "gridcolor": "white",
            "linecolor": "white",
            "ticks": ""
           }
          },
          "scene": {
           "xaxis": {
            "backgroundcolor": "#E5ECF6",
            "gridcolor": "white",
            "gridwidth": 2,
            "linecolor": "white",
            "showbackground": true,
            "ticks": "",
            "zerolinecolor": "white"
           },
           "yaxis": {
            "backgroundcolor": "#E5ECF6",
            "gridcolor": "white",
            "gridwidth": 2,
            "linecolor": "white",
            "showbackground": true,
            "ticks": "",
            "zerolinecolor": "white"
           },
           "zaxis": {
            "backgroundcolor": "#E5ECF6",
            "gridcolor": "white",
            "gridwidth": 2,
            "linecolor": "white",
            "showbackground": true,
            "ticks": "",
            "zerolinecolor": "white"
           }
          },
          "shapedefaults": {
           "line": {
            "color": "#2a3f5f"
           }
          },
          "ternary": {
           "aaxis": {
            "gridcolor": "white",
            "linecolor": "white",
            "ticks": ""
           },
           "baxis": {
            "gridcolor": "white",
            "linecolor": "white",
            "ticks": ""
           },
           "bgcolor": "#E5ECF6",
           "caxis": {
            "gridcolor": "white",
            "linecolor": "white",
            "ticks": ""
           }
          },
          "title": {
           "x": 0.05
          },
          "xaxis": {
           "automargin": true,
           "gridcolor": "white",
           "linecolor": "white",
           "ticks": "",
           "title": {
            "standoff": 15
           },
           "zerolinecolor": "white",
           "zerolinewidth": 2
          },
          "yaxis": {
           "automargin": true,
           "gridcolor": "white",
           "linecolor": "white",
           "ticks": "",
           "title": {
            "standoff": 15
           },
           "zerolinecolor": "white",
           "zerolinewidth": 2
          }
         }
        },
        "title": {
         "text": "Все фильмы по годам"
        }
       }
      },
      "text/html": [
       "<div>\n",
       "        \n",
       "        \n",
       "            <div id=\"8592c1a3-5c48-4c5a-bc4f-4b863cb72d12\" class=\"plotly-graph-div\" style=\"height:525px; width:100%;\"></div>\n",
       "            <script type=\"text/javascript\">\n",
       "                require([\"plotly\"], function(Plotly) {\n",
       "                    window.PLOTLYENV=window.PLOTLYENV || {};\n",
       "                    \n",
       "                if (document.getElementById(\"8592c1a3-5c48-4c5a-bc4f-4b863cb72d12\")) {\n",
       "                    Plotly.newPlot(\n",
       "                        '8592c1a3-5c48-4c5a-bc4f-4b863cb72d12',\n",
       "                        [{\"type\": \"bar\", \"x\": [\"1878\", \"1883\", \"1887\", \"1888\", \"1890\", \"1891\", \"1892\", \"1893\", \"1894\", \"1895\", \"1896\", \"1897\", \"1898\", \"1899\", \"1900\", \"1901\", \"1902\", \"1903\", \"1904\", \"1905\", \"1906\", \"1907\", \"1908\", \"1909\", \"1910\", \"1911\", \"1912\", \"1913\", \"1914\", \"1915\", \"1916\", \"1917\", \"1918\", \"1919\", \"1920\", \"1921\", \"1922\", \"1923\", \"1924\", \"1925\", \"1926\", \"1927\", \"1928\", \"1929\", \"1930\", \"1931\", \"1932\", \"1933\", \"1934\", \"1935\", \"1936\", \"1937\", \"1938\", \"1939\", \"1940\", \"1941\", \"1942\", \"1943\", \"1944\", \"1945\", \"1946\", \"1947\", \"1948\", \"1949\", \"1950\", \"1951\", \"1952\", \"1953\", \"1954\", \"1955\", \"1956\", \"1957\", \"1958\", \"1959\", \"1960\", \"1961\", \"1962\", \"1963\", \"1964\", \"1965\", \"1966\", \"1967\", \"1968\", \"1969\", \"1970\", \"1971\", \"1972\", \"1973\", \"1974\", \"1975\", \"1976\", \"1977\", \"1978\", \"1979\", \"1980\", \"1981\", \"1982\", \"1983\", \"1984\", \"1985\", \"1986\", \"1987\", \"1988\", \"1989\", \"1990\", \"1991\", \"1992\", \"1993\", \"1994\", \"1995\", \"1996\", \"1997\", \"1998\", \"1999\", \"2000\", \"2001\", \"2002\", \"2003\", \"2004\", \"2005\", \"2006\", \"2007\", \"2008\", \"2009\", \"2010\", \"2011\", \"2012\", \"2013\", \"2014\", \"2015\", \"2016\", \"2017\", \"2018\"], \"y\": [1, 1, 1, 4, 5, 6, 3, 1, 22, 8, 19, 11, 13, 6, 17, 13, 4, 23, 8, 8, 15, 15, 15, 15, 12, 10, 20, 14, 40, 29, 34, 24, 18, 29, 30, 40, 43, 28, 42, 47, 58, 55, 69, 103, 123, 156, 196, 199, 198, 211, 225, 226, 198, 209, 212, 220, 239, 208, 199, 197, 192, 216, 217, 244, 260, 252, 274, 295, 267, 298, 276, 319, 282, 293, 263, 271, 279, 295, 347, 337, 378, 366, 440, 414, 465, 503, 526, 486, 490, 453, 465, 445, 428, 473, 455, 444, 440, 434, 432, 478, 471, 559, 575, 556, 527, 523, 558, 564, 653, 692, 714, 791, 809, 809, 930, 963, 1017, 1023, 1155, 1240, 1451, 1493, 1641, 1813, 1721, 1873, 1993, 2173, 2294, 2312, 2219, 1891, 861]}],\n",
       "                        {\"template\": {\"data\": {\"bar\": [{\"error_x\": {\"color\": \"#2a3f5f\"}, \"error_y\": {\"color\": \"#2a3f5f\"}, \"marker\": {\"line\": {\"color\": \"#E5ECF6\", \"width\": 0.5}}, \"type\": \"bar\"}], \"barpolar\": [{\"marker\": {\"line\": {\"color\": \"#E5ECF6\", \"width\": 0.5}}, \"type\": \"barpolar\"}], \"carpet\": [{\"aaxis\": {\"endlinecolor\": \"#2a3f5f\", \"gridcolor\": \"white\", \"linecolor\": \"white\", \"minorgridcolor\": \"white\", \"startlinecolor\": \"#2a3f5f\"}, \"baxis\": {\"endlinecolor\": \"#2a3f5f\", \"gridcolor\": \"white\", \"linecolor\": \"white\", \"minorgridcolor\": \"white\", \"startlinecolor\": \"#2a3f5f\"}, \"type\": \"carpet\"}], \"choropleth\": [{\"colorbar\": {\"outlinewidth\": 0, \"ticks\": \"\"}, \"type\": \"choropleth\"}], \"contour\": [{\"colorbar\": {\"outlinewidth\": 0, \"ticks\": \"\"}, \"colorscale\": [[0.0, \"#0d0887\"], [0.1111111111111111, \"#46039f\"], [0.2222222222222222, \"#7201a8\"], [0.3333333333333333, \"#9c179e\"], [0.4444444444444444, \"#bd3786\"], [0.5555555555555556, \"#d8576b\"], [0.6666666666666666, \"#ed7953\"], [0.7777777777777778, \"#fb9f3a\"], [0.8888888888888888, \"#fdca26\"], [1.0, \"#f0f921\"]], \"type\": \"contour\"}], \"contourcarpet\": [{\"colorbar\": {\"outlinewidth\": 0, \"ticks\": \"\"}, \"type\": \"contourcarpet\"}], \"heatmap\": [{\"colorbar\": {\"outlinewidth\": 0, \"ticks\": \"\"}, \"colorscale\": [[0.0, \"#0d0887\"], [0.1111111111111111, \"#46039f\"], [0.2222222222222222, \"#7201a8\"], [0.3333333333333333, \"#9c179e\"], [0.4444444444444444, \"#bd3786\"], [0.5555555555555556, \"#d8576b\"], [0.6666666666666666, \"#ed7953\"], [0.7777777777777778, \"#fb9f3a\"], [0.8888888888888888, \"#fdca26\"], [1.0, \"#f0f921\"]], \"type\": \"heatmap\"}], \"heatmapgl\": [{\"colorbar\": {\"outlinewidth\": 0, \"ticks\": \"\"}, \"colorscale\": [[0.0, \"#0d0887\"], [0.1111111111111111, \"#46039f\"], [0.2222222222222222, \"#7201a8\"], [0.3333333333333333, \"#9c179e\"], [0.4444444444444444, \"#bd3786\"], [0.5555555555555556, \"#d8576b\"], [0.6666666666666666, \"#ed7953\"], [0.7777777777777778, \"#fb9f3a\"], [0.8888888888888888, \"#fdca26\"], [1.0, \"#f0f921\"]], \"type\": \"heatmapgl\"}], \"histogram\": [{\"marker\": {\"colorbar\": {\"outlinewidth\": 0, \"ticks\": \"\"}}, \"type\": \"histogram\"}], \"histogram2d\": [{\"colorbar\": {\"outlinewidth\": 0, \"ticks\": \"\"}, \"colorscale\": [[0.0, \"#0d0887\"], [0.1111111111111111, \"#46039f\"], [0.2222222222222222, \"#7201a8\"], [0.3333333333333333, \"#9c179e\"], [0.4444444444444444, \"#bd3786\"], [0.5555555555555556, \"#d8576b\"], [0.6666666666666666, \"#ed7953\"], [0.7777777777777778, \"#fb9f3a\"], [0.8888888888888888, \"#fdca26\"], [1.0, \"#f0f921\"]], \"type\": \"histogram2d\"}], \"histogram2dcontour\": [{\"colorbar\": {\"outlinewidth\": 0, \"ticks\": \"\"}, \"colorscale\": [[0.0, \"#0d0887\"], [0.1111111111111111, \"#46039f\"], [0.2222222222222222, \"#7201a8\"], [0.3333333333333333, \"#9c179e\"], [0.4444444444444444, \"#bd3786\"], [0.5555555555555556, \"#d8576b\"], [0.6666666666666666, \"#ed7953\"], [0.7777777777777778, \"#fb9f3a\"], [0.8888888888888888, \"#fdca26\"], [1.0, \"#f0f921\"]], \"type\": \"histogram2dcontour\"}], \"mesh3d\": [{\"colorbar\": {\"outlinewidth\": 0, \"ticks\": \"\"}, \"type\": \"mesh3d\"}], \"parcoords\": [{\"line\": {\"colorbar\": {\"outlinewidth\": 0, \"ticks\": \"\"}}, \"type\": \"parcoords\"}], \"pie\": [{\"automargin\": true, \"type\": \"pie\"}], \"scatter\": [{\"marker\": {\"colorbar\": {\"outlinewidth\": 0, \"ticks\": \"\"}}, \"type\": \"scatter\"}], \"scatter3d\": [{\"line\": {\"colorbar\": {\"outlinewidth\": 0, \"ticks\": \"\"}}, \"marker\": {\"colorbar\": {\"outlinewidth\": 0, \"ticks\": \"\"}}, \"type\": \"scatter3d\"}], \"scattercarpet\": [{\"marker\": {\"colorbar\": {\"outlinewidth\": 0, \"ticks\": \"\"}}, \"type\": \"scattercarpet\"}], \"scattergeo\": [{\"marker\": {\"colorbar\": {\"outlinewidth\": 0, \"ticks\": \"\"}}, \"type\": \"scattergeo\"}], \"scattergl\": [{\"marker\": {\"colorbar\": {\"outlinewidth\": 0, \"ticks\": \"\"}}, \"type\": \"scattergl\"}], \"scattermapbox\": [{\"marker\": {\"colorbar\": {\"outlinewidth\": 0, \"ticks\": \"\"}}, \"type\": \"scattermapbox\"}], \"scatterpolar\": [{\"marker\": {\"colorbar\": {\"outlinewidth\": 0, \"ticks\": \"\"}}, \"type\": \"scatterpolar\"}], \"scatterpolargl\": [{\"marker\": {\"colorbar\": {\"outlinewidth\": 0, \"ticks\": \"\"}}, \"type\": \"scatterpolargl\"}], \"scatterternary\": [{\"marker\": {\"colorbar\": {\"outlinewidth\": 0, \"ticks\": \"\"}}, \"type\": \"scatterternary\"}], \"surface\": [{\"colorbar\": {\"outlinewidth\": 0, \"ticks\": \"\"}, \"colorscale\": [[0.0, \"#0d0887\"], [0.1111111111111111, \"#46039f\"], [0.2222222222222222, \"#7201a8\"], [0.3333333333333333, \"#9c179e\"], [0.4444444444444444, \"#bd3786\"], [0.5555555555555556, \"#d8576b\"], [0.6666666666666666, \"#ed7953\"], [0.7777777777777778, \"#fb9f3a\"], [0.8888888888888888, \"#fdca26\"], [1.0, \"#f0f921\"]], \"type\": \"surface\"}], \"table\": [{\"cells\": {\"fill\": {\"color\": \"#EBF0F8\"}, \"line\": {\"color\": \"white\"}}, \"header\": {\"fill\": {\"color\": \"#C8D4E3\"}, \"line\": {\"color\": \"white\"}}, \"type\": \"table\"}]}, \"layout\": {\"annotationdefaults\": {\"arrowcolor\": \"#2a3f5f\", \"arrowhead\": 0, \"arrowwidth\": 1}, \"coloraxis\": {\"colorbar\": {\"outlinewidth\": 0, \"ticks\": \"\"}}, \"colorscale\": {\"diverging\": [[0, \"#8e0152\"], [0.1, \"#c51b7d\"], [0.2, \"#de77ae\"], [0.3, \"#f1b6da\"], [0.4, \"#fde0ef\"], [0.5, \"#f7f7f7\"], [0.6, \"#e6f5d0\"], [0.7, \"#b8e186\"], [0.8, \"#7fbc41\"], [0.9, \"#4d9221\"], [1, \"#276419\"]], \"sequential\": [[0.0, \"#0d0887\"], [0.1111111111111111, \"#46039f\"], [0.2222222222222222, \"#7201a8\"], [0.3333333333333333, \"#9c179e\"], [0.4444444444444444, \"#bd3786\"], [0.5555555555555556, \"#d8576b\"], [0.6666666666666666, \"#ed7953\"], [0.7777777777777778, \"#fb9f3a\"], [0.8888888888888888, \"#fdca26\"], [1.0, \"#f0f921\"]], \"sequentialminus\": [[0.0, \"#0d0887\"], [0.1111111111111111, \"#46039f\"], [0.2222222222222222, \"#7201a8\"], [0.3333333333333333, \"#9c179e\"], [0.4444444444444444, \"#bd3786\"], [0.5555555555555556, \"#d8576b\"], [0.6666666666666666, \"#ed7953\"], [0.7777777777777778, \"#fb9f3a\"], [0.8888888888888888, \"#fdca26\"], [1.0, \"#f0f921\"]]}, \"colorway\": [\"#636efa\", \"#EF553B\", \"#00cc96\", \"#ab63fa\", \"#FFA15A\", \"#19d3f3\", \"#FF6692\", \"#B6E880\", \"#FF97FF\", \"#FECB52\"], \"font\": {\"color\": \"#2a3f5f\"}, \"geo\": {\"bgcolor\": \"white\", \"lakecolor\": \"white\", \"landcolor\": \"#E5ECF6\", \"showlakes\": true, \"showland\": true, \"subunitcolor\": \"white\"}, \"hoverlabel\": {\"align\": \"left\"}, \"hovermode\": \"closest\", \"mapbox\": {\"style\": \"light\"}, \"paper_bgcolor\": \"white\", \"plot_bgcolor\": \"#E5ECF6\", \"polar\": {\"angularaxis\": {\"gridcolor\": \"white\", \"linecolor\": \"white\", \"ticks\": \"\"}, \"bgcolor\": \"#E5ECF6\", \"radialaxis\": {\"gridcolor\": \"white\", \"linecolor\": \"white\", \"ticks\": \"\"}}, \"scene\": {\"xaxis\": {\"backgroundcolor\": \"#E5ECF6\", \"gridcolor\": \"white\", \"gridwidth\": 2, \"linecolor\": \"white\", \"showbackground\": true, \"ticks\": \"\", \"zerolinecolor\": \"white\"}, \"yaxis\": {\"backgroundcolor\": \"#E5ECF6\", \"gridcolor\": \"white\", \"gridwidth\": 2, \"linecolor\": \"white\", \"showbackground\": true, \"ticks\": \"\", \"zerolinecolor\": \"white\"}, \"zaxis\": {\"backgroundcolor\": \"#E5ECF6\", \"gridcolor\": \"white\", \"gridwidth\": 2, \"linecolor\": \"white\", \"showbackground\": true, \"ticks\": \"\", \"zerolinecolor\": \"white\"}}, \"shapedefaults\": {\"line\": {\"color\": \"#2a3f5f\"}}, \"ternary\": {\"aaxis\": {\"gridcolor\": \"white\", \"linecolor\": \"white\", \"ticks\": \"\"}, \"baxis\": {\"gridcolor\": \"white\", \"linecolor\": \"white\", \"ticks\": \"\"}, \"bgcolor\": \"#E5ECF6\", \"caxis\": {\"gridcolor\": \"white\", \"linecolor\": \"white\", \"ticks\": \"\"}}, \"title\": {\"x\": 0.05}, \"xaxis\": {\"automargin\": true, \"gridcolor\": \"white\", \"linecolor\": \"white\", \"ticks\": \"\", \"title\": {\"standoff\": 15}, \"zerolinecolor\": \"white\", \"zerolinewidth\": 2}, \"yaxis\": {\"automargin\": true, \"gridcolor\": \"white\", \"linecolor\": \"white\", \"ticks\": \"\", \"title\": {\"standoff\": 15}, \"zerolinecolor\": \"white\", \"zerolinewidth\": 2}}}, \"title\": {\"text\": \"\\u0412\\u0441\\u0435 \\u0444\\u0438\\u043b\\u044c\\u043c\\u044b \\u043f\\u043e \\u0433\\u043e\\u0434\\u0430\\u043c\"}},\n",
       "                        {\"responsive\": true}\n",
       "                    ).then(function(){\n",
       "                            \n",
       "var gd = document.getElementById('8592c1a3-5c48-4c5a-bc4f-4b863cb72d12');\n",
       "var x = new MutationObserver(function (mutations, observer) {{\n",
       "        var display = window.getComputedStyle(gd).display;\n",
       "        if (!display || display === 'none') {{\n",
       "            console.log([gd, 'removed!']);\n",
       "            Plotly.purge(gd);\n",
       "            observer.disconnect();\n",
       "        }}\n",
       "}});\n",
       "\n",
       "// Listen for the removal of the full notebook cells\n",
       "var notebookContainer = gd.closest('#notebook-container');\n",
       "if (notebookContainer) {{\n",
       "    x.observe(notebookContainer, {childList: true});\n",
       "}}\n",
       "\n",
       "// Listen for the clearing of the current output cell\n",
       "var outputEl = gd.closest('.output');\n",
       "if (outputEl) {{\n",
       "    x.observe(outputEl, {childList: true});\n",
       "}}\n",
       "\n",
       "                        })\n",
       "                };\n",
       "                });\n",
       "            </script>\n",
       "        </div>"
      ]
     },
     "metadata": {},
     "output_type": "display_data"
    }
   ],
   "source": [
    "trace = go.Bar(x = count_year.year, y = count_year.movieId)\n",
    "\n",
    "layout = go.Layout(title='Все фильмы по годам')\n",
    "\n",
    "fig = go.Figure(data = [trace], layout = layout)\n",
    "iplot(fig)"
   ]
  },
  {
   "cell_type": "code",
   "execution_count": 131,
   "metadata": {},
   "outputs": [
    {
     "data": {
      "application/vnd.plotly.v1+json": {
       "config": {
        "linkText": "Export to plot.ly",
        "plotlyServerURL": "https://plot.ly",
        "showLink": false
       },
       "data": [
        {
         "type": "bar",
         "x": [
          "1916",
          "1920",
          "1922",
          "1924",
          "1926",
          "1927",
          "1928",
          "1931",
          "1932",
          "1933",
          "1936",
          "1937",
          "1938",
          "1939",
          "1941",
          "1942",
          "1943",
          "1946",
          "1948",
          "1949",
          "1950",
          "1951",
          "1952",
          "1953",
          "1954",
          "1956",
          "1957",
          "1958",
          "1959",
          "1960",
          "1961",
          "1962",
          "1963",
          "1964",
          "1965",
          "1966",
          "1967",
          "1968",
          "1969",
          "1970",
          "1972",
          "1973",
          "1974",
          "1975",
          "1976",
          "1977",
          "1978",
          "1979",
          "1980",
          "1981",
          "1982",
          "1983",
          "1984",
          "1985",
          "1986",
          "1987",
          "1988",
          "1989",
          "1990",
          "1991",
          "1992",
          "1993",
          "1994",
          "1995",
          "1996",
          "1997",
          "1998",
          "1999",
          "2000",
          "2001",
          "2002",
          "2003",
          "2004",
          "2005",
          "2006",
          "2007",
          "2008",
          "2009",
          "2010",
          "2011",
          "2012",
          "2013",
          "2014",
          "2015",
          "2016",
          "2017"
         ],
         "y": [
          1,
          1,
          1,
          1,
          2,
          1,
          1,
          2,
          2,
          3,
          3,
          1,
          1,
          3,
          3,
          1,
          3,
          1,
          3,
          1,
          4,
          2,
          2,
          4,
          2,
          2,
          4,
          2,
          2,
          2,
          4,
          3,
          2,
          4,
          1,
          4,
          1,
          9,
          3,
          3,
          2,
          3,
          3,
          3,
          3,
          7,
          1,
          6,
          3,
          1,
          9,
          9,
          4,
          8,
          10,
          11,
          11,
          13,
          12,
          6,
          13,
          10,
          12,
          21,
          13,
          23,
          25,
          26,
          31,
          33,
          32,
          34,
          44,
          48,
          43,
          45,
          58,
          50,
          55,
          56,
          48,
          40,
          49,
          53,
          46,
          36
         ]
        }
       ],
       "layout": {
        "template": {
         "data": {
          "bar": [
           {
            "error_x": {
             "color": "#2a3f5f"
            },
            "error_y": {
             "color": "#2a3f5f"
            },
            "marker": {
             "line": {
              "color": "#E5ECF6",
              "width": 0.5
             }
            },
            "type": "bar"
           }
          ],
          "barpolar": [
           {
            "marker": {
             "line": {
              "color": "#E5ECF6",
              "width": 0.5
             }
            },
            "type": "barpolar"
           }
          ],
          "carpet": [
           {
            "aaxis": {
             "endlinecolor": "#2a3f5f",
             "gridcolor": "white",
             "linecolor": "white",
             "minorgridcolor": "white",
             "startlinecolor": "#2a3f5f"
            },
            "baxis": {
             "endlinecolor": "#2a3f5f",
             "gridcolor": "white",
             "linecolor": "white",
             "minorgridcolor": "white",
             "startlinecolor": "#2a3f5f"
            },
            "type": "carpet"
           }
          ],
          "choropleth": [
           {
            "colorbar": {
             "outlinewidth": 0,
             "ticks": ""
            },
            "type": "choropleth"
           }
          ],
          "contour": [
           {
            "colorbar": {
             "outlinewidth": 0,
             "ticks": ""
            },
            "colorscale": [
             [
              0,
              "#0d0887"
             ],
             [
              0.1111111111111111,
              "#46039f"
             ],
             [
              0.2222222222222222,
              "#7201a8"
             ],
             [
              0.3333333333333333,
              "#9c179e"
             ],
             [
              0.4444444444444444,
              "#bd3786"
             ],
             [
              0.5555555555555556,
              "#d8576b"
             ],
             [
              0.6666666666666666,
              "#ed7953"
             ],
             [
              0.7777777777777778,
              "#fb9f3a"
             ],
             [
              0.8888888888888888,
              "#fdca26"
             ],
             [
              1,
              "#f0f921"
             ]
            ],
            "type": "contour"
           }
          ],
          "contourcarpet": [
           {
            "colorbar": {
             "outlinewidth": 0,
             "ticks": ""
            },
            "type": "contourcarpet"
           }
          ],
          "heatmap": [
           {
            "colorbar": {
             "outlinewidth": 0,
             "ticks": ""
            },
            "colorscale": [
             [
              0,
              "#0d0887"
             ],
             [
              0.1111111111111111,
              "#46039f"
             ],
             [
              0.2222222222222222,
              "#7201a8"
             ],
             [
              0.3333333333333333,
              "#9c179e"
             ],
             [
              0.4444444444444444,
              "#bd3786"
             ],
             [
              0.5555555555555556,
              "#d8576b"
             ],
             [
              0.6666666666666666,
              "#ed7953"
             ],
             [
              0.7777777777777778,
              "#fb9f3a"
             ],
             [
              0.8888888888888888,
              "#fdca26"
             ],
             [
              1,
              "#f0f921"
             ]
            ],
            "type": "heatmap"
           }
          ],
          "heatmapgl": [
           {
            "colorbar": {
             "outlinewidth": 0,
             "ticks": ""
            },
            "colorscale": [
             [
              0,
              "#0d0887"
             ],
             [
              0.1111111111111111,
              "#46039f"
             ],
             [
              0.2222222222222222,
              "#7201a8"
             ],
             [
              0.3333333333333333,
              "#9c179e"
             ],
             [
              0.4444444444444444,
              "#bd3786"
             ],
             [
              0.5555555555555556,
              "#d8576b"
             ],
             [
              0.6666666666666666,
              "#ed7953"
             ],
             [
              0.7777777777777778,
              "#fb9f3a"
             ],
             [
              0.8888888888888888,
              "#fdca26"
             ],
             [
              1,
              "#f0f921"
             ]
            ],
            "type": "heatmapgl"
           }
          ],
          "histogram": [
           {
            "marker": {
             "colorbar": {
              "outlinewidth": 0,
              "ticks": ""
             }
            },
            "type": "histogram"
           }
          ],
          "histogram2d": [
           {
            "colorbar": {
             "outlinewidth": 0,
             "ticks": ""
            },
            "colorscale": [
             [
              0,
              "#0d0887"
             ],
             [
              0.1111111111111111,
              "#46039f"
             ],
             [
              0.2222222222222222,
              "#7201a8"
             ],
             [
              0.3333333333333333,
              "#9c179e"
             ],
             [
              0.4444444444444444,
              "#bd3786"
             ],
             [
              0.5555555555555556,
              "#d8576b"
             ],
             [
              0.6666666666666666,
              "#ed7953"
             ],
             [
              0.7777777777777778,
              "#fb9f3a"
             ],
             [
              0.8888888888888888,
              "#fdca26"
             ],
             [
              1,
              "#f0f921"
             ]
            ],
            "type": "histogram2d"
           }
          ],
          "histogram2dcontour": [
           {
            "colorbar": {
             "outlinewidth": 0,
             "ticks": ""
            },
            "colorscale": [
             [
              0,
              "#0d0887"
             ],
             [
              0.1111111111111111,
              "#46039f"
             ],
             [
              0.2222222222222222,
              "#7201a8"
             ],
             [
              0.3333333333333333,
              "#9c179e"
             ],
             [
              0.4444444444444444,
              "#bd3786"
             ],
             [
              0.5555555555555556,
              "#d8576b"
             ],
             [
              0.6666666666666666,
              "#ed7953"
             ],
             [
              0.7777777777777778,
              "#fb9f3a"
             ],
             [
              0.8888888888888888,
              "#fdca26"
             ],
             [
              1,
              "#f0f921"
             ]
            ],
            "type": "histogram2dcontour"
           }
          ],
          "mesh3d": [
           {
            "colorbar": {
             "outlinewidth": 0,
             "ticks": ""
            },
            "type": "mesh3d"
           }
          ],
          "parcoords": [
           {
            "line": {
             "colorbar": {
              "outlinewidth": 0,
              "ticks": ""
             }
            },
            "type": "parcoords"
           }
          ],
          "pie": [
           {
            "automargin": true,
            "type": "pie"
           }
          ],
          "scatter": [
           {
            "marker": {
             "colorbar": {
              "outlinewidth": 0,
              "ticks": ""
             }
            },
            "type": "scatter"
           }
          ],
          "scatter3d": [
           {
            "line": {
             "colorbar": {
              "outlinewidth": 0,
              "ticks": ""
             }
            },
            "marker": {
             "colorbar": {
              "outlinewidth": 0,
              "ticks": ""
             }
            },
            "type": "scatter3d"
           }
          ],
          "scattercarpet": [
           {
            "marker": {
             "colorbar": {
              "outlinewidth": 0,
              "ticks": ""
             }
            },
            "type": "scattercarpet"
           }
          ],
          "scattergeo": [
           {
            "marker": {
             "colorbar": {
              "outlinewidth": 0,
              "ticks": ""
             }
            },
            "type": "scattergeo"
           }
          ],
          "scattergl": [
           {
            "marker": {
             "colorbar": {
              "outlinewidth": 0,
              "ticks": ""
             }
            },
            "type": "scattergl"
           }
          ],
          "scattermapbox": [
           {
            "marker": {
             "colorbar": {
              "outlinewidth": 0,
              "ticks": ""
             }
            },
            "type": "scattermapbox"
           }
          ],
          "scatterpolar": [
           {
            "marker": {
             "colorbar": {
              "outlinewidth": 0,
              "ticks": ""
             }
            },
            "type": "scatterpolar"
           }
          ],
          "scatterpolargl": [
           {
            "marker": {
             "colorbar": {
              "outlinewidth": 0,
              "ticks": ""
             }
            },
            "type": "scatterpolargl"
           }
          ],
          "scatterternary": [
           {
            "marker": {
             "colorbar": {
              "outlinewidth": 0,
              "ticks": ""
             }
            },
            "type": "scatterternary"
           }
          ],
          "surface": [
           {
            "colorbar": {
             "outlinewidth": 0,
             "ticks": ""
            },
            "colorscale": [
             [
              0,
              "#0d0887"
             ],
             [
              0.1111111111111111,
              "#46039f"
             ],
             [
              0.2222222222222222,
              "#7201a8"
             ],
             [
              0.3333333333333333,
              "#9c179e"
             ],
             [
              0.4444444444444444,
              "#bd3786"
             ],
             [
              0.5555555555555556,
              "#d8576b"
             ],
             [
              0.6666666666666666,
              "#ed7953"
             ],
             [
              0.7777777777777778,
              "#fb9f3a"
             ],
             [
              0.8888888888888888,
              "#fdca26"
             ],
             [
              1,
              "#f0f921"
             ]
            ],
            "type": "surface"
           }
          ],
          "table": [
           {
            "cells": {
             "fill": {
              "color": "#EBF0F8"
             },
             "line": {
              "color": "white"
             }
            },
            "header": {
             "fill": {
              "color": "#C8D4E3"
             },
             "line": {
              "color": "white"
             }
            },
            "type": "table"
           }
          ]
         },
         "layout": {
          "annotationdefaults": {
           "arrowcolor": "#2a3f5f",
           "arrowhead": 0,
           "arrowwidth": 1
          },
          "coloraxis": {
           "colorbar": {
            "outlinewidth": 0,
            "ticks": ""
           }
          },
          "colorscale": {
           "diverging": [
            [
             0,
             "#8e0152"
            ],
            [
             0.1,
             "#c51b7d"
            ],
            [
             0.2,
             "#de77ae"
            ],
            [
             0.3,
             "#f1b6da"
            ],
            [
             0.4,
             "#fde0ef"
            ],
            [
             0.5,
             "#f7f7f7"
            ],
            [
             0.6,
             "#e6f5d0"
            ],
            [
             0.7,
             "#b8e186"
            ],
            [
             0.8,
             "#7fbc41"
            ],
            [
             0.9,
             "#4d9221"
            ],
            [
             1,
             "#276419"
            ]
           ],
           "sequential": [
            [
             0,
             "#0d0887"
            ],
            [
             0.1111111111111111,
             "#46039f"
            ],
            [
             0.2222222222222222,
             "#7201a8"
            ],
            [
             0.3333333333333333,
             "#9c179e"
            ],
            [
             0.4444444444444444,
             "#bd3786"
            ],
            [
             0.5555555555555556,
             "#d8576b"
            ],
            [
             0.6666666666666666,
             "#ed7953"
            ],
            [
             0.7777777777777778,
             "#fb9f3a"
            ],
            [
             0.8888888888888888,
             "#fdca26"
            ],
            [
             1,
             "#f0f921"
            ]
           ],
           "sequentialminus": [
            [
             0,
             "#0d0887"
            ],
            [
             0.1111111111111111,
             "#46039f"
            ],
            [
             0.2222222222222222,
             "#7201a8"
            ],
            [
             0.3333333333333333,
             "#9c179e"
            ],
            [
             0.4444444444444444,
             "#bd3786"
            ],
            [
             0.5555555555555556,
             "#d8576b"
            ],
            [
             0.6666666666666666,
             "#ed7953"
            ],
            [
             0.7777777777777778,
             "#fb9f3a"
            ],
            [
             0.8888888888888888,
             "#fdca26"
            ],
            [
             1,
             "#f0f921"
            ]
           ]
          },
          "colorway": [
           "#636efa",
           "#EF553B",
           "#00cc96",
           "#ab63fa",
           "#FFA15A",
           "#19d3f3",
           "#FF6692",
           "#B6E880",
           "#FF97FF",
           "#FECB52"
          ],
          "font": {
           "color": "#2a3f5f"
          },
          "geo": {
           "bgcolor": "white",
           "lakecolor": "white",
           "landcolor": "#E5ECF6",
           "showlakes": true,
           "showland": true,
           "subunitcolor": "white"
          },
          "hoverlabel": {
           "align": "left"
          },
          "hovermode": "closest",
          "mapbox": {
           "style": "light"
          },
          "paper_bgcolor": "white",
          "plot_bgcolor": "#E5ECF6",
          "polar": {
           "angularaxis": {
            "gridcolor": "white",
            "linecolor": "white",
            "ticks": ""
           },
           "bgcolor": "#E5ECF6",
           "radialaxis": {
            "gridcolor": "white",
            "linecolor": "white",
            "ticks": ""
           }
          },
          "scene": {
           "xaxis": {
            "backgroundcolor": "#E5ECF6",
            "gridcolor": "white",
            "gridwidth": 2,
            "linecolor": "white",
            "showbackground": true,
            "ticks": "",
            "zerolinecolor": "white"
           },
           "yaxis": {
            "backgroundcolor": "#E5ECF6",
            "gridcolor": "white",
            "gridwidth": 2,
            "linecolor": "white",
            "showbackground": true,
            "ticks": "",
            "zerolinecolor": "white"
           },
           "zaxis": {
            "backgroundcolor": "#E5ECF6",
            "gridcolor": "white",
            "gridwidth": 2,
            "linecolor": "white",
            "showbackground": true,
            "ticks": "",
            "zerolinecolor": "white"
           }
          },
          "shapedefaults": {
           "line": {
            "color": "#2a3f5f"
           }
          },
          "ternary": {
           "aaxis": {
            "gridcolor": "white",
            "linecolor": "white",
            "ticks": ""
           },
           "baxis": {
            "gridcolor": "white",
            "linecolor": "white",
            "ticks": ""
           },
           "bgcolor": "#E5ECF6",
           "caxis": {
            "gridcolor": "white",
            "linecolor": "white",
            "ticks": ""
           }
          },
          "title": {
           "x": 0.05
          },
          "xaxis": {
           "automargin": true,
           "gridcolor": "white",
           "linecolor": "white",
           "ticks": "",
           "title": {
            "standoff": 15
           },
           "zerolinecolor": "white",
           "zerolinewidth": 2
          },
          "yaxis": {
           "automargin": true,
           "gridcolor": "white",
           "linecolor": "white",
           "ticks": "",
           "title": {
            "standoff": 15
           },
           "zerolinecolor": "white",
           "zerolinewidth": 2
          }
         }
        },
        "title": {
         "text": "Мои фильмы по годам"
        }
       }
      },
      "text/html": [
       "<div>\n",
       "        \n",
       "        \n",
       "            <div id=\"eb8c6813-29bb-45a0-95a0-889a7a133933\" class=\"plotly-graph-div\" style=\"height:525px; width:100%;\"></div>\n",
       "            <script type=\"text/javascript\">\n",
       "                require([\"plotly\"], function(Plotly) {\n",
       "                    window.PLOTLYENV=window.PLOTLYENV || {};\n",
       "                    \n",
       "                if (document.getElementById(\"eb8c6813-29bb-45a0-95a0-889a7a133933\")) {\n",
       "                    Plotly.newPlot(\n",
       "                        'eb8c6813-29bb-45a0-95a0-889a7a133933',\n",
       "                        [{\"type\": \"bar\", \"x\": [\"1916\", \"1920\", \"1922\", \"1924\", \"1926\", \"1927\", \"1928\", \"1931\", \"1932\", \"1933\", \"1936\", \"1937\", \"1938\", \"1939\", \"1941\", \"1942\", \"1943\", \"1946\", \"1948\", \"1949\", \"1950\", \"1951\", \"1952\", \"1953\", \"1954\", \"1956\", \"1957\", \"1958\", \"1959\", \"1960\", \"1961\", \"1962\", \"1963\", \"1964\", \"1965\", \"1966\", \"1967\", \"1968\", \"1969\", \"1970\", \"1972\", \"1973\", \"1974\", \"1975\", \"1976\", \"1977\", \"1978\", \"1979\", \"1980\", \"1981\", \"1982\", \"1983\", \"1984\", \"1985\", \"1986\", \"1987\", \"1988\", \"1989\", \"1990\", \"1991\", \"1992\", \"1993\", \"1994\", \"1995\", \"1996\", \"1997\", \"1998\", \"1999\", \"2000\", \"2001\", \"2002\", \"2003\", \"2004\", \"2005\", \"2006\", \"2007\", \"2008\", \"2009\", \"2010\", \"2011\", \"2012\", \"2013\", \"2014\", \"2015\", \"2016\", \"2017\"], \"y\": [1, 1, 1, 1, 2, 1, 1, 2, 2, 3, 3, 1, 1, 3, 3, 1, 3, 1, 3, 1, 4, 2, 2, 4, 2, 2, 4, 2, 2, 2, 4, 3, 2, 4, 1, 4, 1, 9, 3, 3, 2, 3, 3, 3, 3, 7, 1, 6, 3, 1, 9, 9, 4, 8, 10, 11, 11, 13, 12, 6, 13, 10, 12, 21, 13, 23, 25, 26, 31, 33, 32, 34, 44, 48, 43, 45, 58, 50, 55, 56, 48, 40, 49, 53, 46, 36]}],\n",
       "                        {\"template\": {\"data\": {\"bar\": [{\"error_x\": {\"color\": \"#2a3f5f\"}, \"error_y\": {\"color\": \"#2a3f5f\"}, \"marker\": {\"line\": {\"color\": \"#E5ECF6\", \"width\": 0.5}}, \"type\": \"bar\"}], \"barpolar\": [{\"marker\": {\"line\": {\"color\": \"#E5ECF6\", \"width\": 0.5}}, \"type\": \"barpolar\"}], \"carpet\": [{\"aaxis\": {\"endlinecolor\": \"#2a3f5f\", \"gridcolor\": \"white\", \"linecolor\": \"white\", \"minorgridcolor\": \"white\", \"startlinecolor\": \"#2a3f5f\"}, \"baxis\": {\"endlinecolor\": \"#2a3f5f\", \"gridcolor\": \"white\", \"linecolor\": \"white\", \"minorgridcolor\": \"white\", \"startlinecolor\": \"#2a3f5f\"}, \"type\": \"carpet\"}], \"choropleth\": [{\"colorbar\": {\"outlinewidth\": 0, \"ticks\": \"\"}, \"type\": \"choropleth\"}], \"contour\": [{\"colorbar\": {\"outlinewidth\": 0, \"ticks\": \"\"}, \"colorscale\": [[0.0, \"#0d0887\"], [0.1111111111111111, \"#46039f\"], [0.2222222222222222, \"#7201a8\"], [0.3333333333333333, \"#9c179e\"], [0.4444444444444444, \"#bd3786\"], [0.5555555555555556, \"#d8576b\"], [0.6666666666666666, \"#ed7953\"], [0.7777777777777778, \"#fb9f3a\"], [0.8888888888888888, \"#fdca26\"], [1.0, \"#f0f921\"]], \"type\": \"contour\"}], \"contourcarpet\": [{\"colorbar\": {\"outlinewidth\": 0, \"ticks\": \"\"}, \"type\": \"contourcarpet\"}], \"heatmap\": [{\"colorbar\": {\"outlinewidth\": 0, \"ticks\": \"\"}, \"colorscale\": [[0.0, \"#0d0887\"], [0.1111111111111111, \"#46039f\"], [0.2222222222222222, \"#7201a8\"], [0.3333333333333333, \"#9c179e\"], [0.4444444444444444, \"#bd3786\"], [0.5555555555555556, \"#d8576b\"], [0.6666666666666666, \"#ed7953\"], [0.7777777777777778, \"#fb9f3a\"], [0.8888888888888888, \"#fdca26\"], [1.0, \"#f0f921\"]], \"type\": \"heatmap\"}], \"heatmapgl\": [{\"colorbar\": {\"outlinewidth\": 0, \"ticks\": \"\"}, \"colorscale\": [[0.0, \"#0d0887\"], [0.1111111111111111, \"#46039f\"], [0.2222222222222222, \"#7201a8\"], [0.3333333333333333, \"#9c179e\"], [0.4444444444444444, \"#bd3786\"], [0.5555555555555556, \"#d8576b\"], [0.6666666666666666, \"#ed7953\"], [0.7777777777777778, \"#fb9f3a\"], [0.8888888888888888, \"#fdca26\"], [1.0, \"#f0f921\"]], \"type\": \"heatmapgl\"}], \"histogram\": [{\"marker\": {\"colorbar\": {\"outlinewidth\": 0, \"ticks\": \"\"}}, \"type\": \"histogram\"}], \"histogram2d\": [{\"colorbar\": {\"outlinewidth\": 0, \"ticks\": \"\"}, \"colorscale\": [[0.0, \"#0d0887\"], [0.1111111111111111, \"#46039f\"], [0.2222222222222222, \"#7201a8\"], [0.3333333333333333, \"#9c179e\"], [0.4444444444444444, \"#bd3786\"], [0.5555555555555556, \"#d8576b\"], [0.6666666666666666, \"#ed7953\"], [0.7777777777777778, \"#fb9f3a\"], [0.8888888888888888, \"#fdca26\"], [1.0, \"#f0f921\"]], \"type\": \"histogram2d\"}], \"histogram2dcontour\": [{\"colorbar\": {\"outlinewidth\": 0, \"ticks\": \"\"}, \"colorscale\": [[0.0, \"#0d0887\"], [0.1111111111111111, \"#46039f\"], [0.2222222222222222, \"#7201a8\"], [0.3333333333333333, \"#9c179e\"], [0.4444444444444444, \"#bd3786\"], [0.5555555555555556, \"#d8576b\"], [0.6666666666666666, \"#ed7953\"], [0.7777777777777778, \"#fb9f3a\"], [0.8888888888888888, \"#fdca26\"], [1.0, \"#f0f921\"]], \"type\": \"histogram2dcontour\"}], \"mesh3d\": [{\"colorbar\": {\"outlinewidth\": 0, \"ticks\": \"\"}, \"type\": \"mesh3d\"}], \"parcoords\": [{\"line\": {\"colorbar\": {\"outlinewidth\": 0, \"ticks\": \"\"}}, \"type\": \"parcoords\"}], \"pie\": [{\"automargin\": true, \"type\": \"pie\"}], \"scatter\": [{\"marker\": {\"colorbar\": {\"outlinewidth\": 0, \"ticks\": \"\"}}, \"type\": \"scatter\"}], \"scatter3d\": [{\"line\": {\"colorbar\": {\"outlinewidth\": 0, \"ticks\": \"\"}}, \"marker\": {\"colorbar\": {\"outlinewidth\": 0, \"ticks\": \"\"}}, \"type\": \"scatter3d\"}], \"scattercarpet\": [{\"marker\": {\"colorbar\": {\"outlinewidth\": 0, \"ticks\": \"\"}}, \"type\": \"scattercarpet\"}], \"scattergeo\": [{\"marker\": {\"colorbar\": {\"outlinewidth\": 0, \"ticks\": \"\"}}, \"type\": \"scattergeo\"}], \"scattergl\": [{\"marker\": {\"colorbar\": {\"outlinewidth\": 0, \"ticks\": \"\"}}, \"type\": \"scattergl\"}], \"scattermapbox\": [{\"marker\": {\"colorbar\": {\"outlinewidth\": 0, \"ticks\": \"\"}}, \"type\": \"scattermapbox\"}], \"scatterpolar\": [{\"marker\": {\"colorbar\": {\"outlinewidth\": 0, \"ticks\": \"\"}}, \"type\": \"scatterpolar\"}], \"scatterpolargl\": [{\"marker\": {\"colorbar\": {\"outlinewidth\": 0, \"ticks\": \"\"}}, \"type\": \"scatterpolargl\"}], \"scatterternary\": [{\"marker\": {\"colorbar\": {\"outlinewidth\": 0, \"ticks\": \"\"}}, \"type\": \"scatterternary\"}], \"surface\": [{\"colorbar\": {\"outlinewidth\": 0, \"ticks\": \"\"}, \"colorscale\": [[0.0, \"#0d0887\"], [0.1111111111111111, \"#46039f\"], [0.2222222222222222, \"#7201a8\"], [0.3333333333333333, \"#9c179e\"], [0.4444444444444444, \"#bd3786\"], [0.5555555555555556, \"#d8576b\"], [0.6666666666666666, \"#ed7953\"], [0.7777777777777778, \"#fb9f3a\"], [0.8888888888888888, \"#fdca26\"], [1.0, \"#f0f921\"]], \"type\": \"surface\"}], \"table\": [{\"cells\": {\"fill\": {\"color\": \"#EBF0F8\"}, \"line\": {\"color\": \"white\"}}, \"header\": {\"fill\": {\"color\": \"#C8D4E3\"}, \"line\": {\"color\": \"white\"}}, \"type\": \"table\"}]}, \"layout\": {\"annotationdefaults\": {\"arrowcolor\": \"#2a3f5f\", \"arrowhead\": 0, \"arrowwidth\": 1}, \"coloraxis\": {\"colorbar\": {\"outlinewidth\": 0, \"ticks\": \"\"}}, \"colorscale\": {\"diverging\": [[0, \"#8e0152\"], [0.1, \"#c51b7d\"], [0.2, \"#de77ae\"], [0.3, \"#f1b6da\"], [0.4, \"#fde0ef\"], [0.5, \"#f7f7f7\"], [0.6, \"#e6f5d0\"], [0.7, \"#b8e186\"], [0.8, \"#7fbc41\"], [0.9, \"#4d9221\"], [1, \"#276419\"]], \"sequential\": [[0.0, \"#0d0887\"], [0.1111111111111111, \"#46039f\"], [0.2222222222222222, \"#7201a8\"], [0.3333333333333333, \"#9c179e\"], [0.4444444444444444, \"#bd3786\"], [0.5555555555555556, \"#d8576b\"], [0.6666666666666666, \"#ed7953\"], [0.7777777777777778, \"#fb9f3a\"], [0.8888888888888888, \"#fdca26\"], [1.0, \"#f0f921\"]], \"sequentialminus\": [[0.0, \"#0d0887\"], [0.1111111111111111, \"#46039f\"], [0.2222222222222222, \"#7201a8\"], [0.3333333333333333, \"#9c179e\"], [0.4444444444444444, \"#bd3786\"], [0.5555555555555556, \"#d8576b\"], [0.6666666666666666, \"#ed7953\"], [0.7777777777777778, \"#fb9f3a\"], [0.8888888888888888, \"#fdca26\"], [1.0, \"#f0f921\"]]}, \"colorway\": [\"#636efa\", \"#EF553B\", \"#00cc96\", \"#ab63fa\", \"#FFA15A\", \"#19d3f3\", \"#FF6692\", \"#B6E880\", \"#FF97FF\", \"#FECB52\"], \"font\": {\"color\": \"#2a3f5f\"}, \"geo\": {\"bgcolor\": \"white\", \"lakecolor\": \"white\", \"landcolor\": \"#E5ECF6\", \"showlakes\": true, \"showland\": true, \"subunitcolor\": \"white\"}, \"hoverlabel\": {\"align\": \"left\"}, \"hovermode\": \"closest\", \"mapbox\": {\"style\": \"light\"}, \"paper_bgcolor\": \"white\", \"plot_bgcolor\": \"#E5ECF6\", \"polar\": {\"angularaxis\": {\"gridcolor\": \"white\", \"linecolor\": \"white\", \"ticks\": \"\"}, \"bgcolor\": \"#E5ECF6\", \"radialaxis\": {\"gridcolor\": \"white\", \"linecolor\": \"white\", \"ticks\": \"\"}}, \"scene\": {\"xaxis\": {\"backgroundcolor\": \"#E5ECF6\", \"gridcolor\": \"white\", \"gridwidth\": 2, \"linecolor\": \"white\", \"showbackground\": true, \"ticks\": \"\", \"zerolinecolor\": \"white\"}, \"yaxis\": {\"backgroundcolor\": \"#E5ECF6\", \"gridcolor\": \"white\", \"gridwidth\": 2, \"linecolor\": \"white\", \"showbackground\": true, \"ticks\": \"\", \"zerolinecolor\": \"white\"}, \"zaxis\": {\"backgroundcolor\": \"#E5ECF6\", \"gridcolor\": \"white\", \"gridwidth\": 2, \"linecolor\": \"white\", \"showbackground\": true, \"ticks\": \"\", \"zerolinecolor\": \"white\"}}, \"shapedefaults\": {\"line\": {\"color\": \"#2a3f5f\"}}, \"ternary\": {\"aaxis\": {\"gridcolor\": \"white\", \"linecolor\": \"white\", \"ticks\": \"\"}, \"baxis\": {\"gridcolor\": \"white\", \"linecolor\": \"white\", \"ticks\": \"\"}, \"bgcolor\": \"#E5ECF6\", \"caxis\": {\"gridcolor\": \"white\", \"linecolor\": \"white\", \"ticks\": \"\"}}, \"title\": {\"x\": 0.05}, \"xaxis\": {\"automargin\": true, \"gridcolor\": \"white\", \"linecolor\": \"white\", \"ticks\": \"\", \"title\": {\"standoff\": 15}, \"zerolinecolor\": \"white\", \"zerolinewidth\": 2}, \"yaxis\": {\"automargin\": true, \"gridcolor\": \"white\", \"linecolor\": \"white\", \"ticks\": \"\", \"title\": {\"standoff\": 15}, \"zerolinecolor\": \"white\", \"zerolinewidth\": 2}}}, \"title\": {\"text\": \"\\u041c\\u043e\\u0438 \\u0444\\u0438\\u043b\\u044c\\u043c\\u044b \\u043f\\u043e \\u0433\\u043e\\u0434\\u0430\\u043c\"}},\n",
       "                        {\"responsive\": true}\n",
       "                    ).then(function(){\n",
       "                            \n",
       "var gd = document.getElementById('eb8c6813-29bb-45a0-95a0-889a7a133933');\n",
       "var x = new MutationObserver(function (mutations, observer) {{\n",
       "        var display = window.getComputedStyle(gd).display;\n",
       "        if (!display || display === 'none') {{\n",
       "            console.log([gd, 'removed!']);\n",
       "            Plotly.purge(gd);\n",
       "            observer.disconnect();\n",
       "        }}\n",
       "}});\n",
       "\n",
       "// Listen for the removal of the full notebook cells\n",
       "var notebookContainer = gd.closest('#notebook-container');\n",
       "if (notebookContainer) {{\n",
       "    x.observe(notebookContainer, {childList: true});\n",
       "}}\n",
       "\n",
       "// Listen for the clearing of the current output cell\n",
       "var outputEl = gd.closest('.output');\n",
       "if (outputEl) {{\n",
       "    x.observe(outputEl, {childList: true});\n",
       "}}\n",
       "\n",
       "                        })\n",
       "                };\n",
       "                });\n",
       "            </script>\n",
       "        </div>"
      ]
     },
     "metadata": {},
     "output_type": "display_data"
    }
   ],
   "source": [
    "trace = go.Bar(x = count_year_my.year, y = count_year_my.movieId)\n",
    "\n",
    "layout = go.Layout(title='Мои фильмы по годам')\n",
    "\n",
    "fig = go.Figure(data = [trace], layout = layout)\n",
    "iplot(fig)"
   ]
  },
  {
   "cell_type": "markdown",
   "metadata": {},
   "source": [
    "### Выводы\n",
    "##### Вид графиков похож. В целом тренд схож.\n",
    "##### В подборке моих фильмов, очень мало фильмов до 1980 года"
   ]
  }
 ],
 "metadata": {
  "kernelspec": {
   "display_name": "Python 3",
   "language": "python",
   "name": "python3"
  },
  "language_info": {
   "codemirror_mode": {
    "name": "ipython",
    "version": 3
   },
   "file_extension": ".py",
   "mimetype": "text/x-python",
   "name": "python",
   "nbconvert_exporter": "python",
   "pygments_lexer": "ipython3",
   "version": "3.7.3"
  }
 },
 "nbformat": 4,
 "nbformat_minor": 2
}

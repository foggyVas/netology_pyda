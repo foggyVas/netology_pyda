{
 "cells": [
  {
   "cell_type": "code",
   "execution_count": 10,
   "metadata": {},
   "outputs": [],
   "source": [
    "import pandas as pd\n",
    "import random as rdm\n",
    "import matplotlib.pyplot as plt\n",
    "import seaborn as sns\n",
    "\n",
    "from pylab import rcParams\n",
    "rcParams['figure.figsize'] = 12,9"
   ]
  },
  {
   "cell_type": "markdown",
   "metadata": {},
   "source": [
    "### График 1-3\n",
    "\n",
    "По просьбе коллег, были собраны данные(данные не парсил, а скопировал вручную из разных источников, ибо сроки диплома поджимают ;) и проанализированы несколько компаний, для выявления их прибыльности за определенный период. Задача не сложная с точки зрения анализа, т.к данных мало, однако для отработки графиков-примитивов, думаю, подойдет."
   ]
  },
  {
   "cell_type": "code",
   "execution_count": 2,
   "metadata": {},
   "outputs": [],
   "source": [
    "company1 = 'ООО \"ТРАНСНЕФТЬ-ЛОГИСТИКА\"'"
   ]
  },
  {
   "cell_type": "code",
   "execution_count": 25,
   "metadata": {},
   "outputs": [
    {
     "data": {
      "text/html": [
       "<div>\n",
       "<style scoped>\n",
       "    .dataframe tbody tr th:only-of-type {\n",
       "        vertical-align: middle;\n",
       "    }\n",
       "\n",
       "    .dataframe tbody tr th {\n",
       "        vertical-align: top;\n",
       "    }\n",
       "\n",
       "    .dataframe thead th {\n",
       "        text-align: right;\n",
       "    }\n",
       "</style>\n",
       "<table border=\"1\" class=\"dataframe\">\n",
       "  <thead>\n",
       "    <tr style=\"text-align: right;\">\n",
       "      <th></th>\n",
       "      <th>тыс.руб.</th>\n",
       "    </tr>\n",
       "    <tr>\n",
       "      <th>год</th>\n",
       "      <th></th>\n",
       "    </tr>\n",
       "  </thead>\n",
       "  <tbody>\n",
       "    <tr>\n",
       "      <th>2012</th>\n",
       "      <td>327478</td>\n",
       "    </tr>\n",
       "    <tr>\n",
       "      <th>2013</th>\n",
       "      <td>591424</td>\n",
       "    </tr>\n",
       "    <tr>\n",
       "      <th>2014</th>\n",
       "      <td>349193</td>\n",
       "    </tr>\n",
       "    <tr>\n",
       "      <th>2015</th>\n",
       "      <td>53954</td>\n",
       "    </tr>\n",
       "    <tr>\n",
       "      <th>2016</th>\n",
       "      <td>80144</td>\n",
       "    </tr>\n",
       "    <tr>\n",
       "      <th>2017</th>\n",
       "      <td>126189</td>\n",
       "    </tr>\n",
       "    <tr>\n",
       "      <th>2018</th>\n",
       "      <td>255059</td>\n",
       "    </tr>\n",
       "  </tbody>\n",
       "</table>\n",
       "</div>"
      ],
      "text/plain": [
       "      тыс.руб.\n",
       "год           \n",
       "2012    327478\n",
       "2013    591424\n",
       "2014    349193\n",
       "2015     53954\n",
       "2016     80144\n",
       "2017    126189\n",
       "2018    255059"
      ]
     },
     "execution_count": 25,
     "metadata": {},
     "output_type": "execute_result"
    }
   ],
   "source": [
    "trans_log = pd.read_csv('transneft`-logistika.txt', index_col=0)\n",
    "trans_log"
   ]
  },
  {
   "cell_type": "code",
   "execution_count": 6,
   "metadata": {},
   "outputs": [],
   "source": [
    "trans_log.columns = ['тыс.руб.']"
   ]
  },
  {
   "cell_type": "code",
   "execution_count": 8,
   "metadata": {},
   "outputs": [
    {
     "data": {
      "text/plain": [
       "год\n",
       "2012    327.0\n",
       "2013    591.0\n",
       "2014    349.0\n",
       "2015     54.0\n",
       "2016     80.0\n",
       "2017    126.0\n",
       "2018    255.0\n",
       "Name: тыс.руб., dtype: float64"
      ]
     },
     "execution_count": 8,
     "metadata": {},
     "output_type": "execute_result"
    }
   ],
   "source": [
    "trans_logk =  trans_log['тыс.руб.']/1000\n",
    "trans_logk.round(0)"
   ]
  },
  {
   "cell_type": "code",
   "execution_count": 11,
   "metadata": {},
   "outputs": [
    {
     "data": {
      "text/plain": [
       "Text(0, 0.5, 'год')"
      ]
     },
     "execution_count": 11,
     "metadata": {},
     "output_type": "execute_result"
    },
    {
     "data": {
      "image/png": "[encoded data removed]",
      "text/plain": [
       "<Figure size 864x648 with 1 Axes>"
      ]
     },
     "metadata": {
      "needs_background": "light"
     },
     "output_type": "display_data"
    }
   ],
   "source": [
    "plt.barh(trans_log.index, trans_log['тыс.руб.']/1000, color='silver')\n",
    "plt.title(company1)\n",
    "plt.xlabel('млрд.руб.')\n",
    "plt.ylabel('год')"
   ]
  },
  {
   "cell_type": "code",
   "execution_count": 12,
   "metadata": {},
   "outputs": [],
   "source": [
    "company2 = 'ПАО \"ТРАНСНЕФТЬ\"'"
   ]
  },
  {
   "cell_type": "code",
   "execution_count": 13,
   "metadata": {},
   "outputs": [
    {
     "data": {
      "text/html": [
       "<div>\n",
       "<style scoped>\n",
       "    .dataframe tbody tr th:only-of-type {\n",
       "        vertical-align: middle;\n",
       "    }\n",
       "\n",
       "    .dataframe tbody tr th {\n",
       "        vertical-align: top;\n",
       "    }\n",
       "\n",
       "    .dataframe thead th {\n",
       "        text-align: right;\n",
       "    }\n",
       "</style>\n",
       "<table border=\"1\" class=\"dataframe\">\n",
       "  <thead>\n",
       "    <tr style=\"text-align: right;\">\n",
       "      <th></th>\n",
       "      <th>тыс.руб.</th>\n",
       "    </tr>\n",
       "    <tr>\n",
       "      <th>год</th>\n",
       "      <th></th>\n",
       "    </tr>\n",
       "  </thead>\n",
       "  <tbody>\n",
       "    <tr>\n",
       "      <th>2007</th>\n",
       "      <td>4018463</td>\n",
       "    </tr>\n",
       "    <tr>\n",
       "      <th>2008</th>\n",
       "      <td>3681621</td>\n",
       "    </tr>\n",
       "    <tr>\n",
       "      <th>2009</th>\n",
       "      <td>3893243</td>\n",
       "    </tr>\n",
       "    <tr>\n",
       "      <th>2010</th>\n",
       "      <td>4893532</td>\n",
       "    </tr>\n",
       "    <tr>\n",
       "      <th>2011</th>\n",
       "      <td>11141791</td>\n",
       "    </tr>\n",
       "    <tr>\n",
       "      <th>2012</th>\n",
       "      <td>10652444</td>\n",
       "    </tr>\n",
       "    <tr>\n",
       "      <th>2013</th>\n",
       "      <td>11260439</td>\n",
       "    </tr>\n",
       "    <tr>\n",
       "      <th>2014</th>\n",
       "      <td>11783833</td>\n",
       "    </tr>\n",
       "    <tr>\n",
       "      <th>2015</th>\n",
       "      <td>12801410</td>\n",
       "    </tr>\n",
       "    <tr>\n",
       "      <th>2016</th>\n",
       "      <td>30606531</td>\n",
       "    </tr>\n",
       "    <tr>\n",
       "      <th>2017</th>\n",
       "      <td>58843625</td>\n",
       "    </tr>\n",
       "    <tr>\n",
       "      <th>2018</th>\n",
       "      <td>10110912</td>\n",
       "    </tr>\n",
       "  </tbody>\n",
       "</table>\n",
       "</div>"
      ],
      "text/plain": [
       "      тыс.руб.\n",
       "год           \n",
       "2007   4018463\n",
       "2008   3681621\n",
       "2009   3893243\n",
       "2010   4893532\n",
       "2011  11141791\n",
       "2012  10652444\n",
       "2013  11260439\n",
       "2014  11783833\n",
       "2015  12801410\n",
       "2016  30606531\n",
       "2017  58843625\n",
       "2018  10110912"
      ]
     },
     "execution_count": 13,
     "metadata": {},
     "output_type": "execute_result"
    }
   ],
   "source": [
    "transneft = pd.read_csv('transneft`.txt', index_col=0)\n",
    "transneft"
   ]
  },
  {
   "cell_type": "code",
   "execution_count": 14,
   "metadata": {},
   "outputs": [
    {
     "data": {
      "text/plain": [
       "<BarContainer object of 12 artists>"
      ]
     },
     "execution_count": 14,
     "metadata": {},
     "output_type": "execute_result"
    },
    {
     "data": {
      "image/png": "[encoded data removed]",
      "text/plain": [
       "<Figure size 864x648 with 1 Axes>"
      ]
     },
     "metadata": {
      "needs_background": "light"
     },
     "output_type": "display_data"
    }
   ],
   "source": [
    "all_colors = list(plt.cm.colors.cnames.keys())\n",
    "n = len(transneft.index)\n",
    "c = rdm.choices(all_colors, k=n)\n",
    "plt.bar(transneft.index, transneft['тыс.руб.']/1000000, color=c, width=1)"
   ]
  },
  {
   "cell_type": "code",
   "execution_count": 15,
   "metadata": {},
   "outputs": [],
   "source": [
    "company3 = 'ПАО \"НЕФТЯНАЯ КОМПАНИЯ \"РОСНЕФТЬ\"'"
   ]
  },
  {
   "cell_type": "code",
   "execution_count": 16,
   "metadata": {},
   "outputs": [
    {
     "data": {
      "text/html": [
       "<div>\n",
       "<style scoped>\n",
       "    .dataframe tbody tr th:only-of-type {\n",
       "        vertical-align: middle;\n",
       "    }\n",
       "\n",
       "    .dataframe tbody tr th {\n",
       "        vertical-align: top;\n",
       "    }\n",
       "\n",
       "    .dataframe thead th {\n",
       "        text-align: right;\n",
       "    }\n",
       "</style>\n",
       "<table border=\"1\" class=\"dataframe\">\n",
       "  <thead>\n",
       "    <tr style=\"text-align: right;\">\n",
       "      <th></th>\n",
       "      <th>тыс.руб.</th>\n",
       "    </tr>\n",
       "    <tr>\n",
       "      <th>год</th>\n",
       "      <th></th>\n",
       "    </tr>\n",
       "  </thead>\n",
       "  <tbody>\n",
       "    <tr>\n",
       "      <th>2011</th>\n",
       "      <td>236747308</td>\n",
       "    </tr>\n",
       "    <tr>\n",
       "      <th>2012</th>\n",
       "      <td>297983692</td>\n",
       "    </tr>\n",
       "    <tr>\n",
       "      <th>2013</th>\n",
       "      <td>137305207</td>\n",
       "    </tr>\n",
       "    <tr>\n",
       "      <th>2014</th>\n",
       "      <td>501676298</td>\n",
       "    </tr>\n",
       "    <tr>\n",
       "      <th>2015</th>\n",
       "      <td>239413255</td>\n",
       "    </tr>\n",
       "    <tr>\n",
       "      <th>2016</th>\n",
       "      <td>99236214</td>\n",
       "    </tr>\n",
       "    <tr>\n",
       "      <th>2017</th>\n",
       "      <td>138968980</td>\n",
       "    </tr>\n",
       "    <tr>\n",
       "      <th>2018</th>\n",
       "      <td>460784009</td>\n",
       "    </tr>\n",
       "  </tbody>\n",
       "</table>\n",
       "</div>"
      ],
      "text/plain": [
       "       тыс.руб.\n",
       "год            \n",
       "2011  236747308\n",
       "2012  297983692\n",
       "2013  137305207\n",
       "2014  501676298\n",
       "2015  239413255\n",
       "2016   99236214\n",
       "2017  138968980\n",
       "2018  460784009"
      ]
     },
     "execution_count": 16,
     "metadata": {},
     "output_type": "execute_result"
    }
   ],
   "source": [
    "rosneft = pd.read_csv('rosneft`.txt', index_col=0)\n",
    "rosneft"
   ]
  },
  {
   "cell_type": "code",
   "execution_count": 23,
   "metadata": {},
   "outputs": [
    {
     "data": {
      "text/html": [
       "<div>\n",
       "<style scoped>\n",
       "    .dataframe tbody tr th:only-of-type {\n",
       "        vertical-align: middle;\n",
       "    }\n",
       "\n",
       "    .dataframe tbody tr th {\n",
       "        vertical-align: top;\n",
       "    }\n",
       "\n",
       "    .dataframe thead th {\n",
       "        text-align: right;\n",
       "    }\n",
       "</style>\n",
       "<table border=\"1\" class=\"dataframe\">\n",
       "  <thead>\n",
       "    <tr style=\"text-align: right;\">\n",
       "      <th></th>\n",
       "      <th>тыс.руб._x</th>\n",
       "      <th>тыс.руб._y</th>\n",
       "      <th>тыс.руб.</th>\n",
       "    </tr>\n",
       "    <tr>\n",
       "      <th>год</th>\n",
       "      <th></th>\n",
       "      <th></th>\n",
       "      <th></th>\n",
       "    </tr>\n",
       "  </thead>\n",
       "  <tbody>\n",
       "    <tr>\n",
       "      <th>2007</th>\n",
       "      <td>4.018463</td>\n",
       "      <td>NaN</td>\n",
       "      <td>NaN</td>\n",
       "    </tr>\n",
       "    <tr>\n",
       "      <th>2008</th>\n",
       "      <td>3.681621</td>\n",
       "      <td>NaN</td>\n",
       "      <td>NaN</td>\n",
       "    </tr>\n",
       "    <tr>\n",
       "      <th>2009</th>\n",
       "      <td>3.893243</td>\n",
       "      <td>NaN</td>\n",
       "      <td>NaN</td>\n",
       "    </tr>\n",
       "    <tr>\n",
       "      <th>2010</th>\n",
       "      <td>4.893532</td>\n",
       "      <td>NaN</td>\n",
       "      <td>NaN</td>\n",
       "    </tr>\n",
       "    <tr>\n",
       "      <th>2011</th>\n",
       "      <td>11.141791</td>\n",
       "      <td>236.747308</td>\n",
       "      <td>NaN</td>\n",
       "    </tr>\n",
       "    <tr>\n",
       "      <th>2012</th>\n",
       "      <td>10.652444</td>\n",
       "      <td>297.983692</td>\n",
       "      <td>0.327478</td>\n",
       "    </tr>\n",
       "    <tr>\n",
       "      <th>2013</th>\n",
       "      <td>11.260439</td>\n",
       "      <td>137.305207</td>\n",
       "      <td>0.591424</td>\n",
       "    </tr>\n",
       "    <tr>\n",
       "      <th>2014</th>\n",
       "      <td>11.783833</td>\n",
       "      <td>501.676298</td>\n",
       "      <td>0.349193</td>\n",
       "    </tr>\n",
       "    <tr>\n",
       "      <th>2015</th>\n",
       "      <td>12.801410</td>\n",
       "      <td>239.413255</td>\n",
       "      <td>0.053954</td>\n",
       "    </tr>\n",
       "    <tr>\n",
       "      <th>2016</th>\n",
       "      <td>30.606531</td>\n",
       "      <td>99.236214</td>\n",
       "      <td>0.080144</td>\n",
       "    </tr>\n",
       "    <tr>\n",
       "      <th>2017</th>\n",
       "      <td>58.843625</td>\n",
       "      <td>138.968980</td>\n",
       "      <td>0.126189</td>\n",
       "    </tr>\n",
       "    <tr>\n",
       "      <th>2018</th>\n",
       "      <td>10.110912</td>\n",
       "      <td>460.784009</td>\n",
       "      <td>0.255059</td>\n",
       "    </tr>\n",
       "  </tbody>\n",
       "</table>\n",
       "</div>"
      ],
      "text/plain": [
       "      тыс.руб._x  тыс.руб._y  тыс.руб.\n",
       "год                                   \n",
       "2007    4.018463         NaN       NaN\n",
       "2008    3.681621         NaN       NaN\n",
       "2009    3.893243         NaN       NaN\n",
       "2010    4.893532         NaN       NaN\n",
       "2011   11.141791  236.747308       NaN\n",
       "2012   10.652444  297.983692  0.327478\n",
       "2013   11.260439  137.305207  0.591424\n",
       "2014   11.783833  501.676298  0.349193\n",
       "2015   12.801410  239.413255  0.053954\n",
       "2016   30.606531   99.236214  0.080144\n",
       "2017   58.843625  138.968980  0.126189\n",
       "2018   10.110912  460.784009  0.255059"
      ]
     },
     "execution_count": 23,
     "metadata": {},
     "output_type": "execute_result"
    }
   ],
   "source": [
    "all_company = transneft.merge(rosneft, on = 'год', how = 'outer').merge(trans_log, on = 'год', how = 'outer')/1000000\n",
    "all_company"
   ]
  },
  {
   "cell_type": "code",
   "execution_count": 26,
   "metadata": {},
   "outputs": [
    {
     "data": {
      "text/html": [
       "<div>\n",
       "<style scoped>\n",
       "    .dataframe tbody tr th:only-of-type {\n",
       "        vertical-align: middle;\n",
       "    }\n",
       "\n",
       "    .dataframe tbody tr th {\n",
       "        vertical-align: top;\n",
       "    }\n",
       "\n",
       "    .dataframe thead th {\n",
       "        text-align: right;\n",
       "    }\n",
       "</style>\n",
       "<table border=\"1\" class=\"dataframe\">\n",
       "  <thead>\n",
       "    <tr style=\"text-align: right;\">\n",
       "      <th></th>\n",
       "      <th>ПАО \"ТРАНСНЕФТЬ\"</th>\n",
       "      <th>ПАО \"НЕФТЯНАЯ КОМПАНИЯ \"РОСНЕФТЬ\"</th>\n",
       "      <th>ООО \"ТРАНСНЕФТЬ-ЛОГИСТИКА\"</th>\n",
       "    </tr>\n",
       "    <tr>\n",
       "      <th>год</th>\n",
       "      <th></th>\n",
       "      <th></th>\n",
       "      <th></th>\n",
       "    </tr>\n",
       "  </thead>\n",
       "  <tbody>\n",
       "    <tr>\n",
       "      <th>2007</th>\n",
       "      <td>4.018463</td>\n",
       "      <td>NaN</td>\n",
       "      <td>NaN</td>\n",
       "    </tr>\n",
       "    <tr>\n",
       "      <th>2008</th>\n",
       "      <td>3.681621</td>\n",
       "      <td>NaN</td>\n",
       "      <td>NaN</td>\n",
       "    </tr>\n",
       "    <tr>\n",
       "      <th>2009</th>\n",
       "      <td>3.893243</td>\n",
       "      <td>NaN</td>\n",
       "      <td>NaN</td>\n",
       "    </tr>\n",
       "    <tr>\n",
       "      <th>2010</th>\n",
       "      <td>4.893532</td>\n",
       "      <td>NaN</td>\n",
       "      <td>NaN</td>\n",
       "    </tr>\n",
       "    <tr>\n",
       "      <th>2011</th>\n",
       "      <td>11.141791</td>\n",
       "      <td>236.747308</td>\n",
       "      <td>NaN</td>\n",
       "    </tr>\n",
       "    <tr>\n",
       "      <th>2012</th>\n",
       "      <td>10.652444</td>\n",
       "      <td>297.983692</td>\n",
       "      <td>0.327478</td>\n",
       "    </tr>\n",
       "    <tr>\n",
       "      <th>2013</th>\n",
       "      <td>11.260439</td>\n",
       "      <td>137.305207</td>\n",
       "      <td>0.591424</td>\n",
       "    </tr>\n",
       "    <tr>\n",
       "      <th>2014</th>\n",
       "      <td>11.783833</td>\n",
       "      <td>501.676298</td>\n",
       "      <td>0.349193</td>\n",
       "    </tr>\n",
       "    <tr>\n",
       "      <th>2015</th>\n",
       "      <td>12.801410</td>\n",
       "      <td>239.413255</td>\n",
       "      <td>0.053954</td>\n",
       "    </tr>\n",
       "    <tr>\n",
       "      <th>2016</th>\n",
       "      <td>30.606531</td>\n",
       "      <td>99.236214</td>\n",
       "      <td>0.080144</td>\n",
       "    </tr>\n",
       "    <tr>\n",
       "      <th>2017</th>\n",
       "      <td>58.843625</td>\n",
       "      <td>138.968980</td>\n",
       "      <td>0.126189</td>\n",
       "    </tr>\n",
       "    <tr>\n",
       "      <th>2018</th>\n",
       "      <td>10.110912</td>\n",
       "      <td>460.784009</td>\n",
       "      <td>0.255059</td>\n",
       "    </tr>\n",
       "  </tbody>\n",
       "</table>\n",
       "</div>"
      ],
      "text/plain": [
       "      ПАО \"ТРАНСНЕФТЬ\"  ПАО \"НЕФТЯНАЯ КОМПАНИЯ \"РОСНЕФТЬ\"  \\\n",
       "год                                                         \n",
       "2007          4.018463                                NaN   \n",
       "2008          3.681621                                NaN   \n",
       "2009          3.893243                                NaN   \n",
       "2010          4.893532                                NaN   \n",
       "2011         11.141791                         236.747308   \n",
       "2012         10.652444                         297.983692   \n",
       "2013         11.260439                         137.305207   \n",
       "2014         11.783833                         501.676298   \n",
       "2015         12.801410                         239.413255   \n",
       "2016         30.606531                          99.236214   \n",
       "2017         58.843625                         138.968980   \n",
       "2018         10.110912                         460.784009   \n",
       "\n",
       "      ООО \"ТРАНСНЕФТЬ-ЛОГИСТИКА\"  \n",
       "год                               \n",
       "2007                         NaN  \n",
       "2008                         NaN  \n",
       "2009                         NaN  \n",
       "2010                         NaN  \n",
       "2011                         NaN  \n",
       "2012                    0.327478  \n",
       "2013                    0.591424  \n",
       "2014                    0.349193  \n",
       "2015                    0.053954  \n",
       "2016                    0.080144  \n",
       "2017                    0.126189  \n",
       "2018                    0.255059  "
      ]
     },
     "execution_count": 26,
     "metadata": {},
     "output_type": "execute_result"
    }
   ],
   "source": [
    "all_company.columns = company2, company3, company1\n",
    "all_company"
   ]
  },
  {
   "cell_type": "code",
   "execution_count": 38,
   "metadata": {},
   "outputs": [
    {
     "data": {
      "text/plain": [
       "<matplotlib.axes._subplots.AxesSubplot at 0x2a66ffdaf28>"
      ]
     },
     "execution_count": 38,
     "metadata": {},
     "output_type": "execute_result"
    },
    {
     "data": {
      "image/png": "[encoded data removed]",
      "text/plain": [
       "<Figure size 864x648 with 1 Axes>"
      ]
     },
     "metadata": {
      "needs_background": "light"
     },
     "output_type": "display_data"
    }
   ],
   "source": [
    "all_company.plot(kind='bar', width=1.47)"
   ]
  },
  {
   "cell_type": "markdown",
   "metadata": {},
   "source": [
    "#### Выводы\n",
    "\n",
    "Динамика чистой прибыли всех компаний исключительно положительная\n",
    "Уровень прибыли логистической компании абсолютно не соразмерен с нефтеными"
   ]
  },
  {
   "cell_type": "markdown",
   "metadata": {},
   "source": [
    "### График 4,5 \n",
    "\n",
    "Проанализировать подборку своих фильмом с кинопоиска с БД 280000 пользователей https://grouplens.org/datasets/movielens/).\n",
    "\n",
    "Выявить свои самые популярные жанры и сравнить с популярными жанрами БД.\n",
    "##### Основные предположение до построение: \n",
    "- Мой самый популярный жанр - Драма\n",
    "- Популярные жанры пользователей отлиются от моих, за исключением \"Драмы\""
   ]
  }
 ],
 "metadata": {
  "kernelspec": {
   "display_name": "Python 3",
   "language": "python",
   "name": "python3"
  },
  "language_info": {
   "codemirror_mode": {
    "name": "ipython",
    "version": 3
   },
   "file_extension": ".py",
   "mimetype": "text/x-python",
   "name": "python",
   "nbconvert_exporter": "python",
   "pygments_lexer": "ipython3",
   "version": "3.7.3"
  }
 },
 "nbformat": 4,
 "nbformat_minor": 2
}
